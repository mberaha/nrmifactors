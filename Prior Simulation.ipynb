{
 "cells": [
  {
   "cell_type": "code",
   "execution_count": 213,
   "id": "2012f42a",
   "metadata": {},
   "outputs": [],
   "source": [
    "import jax.numpy as jnp\n",
    "from jax import random, vmap\n",
    "import matplotlib.pyplot as plt"
   ]
  },
  {
   "cell_type": "code",
   "execution_count": 2,
   "id": "bead800c",
   "metadata": {},
   "outputs": [
    {
     "name": "stderr",
     "output_type": "stream",
     "text": [
      "WARNING:absl:No GPU/TPU found, falling back to CPU. (Set TF_CPP_MIN_LOG_LEVEL=0 and rerun for more info.)\n"
     ]
    }
   ],
   "source": [
    "key = random.PRNGKey(0)"
   ]
  },
  {
   "cell_type": "markdown",
   "id": "570d1f40",
   "metadata": {},
   "source": [
    "# Without Shrinkage"
   ]
  },
  {
   "cell_type": "code",
   "execution_count": 3,
   "id": "99c12506",
   "metadata": {},
   "outputs": [],
   "source": [
    "nrep = 1000\n",
    "out = []\n",
    "\n",
    "for h in [5, 50, 1000, 100000]:\n",
    "    key, subkey = random.split(key)\n",
    "    m = random.gamma(subkey, 1, shape=(nrep, h))\n",
    "    key, subkey = random.split(key)\n",
    "    lambdas = random.gamma(subkey, 1, shape=(nrep, 2, h))\n",
    "    num = vmap(jnp.dot)(lambdas[:, 0, :], m)\n",
    "    den = vmap(jnp.dot)(lambdas[:, 1, :], m)\n",
    "    out.append(num/den)"
   ]
  },
  {
   "cell_type": "code",
   "execution_count": 4,
   "id": "bb787eff",
   "metadata": {},
   "outputs": [
    {
     "data": {
      "image/png": "[encoded data removed]",
      "text/plain": [
       "<Figure size 432x288 with 1 Axes>"
      ]
     },
     "metadata": {
      "needs_background": "light"
     },
     "output_type": "display_data"
    }
   ],
   "source": [
    "import matplotlib.pyplot as plt\n",
    "\n",
    "out_iid = jnp.array(out)\n",
    "\n",
    "plt.fill_between([5, 50, 1000, 100000], \n",
    "                 jnp.quantile(out_iid, 0.025, axis=1), \n",
    "                 jnp.quantile(out_iid, 0.975, axis=1), alpha=0.3)\n",
    "plt.plot([5, 50, 1000, 100000], jnp.mean(out_iid, axis=1))\n",
    "plt.xscale(\"log\")\n",
    "plt.yscale(\"log\")\n",
    "\n",
    "plt.savefig(\"images/ratio_iid.pdf\")"
   ]
  },
  {
   "cell_type": "code",
   "execution_count": null,
   "id": "b6bf00fd",
   "metadata": {},
   "outputs": [],
   "source": [
    "out_iid = jnp.array(out)\n",
    "\n",
    "plt.fill_between([5, 50, 1000, 100000], \n",
    "                 jnp.quantile(out_iid, 0.025, axis=1), \n",
    "                 jnp.quantile(out_iid, 0.975, axis=1), alpha=0.3)\n",
    "plt.plot([5, 50, 1000, 100000], jnp.mean(out_iid, axis=1))\n",
    "plt.xscale(\"log\")\n",
    "\n",
    "plt.savefig(\"images/ratio_iid_exp.pdf\")"
   ]
  },
  {
   "cell_type": "code",
   "execution_count": 5,
   "id": "f68be864",
   "metadata": {},
   "outputs": [],
   "source": [
    "def simulate_mgp(h, key):\n",
    "    key, subkey = random.split(key)\n",
    "    tmp = random.gamma(subkey, 2, shape=(nrep, 2, h-1))\n",
    "    key, subkey = random.split(key)\n",
    "    last_col = random.gamma(subkey, 1, shape=(nrep, 2, 1)) \n",
    "    tmp = jnp.concatenate([tmp, last_col], axis=-1)\n",
    "    out = 1.0 / jnp.cumprod(tmp, axis=1)\n",
    "    return out, key"
   ]
  },
  {
   "cell_type": "code",
   "execution_count": 6,
   "id": "48ce6387",
   "metadata": {},
   "outputs": [],
   "source": [
    "nrep = 1000\n",
    "out = []\n",
    "\n",
    "for h in [5, 50, 1000, 100000]:\n",
    "    key, subkey = random.split(key)\n",
    "    m = random.gamma(subkey, 1, shape=(nrep, h))\n",
    "    lambdas, key = simulate_mgp(h, key)\n",
    "    num = vmap(jnp.dot)(lambdas[:, 0, :], m)\n",
    "    den = vmap(jnp.dot)(lambdas[:, 1, :], m)\n",
    "    out.append(num/den)"
   ]
  },
  {
   "cell_type": "code",
   "execution_count": 7,
   "id": "b36d17e4",
   "metadata": {},
   "outputs": [
    {
     "data": {
      "image/png": "[encoded data removed]",
      "text/plain": [
       "<Figure size 432x288 with 1 Axes>"
      ]
     },
     "metadata": {
      "needs_background": "light"
     },
     "output_type": "display_data"
    }
   ],
   "source": [
    "out_mgp = jnp.log(jnp.array(out))\n",
    "\n",
    "plt.fill_between([5, 50, 1000, 100000], \n",
    "                 jnp.quantile(out_mgp, 0.025, axis=1), \n",
    "                 jnp.quantile(out_mgp, 0.975, axis=1), alpha=0.3)\n",
    "plt.plot([5, 50, 1000, 100000], jnp.mean(out_mgp, axis=1))\n",
    "plt.xscale(\"log\")\n",
    "\n",
    "plt.savefig(\"images/ratio_mgp.pdf\")"
   ]
  },
  {
   "cell_type": "code",
   "execution_count": null,
   "id": "d49d24a4",
   "metadata": {},
   "outputs": [],
   "source": [
    "out_mgp = jnp.array(out)\n",
    "\n",
    "plt.fill_between([5, 50, 1000, 100000], \n",
    "                 jnp.quantile(out_mgp, 0.025, axis=1), \n",
    "                 jnp.quantile(out_mgp, 0.975, axis=1), alpha=0.3)\n",
    "plt.plot([5, 50, 1000, 100000], jnp.mean(out_mgp, axis=1))\n",
    "plt.xscale(\"log\")\n",
    "\n",
    "plt.savefig(\"images/ratio_mgp_exp.pdf\")"
   ]
  },
  {
   "cell_type": "code",
   "execution_count": 8,
   "id": "097e5e40",
   "metadata": {},
   "outputs": [],
   "source": [
    "from jax.scipy.stats import gamma\n",
    "\n",
    "def simulate_cusp(h, key):\n",
    "    key, subkey = random.split(key)\n",
    "    vs = random.beta(key, 1, 2, shape=(nrep, 2, h))\n",
    "    cumprods = jnp.concatenate([\n",
    "        jnp.ones(shape=(nrep, 2, 1)), \n",
    "        jnp.cumprod(1 - vs[:, :, :-1], axis=-1)], axis=-1)\n",
    "    omegas = vs * cumprods\n",
    "    pis = jnp.cumsum(omegas, axis=-1)\n",
    "    \n",
    "    key, subkey = random.split(key)\n",
    "    berns = random.bernoulli(key, p=pis)\n",
    "    \n",
    "    key, subkey = random.split(key)\n",
    "    inv_gams = 1.0 / random.gamma(key, 1.0, shape=(nrep, 2, h))\n",
    "    \n",
    "    out = (1-berns) * inv_gams + berns * 0.001\n",
    "    \n",
    "    return out, key"
   ]
  },
  {
   "cell_type": "code",
   "execution_count": 15,
   "id": "c0206be7",
   "metadata": {},
   "outputs": [],
   "source": [
    "nrep = 1000\n",
    "out = []\n",
    "\n",
    "for h in [5, 50, 1000, 100000]:\n",
    "    key, subkey = random.split(key)\n",
    "    m = random.gamma(subkey, 1, shape=(nrep, h))\n",
    "    lambdas, key = simulate_cusp(h, key)\n",
    "    num = vmap(jnp.dot)(lambdas[:, 0, :], m)\n",
    "    den = vmap(jnp.dot)(lambdas[:, 1, :], m)\n",
    "    out.append(num / den)"
   ]
  },
  {
   "cell_type": "code",
   "execution_count": 18,
   "id": "6e2bc5db",
   "metadata": {},
   "outputs": [
    {
     "data": {
      "image/png": "[encoded data removed]",
      "text/plain": [
       "<Figure size 432x288 with 1 Axes>"
      ]
     },
     "metadata": {
      "needs_background": "light"
     },
     "output_type": "display_data"
    }
   ],
   "source": [
    "out_cusp = jnp.log(jnp.array(out))\n",
    "\n",
    "plt.fill_between([5, 50, 1000, 100000], \n",
    "                 jnp.quantile(out_cusp, 0.025, axis=1), \n",
    "                 jnp.quantile(out_cusp, 0.975, axis=1), alpha=0.3)\n",
    "plt.plot([5, 50, 1000, 100000], jnp.mean(out_cusp, axis=1))\n",
    "plt.xscale(\"log\")\n",
    "plt.savefig(\"images/ratio_cusp.pdf\")"
   ]
  },
  {
   "cell_type": "code",
   "execution_count": 19,
   "id": "0859ebd9",
   "metadata": {},
   "outputs": [
    {
     "data": {
      "image/png": "[encoded data removed]",
      "text/plain": [
       "<Figure size 432x288 with 1 Axes>"
      ]
     },
     "metadata": {
      "needs_background": "light"
     },
     "output_type": "display_data"
    }
   ],
   "source": [
    "out_cusp = jnp.array(out)\n",
    "\n",
    "plt.fill_between([5, 50, 1000, 100000], \n",
    "                 jnp.quantile(out_cusp, 0.025, axis=1), \n",
    "                 jnp.quantile(out_cusp, 0.975, axis=1), alpha=0.3)\n",
    "plt.plot([5, 50, 1000, 100000], jnp.mean(out_cusp, axis=1))\n",
    "plt.xscale(\"log\")\n",
    "plt.savefig(\"images/ratio_cusp_exp.pdf\")"
   ]
  },
  {
   "cell_type": "markdown",
   "id": "21bb366f",
   "metadata": {},
   "source": [
    "# As a function of the variance of $\\Lambda$"
   ]
  },
  {
   "cell_type": "code",
   "execution_count": 26,
   "id": "dd7ec205",
   "metadata": {},
   "outputs": [
    {
     "name": "stdout",
     "output_type": "stream",
     "text": [
      "2.0 0.5\n",
      "1.0 1.0\n",
      "0.5 2.0\n",
      "0.2 5.0\n"
     ]
    }
   ],
   "source": [
    "nrep = 1000\n",
    "out = []\n",
    "\n",
    "h = 10\n",
    "\n",
    "var = [0.5, 1.0, 2.0, 5.0]\n",
    "for v in var:\n",
    "    scale = v\n",
    "    shape = 1.0 / v\n",
    "    print(shape, scale)\n",
    "    \n",
    "\n",
    "    key, subkey = random.split(key)\n",
    "    m = random.gamma(subkey, 1, shape=(nrep, h))\n",
    "    \n",
    "    key, subkey = random.split(key)\n",
    "    lambdas = scale * random.gamma(subkey, shape, shape=(nrep, 2, h))\n",
    "    \n",
    "    num = vmap(jnp.dot)(lambdas[:, 0, :], m)\n",
    "    den = vmap(jnp.dot)(lambdas[:, 1, :], m)\n",
    "    \n",
    "    out.append(num/den)"
   ]
  },
  {
   "cell_type": "code",
   "execution_count": 27,
   "id": "e7492106",
   "metadata": {},
   "outputs": [
    {
     "data": {
      "image/png": "[encoded data removed]",
      "text/plain": [
       "<Figure size 432x288 with 1 Axes>"
      ]
     },
     "metadata": {
      "needs_background": "light"
     },
     "output_type": "display_data"
    }
   ],
   "source": [
    "out_var = jnp.log(jnp.array(out))\n",
    "\n",
    "plt.fill_between(var, \n",
    "                 jnp.quantile(out_var, 0.025, axis=1), \n",
    "                 jnp.quantile(out_var, 0.975, axis=1), alpha=0.3)\n",
    "plt.plot(var, jnp.mean(out_var, axis=1))\n",
    "plt.savefig(\"images/ratio_variance.pdf\")"
   ]
  },
  {
   "cell_type": "code",
   "execution_count": 28,
   "id": "ead3fc4e",
   "metadata": {},
   "outputs": [
    {
     "data": {
      "image/png": "[encoded data removed]",
      "text/plain": [
       "<Figure size 432x288 with 1 Axes>"
      ]
     },
     "metadata": {
      "needs_background": "light"
     },
     "output_type": "display_data"
    }
   ],
   "source": [
    "out_var = jnp.array(out)\n",
    "\n",
    "plt.fill_between(var, \n",
    "                 jnp.quantile(out_var, 0.025, axis=1), \n",
    "                 jnp.quantile(out_var, 0.975, axis=1), alpha=0.3)\n",
    "plt.plot(var, jnp.mean(out_var, axis=1))\n",
    "plt.savefig(\"images/ratio_variance_exp.pdf\")"
   ]
  },
  {
   "cell_type": "markdown",
   "id": "7c6e7277",
   "metadata": {},
   "source": [
    "# Correlation Simulation"
   ]
  },
  {
   "cell_type": "code",
   "execution_count": 3,
   "id": "37474625",
   "metadata": {},
   "outputs": [],
   "source": [
    "from scipy.special import beta"
   ]
  },
  {
   "cell_type": "code",
   "execution_count": 160,
   "id": "29ce9def",
   "metadata": {},
   "outputs": [],
   "source": [
    "def first_term_cov(ma2, ma, ca, H, a1, a2, nu):\n",
    "    hrange = np.arange(1, H+1)\n",
    "    return ma2 * np.sum((a2 - 1)**(-hrange + 1) * (a2 - 2)**(-hrange + 1)) / \\\n",
    "         (a1 - 1) / (a1 - 2) * (nu / (nu - 2))**2\n",
    "\n",
    "\n",
    "def first_term_var(ma2, ma, ca, H, a1, a2, nu):\n",
    "    hrange = np.arange(1, H+1)\n",
    "    out = ma2 * np.sum((a2 - 1)**(-hrange + 1) * (a2 - 2)**(-hrange + 1))\n",
    "    out = out * nu**2 /((nu - 2)*(nu - 4))\n",
    "    return out / (a1 - 1) / (a1 - 2) \n",
    "\n",
    "\n",
    "def second_term(ma2, ma, ca, H, a1, a2, nu):\n",
    "    out = 0\n",
    "    for k in range(1, H+1):\n",
    "        for h in range(1, k):\n",
    "            out += (a2 - 1)**(-k+1) * (a2 - 2)**(-h + 1)\n",
    "\n",
    "    out = 2 * out * (ca + ma**2) / (a1 - 1) / (a1 - 2) * (nu / (nu - 2))**2\n",
    "    return out\n",
    "    \n",
    "    \n",
    "def third_term(ma2, ma, ca, H, a1, a2, nu):\n",
    "    out = 0\n",
    "    for k in range(1, H+1):\n",
    "        for h in range(1, H+1):\n",
    "            out += (a2 - 1)**(-h - k +1)\n",
    "\n",
    "    out = out * ma**2 * (a1 - 1)**(-2) * (nu / (nu - 2))**2\n",
    "    return out\n",
    "\n",
    "\n",
    "def cov_mgp(ma2, ma, ca, H, a1, a2, nu):\n",
    "    return first_term_cov(ma2, ma, ca, H, a1, a2, nu) + \\\n",
    "           second_term(ma2, ma, ca, H, a1, a2, nu) - \\\n",
    "           third_term(ma2, ma, ca, H, a1, a2, nu)\n",
    "\n",
    "\n",
    "def var_mgp(ma2, ma, ca, H, a1, a2, nu):\n",
    "    return first_term_var(ma2, ma, ca, H, a1, a2, nu) + \\\n",
    "           second_term(ma2, ma, ca, H, a1, a2, nu) - \\\n",
    "           third_term(ma2, ma, ca, H, a1, a2, nu)\n",
    "\n",
    "\n",
    "def corr_mgp(ma2, ma, ca, H, a1, a2, nu):\n",
    "    return cov_mgp(ma2, ma, ca, H, a1, a2, nu) / var_mgp(ma2, ma, ca, H, a1, a2, nu)"
   ]
  },
  {
   "cell_type": "code",
   "execution_count": 355,
   "id": "2d92c2f8",
   "metadata": {},
   "outputs": [
    {
     "data": {
      "text/plain": [
       "0.40555427640523467"
      ]
     },
     "execution_count": 355,
     "metadata": {},
     "output_type": "execute_result"
    }
   ],
   "source": [
    "ma = 0.9\n",
    "phi = 2\n",
    "mix = (ma + ma**2) * phi**2 * beta(1, phi)**2 * 3/2\n",
    "ca = mix - ma**2\n",
    "ma2 = ma**2 + ma\n",
    "H = 10\n",
    "nu = 5\n",
    "\n",
    "\n",
    "corr_mgp(ma2, ma, ca, H, 2.1, 10.1, nu)"
   ]
  },
  {
   "cell_type": "code",
   "execution_count": 405,
   "id": "308aa1d0",
   "metadata": {},
   "outputs": [],
   "source": [
    "a2_grid = np.linspace(2.1, 8, 100)\n",
    "nu_grid = np.linspace(4.1, 10, 100)\n",
    "\n",
    "X, Y = np.meshgrid(a2_grid, nu_grid)\n",
    "\n",
    "H = 10\n",
    "nu = 5\n",
    "phi = 2\n",
    "\n",
    "ma = 0.5\n",
    "ma2 = ma**2 + ma\n",
    "mix = (ma + ma**2) * phi**2 * beta(1, phi)**2 * 3/2\n",
    "ca = mix - ma**2\n",
    "\n",
    "corr1 = np.zeros((len(a2_grid), len(nu_grid)))\n",
    "corr2 = np.zeros((len(a2_grid), len(nu_grid)))\n",
    "corr3 = np.zeros((len(a2_grid), len(nu_grid)))\n",
    "\n",
    "for i in range(X.shape[0]):\n",
    "    for j in range(X.shape[1]):\n",
    "        a2 = X[i, j]\n",
    "        nu = Y[i, j]\n",
    "        corr1[i, j] = corr_mgp(ma2, ma, ca, 4, 2.1, a2, nu)\n",
    "        corr2[i, j] = corr_mgp(ma2, ma, ca, 8, 2.1, a2, nu)\n",
    "        corr3[i, j] = corr_mgp(ma2, ma, ca, 16, 2.1, a2, nu)"
   ]
  },
  {
   "cell_type": "code",
   "execution_count": 404,
   "id": "37c0562d",
   "metadata": {},
   "outputs": [
    {
     "name": "stdout",
     "output_type": "stream",
     "text": [
      "3.8878787878787877 7.07979797979798\n",
      "5.079797979797981 5.887878787878788\n"
     ]
    }
   ],
   "source": [
    "i = 30\n",
    "j = 50\n",
    "\n",
    "print(a2_grid[i], nu_grid[j])\n",
    "print(X[i, j], Y[i, j])"
   ]
  },
  {
   "cell_type": "code",
   "execution_count": 409,
   "id": "d852c37d",
   "metadata": {},
   "outputs": [
    {
     "data": {
      "image/png": "[encoded data removed]",
      "text/plain": [
       "<Figure size 1080x360 with 4 Axes>"
      ]
     },
     "metadata": {
      "needs_background": "light"
     },
     "output_type": "display_data"
    }
   ],
   "source": [
    "from mpl_toolkits.axes_grid1 import make_axes_locatable\n",
    "\n",
    "\n",
    "levels = np.linspace(0, 1, 11)\n",
    "\n",
    "fig, axes = plt.subplots(nrows=1, ncols=3, figsize=(15, 5))\n",
    "X, Y = np.meshgrid(a2_grid, nu_grid)\n",
    "axes[0].contourf(X, Y, corr1, levels=levels, vmin = 0, vmax = 1)\n",
    "im = axes[1].contourf(X, Y, corr2, levels=levels, vmin = 0, vmax = 1)\n",
    "im = axes[2].contourf(X, Y, corr3, levels=levels, vmin = 0, vmax = 1)\n",
    "\n",
    "fig.subplots_adjust(right=0.85)\n",
    "cbar_ax = fig.add_axes([0.88, 0.15, 0.02, 0.7])\n",
    "\n",
    "fig.colorbar(im, cax=cbar_ax, ticks=levels)\n",
    "plt.savefig(\"../latex/images/corr_mgp.pdf\", bbox_inches=\"tight\")"
   ]
  },
  {
   "cell_type": "markdown",
   "id": "00cac64f",
   "metadata": {},
   "source": [
    "### For the log-Gaussian process case"
   ]
  },
  {
   "cell_type": "code",
   "execution_count": 442,
   "id": "0e19557e",
   "metadata": {},
   "outputs": [],
   "source": [
    "import pickle\n",
    "\n",
    "idx1 = 249 # LA\n",
    "idx2 = 248 # LA\n",
    "idx3 = 106 # northern\n",
    "\n",
    "with open(\"income_data/california_puma_neighbors.pickle\", \"rb\") as fp:\n",
    "    W = pickle.load(fp)"
   ]
  },
  {
   "cell_type": "code",
   "execution_count": 443,
   "id": "6178feee",
   "metadata": {},
   "outputs": [],
   "source": [
    "def cov_lgmrf(ma2, ma, ca, H, mu, sig_i, sig_j, sig_ij):\n",
    "    va = (ma2 - ma**2)\n",
    "    out = H * va * np.exp(2 * mu + (sig_i + sig_j) / 2 + sig_ij)\n",
    "    out += H * (H - 1) * ca *np.exp(2 * mu + (sig_i + sig_j) / 2)\n",
    "    out += H * ma2 * np.exp(2 * mu + (sig_i + sig_j) / 2) * (np.exp(sig_ij) - 1)\n",
    "    return out\n",
    "\n",
    "\n",
    "def var_lgmrf(ma2, ma, ca, H, mu, sig):\n",
    "    va = (ma2 - ma**2)\n",
    "    out = H * va * np.exp(2 * mu + 2 * sig)\n",
    "    out += H * (H - 1) * ca * np.exp(2 * mu + sig)\n",
    "    out += H * ma2 * np.exp(2 * mu + sig) * (np.exp(sig) - 1)\n",
    "    return out\n",
    "\n",
    "\n",
    "def corr_lgmrf(ma2, ma, ca, H, mu, sig_i, sig_j, sig_ij):\n",
    "    out = cov_lgmrf(ma2, ma, ca, H, mu, sig_i, sig_j, sig_ij) \n",
    "    v1 = var_lgmrf(ma2, ma, ca, H, mu, sig_i)\n",
    "    v2 = var_lgmrf(ma2, ma, ca, H, mu, sig_j)\n",
    "    out = out / np.sqrt(v1 * v2)\n",
    "    return out"
   ]
  },
  {
   "cell_type": "code",
   "execution_count": 506,
   "id": "e97f4d4f",
   "metadata": {},
   "outputs": [
    {
     "data": {
      "text/plain": [
       "0.875"
      ]
     },
     "execution_count": 506,
     "metadata": {},
     "output_type": "execute_result"
    }
   ],
   "source": [
    "phi = 3\n",
    "ma = 0.5\n",
    "ma2 = ma**2 + ma\n",
    "mix = (ma + ma**2) * phi**2 * beta(1, phi)**2 * 3/2\n",
    "ca = mix - ma**2\n",
    "ca"
   ]
  },
  {
   "cell_type": "code",
   "execution_count": 508,
   "id": "5825c84b",
   "metadata": {},
   "outputs": [
    {
     "data": {
      "text/plain": [
       "1.0"
      ]
     },
     "execution_count": 508,
     "metadata": {},
     "output_type": "execute_result"
    }
   ],
   "source": [
    "phi**2 * beta(1, phi)**2"
   ]
  },
  {
   "cell_type": "code",
   "execution_count": 463,
   "id": "be3f0124",
   "metadata": {},
   "outputs": [],
   "source": [
    "rho_grid = np.linspace(0.0, 0.99, 100)\n",
    "tau_grid = np.linspace(0.1, 5, 100)\n",
    "\n",
    "X, Y = np.meshgrid(rho_grid, tau_grid)\n",
    "\n",
    "corr1_12 = np.zeros((len(rho_grid), len(tau_grid)))\n",
    "corr2_12 = np.zeros((len(rho_grid), len(tau_grid)))\n",
    "corr3_12 = np.zeros((len(rho_grid), len(tau_grid)))\n",
    "\n",
    "corr1_13 = np.zeros((len(rho_grid), len(tau_grid)))\n",
    "corr2_13 = np.zeros((len(rho_grid), len(tau_grid)))\n",
    "corr3_13 = np.zeros((len(rho_grid), len(tau_grid)))\n",
    "\n",
    "\n",
    "phi = 2\n",
    "ma = 0.5\n",
    "ma2 = ma**2 + ma\n",
    "mix = (ma + ma**2) * phi**2 * beta(1, phi)**2 * 3/2\n",
    "ca = mix - ma**2\n",
    "\n",
    "base_var = np.eye(3)\n",
    "idx1 = 0\n",
    "idx2 = 1\n",
    "idx3 = 2\n",
    "\n",
    "for i in range(X.shape[0]):\n",
    "    for j in range(X.shape[1]):\n",
    "        rho = X[i, j]\n",
    "        tau = Y[i, j]\n",
    "        base_var[0, 1] = rho\n",
    "        base_var[1, 0] = rho\n",
    "        var = base_var / tau    \n",
    "        \n",
    "        corr1_12[i, j] = corr_lgmrf(\n",
    "            ma2, ma, ca, 4, -np.log(4), var[idx1, idx1], var[idx2, idx2], var[idx1, idx2])\n",
    "        corr2_12[i, j] = corr_lgmrf(\n",
    "            ma2, ma, ca, 8, -np.log(8), var[idx1, idx1], var[idx2, idx2], var[idx1, idx2])\n",
    "        corr3_12[i, j] = corr_lgmrf(\n",
    "            ma2, ma, ca, 16, -np.log(16), var[idx1, idx1], var[idx2, idx2], var[idx1, idx2])\n",
    "        \n",
    "        corr1_13[i, j] = corr_lgmrf(\n",
    "            ma2, ma, ca, 4, -np.log(4), var[idx1, idx1], var[idx3, idx3], var[idx1, idx3])\n",
    "        corr2_13[i, j] = corr_lgmrf(\n",
    "            ma2, ma, ca, 8, -np.log(8), var[idx1, idx1], var[idx3, idx3], var[idx1, idx3])\n",
    "        corr3_13[i, j] = corr_lgmrf(\n",
    "            ma2, ma, ca, 16, -np.log(16), var[idx1, idx1], var[idx3, idx3], var[idx1, idx3])"
   ]
  },
  {
   "cell_type": "code",
   "execution_count": 495,
   "id": "a17709b3",
   "metadata": {},
   "outputs": [
    {
     "data": {
      "image/png": "[encoded data removed]",
      "text/plain": [
       "<Figure size 432x288 with 1 Axes>"
      ]
     },
     "metadata": {
      "needs_background": "light"
     },
     "output_type": "display_data"
    }
   ],
   "source": [
    "levels = np.concatenate([[0], plt.hist(np.ravel(corr3_13), bins=\"scott\")[1], [1]])"
   ]
  },
  {
   "cell_type": "code",
   "execution_count": 496,
   "id": "d69593c2",
   "metadata": {},
   "outputs": [
    {
     "data": {
      "image/png": "[encoded data removed]",
      "text/plain": [
       "<Figure size 1080x720 with 7 Axes>"
      ]
     },
     "metadata": {
      "needs_background": "light"
     },
     "output_type": "display_data"
    }
   ],
   "source": [
    "from mpl_toolkits.axes_grid1 import make_axes_locatable\n",
    "\n",
    "\n",
    "fig, axes = plt.subplots(nrows=2, ncols=3, figsize=(15, 10))\n",
    "X, Y = np.meshgrid(rho_grid, tau_grid)\n",
    "\n",
    "axes[0, 0].contourf(X, Y, corr1_12, levels=levels, vmin = 0, vmax = 1)\n",
    "axes[0, 1].contourf(X, Y, corr2_12, levels=levels, vmin = 0, vmax = 1)\n",
    "axes[0, 2].contourf(X, Y, corr3_12, levels=levels, vmin = 0, vmax = 1)\n",
    "\n",
    "axes[1, 0].contourf(X, Y, corr1_13, levels=levels, vmin = 0, vmax = 1)\n",
    "axes[1, 1].contourf(X, Y, corr2_13, levels=levels, vmin = 0, vmax = 1)\n",
    "axes[1, 2].contourf(X, Y, corr3_13, levels=levels, vmin = 0, vmax = 1)\n",
    "\n",
    "fig.subplots_adjust(right=0.85)\n",
    "cbar_ax = fig.add_axes([0.88, 0.15, 0.02, 0.7])\n",
    "\n",
    "fig.colorbar(im, cax=cbar_ax)\n",
    "\n",
    "plt.savefig(\"../latex/images/corr_lgmrf.pdf\", bbox_inches=\"tight\")"
   ]
  }
 ],
 "metadata": {
  "kernelspec": {
   "display_name": "Python 3 (ipykernel)",
   "language": "python",
   "name": "python3"
  },
  "language_info": {
   "codemirror_mode": {
    "name": "ipython",
    "version": 3
   },
   "file_extension": ".py",
   "mimetype": "text/x-python",
   "name": "python",
   "nbconvert_exporter": "python",
   "pygments_lexer": "ipython3",
   "version": "3.10.2"
  }
 },
 "nbformat": 4,
 "nbformat_minor": 5
}
