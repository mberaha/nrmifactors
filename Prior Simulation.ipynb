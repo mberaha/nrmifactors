{
 "cells": [
  {
   "cell_type": "code",
   "execution_count": 1,
   "id": "2012f42a",
   "metadata": {},
   "outputs": [],
   "source": [
    "import jax.numpy as jnp\n",
    "from jax import random, vmap"
   ]
  },
  {
   "cell_type": "code",
   "execution_count": 2,
   "id": "bead800c",
   "metadata": {},
   "outputs": [
    {
     "name": "stderr",
     "output_type": "stream",
     "text": [
      "WARNING:absl:No GPU/TPU found, falling back to CPU. (Set TF_CPP_MIN_LOG_LEVEL=0 and rerun for more info.)\n"
     ]
    }
   ],
   "source": [
    "key = random.PRNGKey(0)"
   ]
  },
  {
   "cell_type": "markdown",
   "id": "570d1f40",
   "metadata": {},
   "source": [
    "# Without Shrinkage"
   ]
  },
  {
   "cell_type": "code",
   "execution_count": 3,
   "id": "99c12506",
   "metadata": {},
   "outputs": [],
   "source": [
    "nrep = 1000\n",
    "out = []\n",
    "\n",
    "for h in [5, 50, 1000, 100000]:\n",
    "    key, subkey = random.split(key)\n",
    "    m = random.gamma(subkey, 1, shape=(nrep, h))\n",
    "    key, subkey = random.split(key)\n",
    "    lambdas = random.gamma(subkey, 1, shape=(nrep, 2, h))\n",
    "    num = vmap(jnp.dot)(lambdas[:, 0, :], m)\n",
    "    den = vmap(jnp.dot)(lambdas[:, 1, :], m)\n",
    "    out.append(num/den)"
   ]
  },
  {
   "cell_type": "code",
   "execution_count": 4,
   "id": "bb787eff",
   "metadata": {},
   "outputs": [
    {
     "data": {
      "image/png": "[encoded data removed]",
      "text/plain": [
       "<Figure size 432x288 with 1 Axes>"
      ]
     },
     "metadata": {
      "needs_background": "light"
     },
     "output_type": "display_data"
    }
   ],
   "source": [
    "import matplotlib.pyplot as plt\n",
    "\n",
    "out_iid = jnp.array(out)\n",
    "\n",
    "plt.fill_between([5, 50, 1000, 100000], \n",
    "                 jnp.quantile(out_iid, 0.025, axis=1), \n",
    "                 jnp.quantile(out_iid, 0.975, axis=1), alpha=0.3)\n",
    "plt.plot([5, 50, 1000, 100000], jnp.mean(out_iid, axis=1))\n",
    "plt.xscale(\"log\")\n",
    "plt.yscale(\"log\")\n",
    "\n",
    "plt.savefig(\"images/ratio_iid.pdf\")"
   ]
  },
  {
   "cell_type": "code",
   "execution_count": null,
   "id": "b6bf00fd",
   "metadata": {},
   "outputs": [],
   "source": [
    "out_iid = jnp.array(out)\n",
    "\n",
    "plt.fill_between([5, 50, 1000, 100000], \n",
    "                 jnp.quantile(out_iid, 0.025, axis=1), \n",
    "                 jnp.quantile(out_iid, 0.975, axis=1), alpha=0.3)\n",
    "plt.plot([5, 50, 1000, 100000], jnp.mean(out_iid, axis=1))\n",
    "plt.xscale(\"log\")\n",
    "\n",
    "plt.savefig(\"images/ratio_iid_exp.pdf\")"
   ]
  },
  {
   "cell_type": "code",
   "execution_count": 5,
   "id": "f68be864",
   "metadata": {},
   "outputs": [],
   "source": [
    "def simulate_mgp(h, key):\n",
    "    key, subkey = random.split(key)\n",
    "    tmp = random.gamma(subkey, 2, shape=(nrep, 2, h-1))\n",
    "    key, subkey = random.split(key)\n",
    "    last_col = random.gamma(subkey, 1, shape=(nrep, 2, 1)) \n",
    "    tmp = jnp.concatenate([tmp, last_col], axis=-1)\n",
    "    out = 1.0 / jnp.cumprod(tmp, axis=1)\n",
    "    return out, key"
   ]
  },
  {
   "cell_type": "code",
   "execution_count": 6,
   "id": "48ce6387",
   "metadata": {},
   "outputs": [],
   "source": [
    "nrep = 1000\n",
    "out = []\n",
    "\n",
    "for h in [5, 50, 1000, 100000]:\n",
    "    key, subkey = random.split(key)\n",
    "    m = random.gamma(subkey, 1, shape=(nrep, h))\n",
    "    lambdas, key = simulate_mgp(h, key)\n",
    "    num = vmap(jnp.dot)(lambdas[:, 0, :], m)\n",
    "    den = vmap(jnp.dot)(lambdas[:, 1, :], m)\n",
    "    out.append(num/den)"
   ]
  },
  {
   "cell_type": "code",
   "execution_count": 7,
   "id": "b36d17e4",
   "metadata": {},
   "outputs": [
    {
     "data": {
      "image/png": "[encoded data removed]",
      "text/plain": [
       "<Figure size 432x288 with 1 Axes>"
      ]
     },
     "metadata": {
      "needs_background": "light"
     },
     "output_type": "display_data"
    }
   ],
   "source": [
    "out_mgp = jnp.log(jnp.array(out))\n",
    "\n",
    "plt.fill_between([5, 50, 1000, 100000], \n",
    "                 jnp.quantile(out_mgp, 0.025, axis=1), \n",
    "                 jnp.quantile(out_mgp, 0.975, axis=1), alpha=0.3)\n",
    "plt.plot([5, 50, 1000, 100000], jnp.mean(out_mgp, axis=1))\n",
    "plt.xscale(\"log\")\n",
    "\n",
    "plt.savefig(\"images/ratio_mgp.pdf\")"
   ]
  },
  {
   "cell_type": "code",
   "execution_count": null,
   "id": "d49d24a4",
   "metadata": {},
   "outputs": [],
   "source": [
    "out_mgp = jnp.array(out)\n",
    "\n",
    "plt.fill_between([5, 50, 1000, 100000], \n",
    "                 jnp.quantile(out_mgp, 0.025, axis=1), \n",
    "                 jnp.quantile(out_mgp, 0.975, axis=1), alpha=0.3)\n",
    "plt.plot([5, 50, 1000, 100000], jnp.mean(out_mgp, axis=1))\n",
    "plt.xscale(\"log\")\n",
    "\n",
    "plt.savefig(\"images/ratio_mgp_exp.pdf\")"
   ]
  },
  {
   "cell_type": "code",
   "execution_count": 8,
   "id": "097e5e40",
   "metadata": {},
   "outputs": [],
   "source": [
    "from jax.scipy.stats import gamma\n",
    "\n",
    "def simulate_cusp(h, key):\n",
    "    key, subkey = random.split(key)\n",
    "    vs = random.beta(key, 1, 2, shape=(nrep, 2, h))\n",
    "    cumprods = jnp.concatenate([\n",
    "        jnp.ones(shape=(nrep, 2, 1)), \n",
    "        jnp.cumprod(1 - vs[:, :, :-1], axis=-1)], axis=-1)\n",
    "    omegas = vs * cumprods\n",
    "    pis = jnp.cumsum(omegas, axis=-1)\n",
    "    \n",
    "    key, subkey = random.split(key)\n",
    "    berns = random.bernoulli(key, p=pis)\n",
    "    \n",
    "    key, subkey = random.split(key)\n",
    "    inv_gams = 1.0 / random.gamma(key, 1.0, shape=(nrep, 2, h))\n",
    "    \n",
    "    out = (1-berns) * inv_gams + berns * 0.001\n",
    "    \n",
    "    return out, key"
   ]
  },
  {
   "cell_type": "code",
   "execution_count": 15,
   "id": "c0206be7",
   "metadata": {},
   "outputs": [],
   "source": [
    "nrep = 1000\n",
    "out = []\n",
    "\n",
    "for h in [5, 50, 1000, 100000]:\n",
    "    key, subkey = random.split(key)\n",
    "    m = random.gamma(subkey, 1, shape=(nrep, h))\n",
    "    lambdas, key = simulate_cusp(h, key)\n",
    "    num = vmap(jnp.dot)(lambdas[:, 0, :], m)\n",
    "    den = vmap(jnp.dot)(lambdas[:, 1, :], m)\n",
    "    out.append(num / den)"
   ]
  },
  {
   "cell_type": "code",
   "execution_count": 18,
   "id": "6e2bc5db",
   "metadata": {},
   "outputs": [
    {
     "data": {
      "image/png": "[encoded data removed]",
      "text/plain": [
       "<Figure size 432x288 with 1 Axes>"
      ]
     },
     "metadata": {
      "needs_background": "light"
     },
     "output_type": "display_data"
    }
   ],
   "source": [
    "out_cusp = jnp.log(jnp.array(out))\n",
    "\n",
    "plt.fill_between([5, 50, 1000, 100000], \n",
    "                 jnp.quantile(out_cusp, 0.025, axis=1), \n",
    "                 jnp.quantile(out_cusp, 0.975, axis=1), alpha=0.3)\n",
    "plt.plot([5, 50, 1000, 100000], jnp.mean(out_cusp, axis=1))\n",
    "plt.xscale(\"log\")\n",
    "plt.savefig(\"images/ratio_cusp.pdf\")"
   ]
  },
  {
   "cell_type": "code",
   "execution_count": 19,
   "id": "0859ebd9",
   "metadata": {},
   "outputs": [
    {
     "data": {
      "image/png": "[encoded data removed]",
      "text/plain": [
       "<Figure size 432x288 with 1 Axes>"
      ]
     },
     "metadata": {
      "needs_background": "light"
     },
     "output_type": "display_data"
    }
   ],
   "source": [
    "out_cusp = jnp.array(out)\n",
    "\n",
    "plt.fill_between([5, 50, 1000, 100000], \n",
    "                 jnp.quantile(out_cusp, 0.025, axis=1), \n",
    "                 jnp.quantile(out_cusp, 0.975, axis=1), alpha=0.3)\n",
    "plt.plot([5, 50, 1000, 100000], jnp.mean(out_cusp, axis=1))\n",
    "plt.xscale(\"log\")\n",
    "plt.savefig(\"images/ratio_cusp_exp.pdf\")"
   ]
  },
  {
   "cell_type": "markdown",
   "id": "21bb366f",
   "metadata": {},
   "source": [
    "# As a function of the variance of $\\Lambda$"
   ]
  },
  {
   "cell_type": "code",
   "execution_count": 26,
   "id": "dd7ec205",
   "metadata": {},
   "outputs": [
    {
     "name": "stdout",
     "output_type": "stream",
     "text": [
      "2.0 0.5\n",
      "1.0 1.0\n",
      "0.5 2.0\n",
      "0.2 5.0\n"
     ]
    }
   ],
   "source": [
    "nrep = 1000\n",
    "out = []\n",
    "\n",
    "h = 10\n",
    "\n",
    "var = [0.5, 1.0, 2.0, 5.0]\n",
    "for v in var:\n",
    "    scale = v\n",
    "    shape = 1.0 / v\n",
    "    print(shape, scale)\n",
    "    \n",
    "\n",
    "    key, subkey = random.split(key)\n",
    "    m = random.gamma(subkey, 1, shape=(nrep, h))\n",
    "    \n",
    "    key, subkey = random.split(key)\n",
    "    lambdas = scale * random.gamma(subkey, shape, shape=(nrep, 2, h))\n",
    "    \n",
    "    num = vmap(jnp.dot)(lambdas[:, 0, :], m)\n",
    "    den = vmap(jnp.dot)(lambdas[:, 1, :], m)\n",
    "    \n",
    "    out.append(num/den)"
   ]
  },
  {
   "cell_type": "code",
   "execution_count": 27,
   "id": "e7492106",
   "metadata": {},
   "outputs": [
    {
     "data": {
      "image/png": "[encoded data removed]",
      "text/plain": [
       "<Figure size 432x288 with 1 Axes>"
      ]
     },
     "metadata": {
      "needs_background": "light"
     },
     "output_type": "display_data"
    }
   ],
   "source": [
    "out_var = jnp.log(jnp.array(out))\n",
    "\n",
    "plt.fill_between(var, \n",
    "                 jnp.quantile(out_var, 0.025, axis=1), \n",
    "                 jnp.quantile(out_var, 0.975, axis=1), alpha=0.3)\n",
    "plt.plot(var, jnp.mean(out_var, axis=1))\n",
    "plt.savefig(\"images/ratio_variance.pdf\")"
   ]
  },
  {
   "cell_type": "code",
   "execution_count": 28,
   "id": "ead3fc4e",
   "metadata": {},
   "outputs": [
    {
     "data": {
      "image/png": "[encoded data removed]",
      "text/plain": [
       "<Figure size 432x288 with 1 Axes>"
      ]
     },
     "metadata": {
      "needs_background": "light"
     },
     "output_type": "display_data"
    }
   ],
   "source": [
    "out_var = jnp.array(out)\n",
    "\n",
    "plt.fill_between(var, \n",
    "                 jnp.quantile(out_var, 0.025, axis=1), \n",
    "                 jnp.quantile(out_var, 0.975, axis=1), alpha=0.3)\n",
    "plt.plot(var, jnp.mean(out_var, axis=1))\n",
    "plt.savefig(\"images/ratio_variance_exp.pdf\")"
   ]
  },
  {
   "cell_type": "code",
   "execution_count": null,
   "id": "837a3a54",
   "metadata": {},
   "outputs": [],
   "source": []
  }
 ],
 "metadata": {
  "kernelspec": {
   "display_name": "Python 3",
   "language": "python",
   "name": "python3"
  },
  "language_info": {
   "codemirror_mode": {
    "name": "ipython",
    "version": 3
   },
   "file_extension": ".py",
   "mimetype": "text/x-python",
   "name": "python",
   "nbconvert_exporter": "python",
   "pygments_lexer": "ipython3",
   "version": "3.9.10"
  }
 },
 "nbformat": 4,
 "nbformat_minor": 5
}
