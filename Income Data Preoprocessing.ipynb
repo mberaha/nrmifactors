{
 "cells": [
  {
   "cell_type": "code",
   "execution_count": null,
   "id": "ad14ae25",
   "metadata": {},
   "outputs": [],
   "source": [
    "import pandas as pd\n",
    "import numpy as np\n",
    "import matplotlib.pyplot as plt"
   ]
  },
  {
   "cell_type": "code",
   "execution_count": 12,
   "id": "e3923efd",
   "metadata": {},
   "outputs": [
    {
     "data": {
      "text/html": [
       "<div>\n",
       "<style scoped>\n",
       "    .dataframe tbody tr th:only-of-type {\n",
       "        vertical-align: middle;\n",
       "    }\n",
       "\n",
       "    .dataframe tbody tr th {\n",
       "        vertical-align: top;\n",
       "    }\n",
       "\n",
       "    .dataframe thead th {\n",
       "        text-align: right;\n",
       "    }\n",
       "</style>\n",
       "<table border=\"1\" class=\"dataframe\">\n",
       "  <thead>\n",
       "    <tr style=\"text-align: right;\">\n",
       "      <th></th>\n",
       "      <th>RT</th>\n",
       "      <th>SERIALNO</th>\n",
       "      <th>DIVISION</th>\n",
       "      <th>SPORDER</th>\n",
       "      <th>PUMA</th>\n",
       "      <th>REGION</th>\n",
       "      <th>ST</th>\n",
       "      <th>ADJINC</th>\n",
       "      <th>PWGTP</th>\n",
       "      <th>AGEP</th>\n",
       "      <th>...</th>\n",
       "      <th>PWGTP71</th>\n",
       "      <th>PWGTP72</th>\n",
       "      <th>PWGTP73</th>\n",
       "      <th>PWGTP74</th>\n",
       "      <th>PWGTP75</th>\n",
       "      <th>PWGTP76</th>\n",
       "      <th>PWGTP77</th>\n",
       "      <th>PWGTP78</th>\n",
       "      <th>PWGTP79</th>\n",
       "      <th>PWGTP80</th>\n",
       "    </tr>\n",
       "  </thead>\n",
       "  <tbody>\n",
       "    <tr>\n",
       "      <th>0</th>\n",
       "      <td>P</td>\n",
       "      <td>2020GQ0000016</td>\n",
       "      <td>9</td>\n",
       "      <td>1</td>\n",
       "      <td>8103</td>\n",
       "      <td>4</td>\n",
       "      <td>6</td>\n",
       "      <td>1006149</td>\n",
       "      <td>15</td>\n",
       "      <td>94</td>\n",
       "      <td>...</td>\n",
       "      <td>15</td>\n",
       "      <td>29</td>\n",
       "      <td>14</td>\n",
       "      <td>1</td>\n",
       "      <td>2</td>\n",
       "      <td>1</td>\n",
       "      <td>15</td>\n",
       "      <td>15</td>\n",
       "      <td>15</td>\n",
       "      <td>1</td>\n",
       "    </tr>\n",
       "    <tr>\n",
       "      <th>1</th>\n",
       "      <td>P</td>\n",
       "      <td>2020GQ0000023</td>\n",
       "      <td>9</td>\n",
       "      <td>1</td>\n",
       "      <td>3100</td>\n",
       "      <td>4</td>\n",
       "      <td>6</td>\n",
       "      <td>1006149</td>\n",
       "      <td>33</td>\n",
       "      <td>45</td>\n",
       "      <td>...</td>\n",
       "      <td>34</td>\n",
       "      <td>34</td>\n",
       "      <td>33</td>\n",
       "      <td>57</td>\n",
       "      <td>33</td>\n",
       "      <td>7</td>\n",
       "      <td>59</td>\n",
       "      <td>32</td>\n",
       "      <td>59</td>\n",
       "      <td>57</td>\n",
       "    </tr>\n",
       "    <tr>\n",
       "      <th>2</th>\n",
       "      <td>P</td>\n",
       "      <td>2020GQ0000039</td>\n",
       "      <td>9</td>\n",
       "      <td>1</td>\n",
       "      <td>7310</td>\n",
       "      <td>4</td>\n",
       "      <td>6</td>\n",
       "      <td>1006149</td>\n",
       "      <td>79</td>\n",
       "      <td>28</td>\n",
       "      <td>...</td>\n",
       "      <td>78</td>\n",
       "      <td>76</td>\n",
       "      <td>6</td>\n",
       "      <td>74</td>\n",
       "      <td>154</td>\n",
       "      <td>82</td>\n",
       "      <td>5</td>\n",
       "      <td>7</td>\n",
       "      <td>74</td>\n",
       "      <td>80</td>\n",
       "    </tr>\n",
       "    <tr>\n",
       "      <th>3</th>\n",
       "      <td>P</td>\n",
       "      <td>2020GQ0000044</td>\n",
       "      <td>9</td>\n",
       "      <td>1</td>\n",
       "      <td>2901</td>\n",
       "      <td>4</td>\n",
       "      <td>6</td>\n",
       "      <td>1006149</td>\n",
       "      <td>135</td>\n",
       "      <td>33</td>\n",
       "      <td>...</td>\n",
       "      <td>135</td>\n",
       "      <td>135</td>\n",
       "      <td>31</td>\n",
       "      <td>134</td>\n",
       "      <td>31</td>\n",
       "      <td>134</td>\n",
       "      <td>136</td>\n",
       "      <td>131</td>\n",
       "      <td>236</td>\n",
       "      <td>237</td>\n",
       "    </tr>\n",
       "    <tr>\n",
       "      <th>4</th>\n",
       "      <td>P</td>\n",
       "      <td>2020GQ0000070</td>\n",
       "      <td>9</td>\n",
       "      <td>1</td>\n",
       "      <td>3100</td>\n",
       "      <td>4</td>\n",
       "      <td>6</td>\n",
       "      <td>1006149</td>\n",
       "      <td>25</td>\n",
       "      <td>44</td>\n",
       "      <td>...</td>\n",
       "      <td>45</td>\n",
       "      <td>25</td>\n",
       "      <td>26</td>\n",
       "      <td>45</td>\n",
       "      <td>44</td>\n",
       "      <td>25</td>\n",
       "      <td>44</td>\n",
       "      <td>43</td>\n",
       "      <td>25</td>\n",
       "      <td>5</td>\n",
       "    </tr>\n",
       "  </tbody>\n",
       "</table>\n",
       "<p>5 rows × 288 columns</p>\n",
       "</div>"
      ],
      "text/plain": [
       "  RT       SERIALNO  DIVISION  SPORDER  PUMA  REGION  ST   ADJINC  PWGTP  \\\n",
       "0  P  2020GQ0000016         9        1  8103       4   6  1006149     15   \n",
       "1  P  2020GQ0000023         9        1  3100       4   6  1006149     33   \n",
       "2  P  2020GQ0000039         9        1  7310       4   6  1006149     79   \n",
       "3  P  2020GQ0000044         9        1  2901       4   6  1006149    135   \n",
       "4  P  2020GQ0000070         9        1  3100       4   6  1006149     25   \n",
       "\n",
       "   AGEP  ...  PWGTP71  PWGTP72  PWGTP73  PWGTP74  PWGTP75  PWGTP76  PWGTP77  \\\n",
       "0    94  ...       15       29       14        1        2        1       15   \n",
       "1    45  ...       34       34       33       57       33        7       59   \n",
       "2    28  ...       78       76        6       74      154       82        5   \n",
       "3    33  ...      135      135       31      134       31      134      136   \n",
       "4    44  ...       45       25       26       45       44       25       44   \n",
       "\n",
       "   PWGTP78  PWGTP79  PWGTP80  \n",
       "0       15       15        1  \n",
       "1       32       59       57  \n",
       "2        7       74       80  \n",
       "3      131      236      237  \n",
       "4       43       25        5  \n",
       "\n",
       "[5 rows x 288 columns]"
      ]
     },
     "execution_count": 12,
     "metadata": {},
     "output_type": "execute_result"
    }
   ],
   "source": [
    "df = pd.read_csv(\"csv_pca/psam_p06.csv\")\n",
    "df.head()"
   ]
  },
  {
   "cell_type": "code",
   "execution_count": 13,
   "id": "dc18b534",
   "metadata": {},
   "outputs": [
    {
     "data": {
      "text/plain": [
       "303788"
      ]
     },
     "execution_count": 13,
     "metadata": {},
     "output_type": "execute_result"
    }
   ],
   "source": [
    "len(df)"
   ]
  },
  {
   "cell_type": "code",
   "execution_count": 14,
   "id": "376cf925",
   "metadata": {},
   "outputs": [
    {
     "data": {
      "text/plain": [
       "265"
      ]
     },
     "execution_count": 14,
     "metadata": {},
     "output_type": "execute_result"
    }
   ],
   "source": [
    "len(np.unique(df.PUMA.values))"
   ]
  },
  {
   "cell_type": "code",
   "execution_count": 15,
   "id": "8b076d90",
   "metadata": {},
   "outputs": [],
   "source": [
    "INCOME_COL = \"PINCP\"\n",
    "AGE_COL = \"AGEP\""
   ]
  },
  {
   "cell_type": "code",
   "execution_count": 16,
   "id": "162eb9ef",
   "metadata": {},
   "outputs": [],
   "source": [
    "df = df[df[INCOME_COL] != 0.0]"
   ]
  },
  {
   "cell_type": "code",
   "execution_count": 17,
   "id": "79a7b08a",
   "metadata": {},
   "outputs": [
    {
     "data": {
      "image/png": "[encoded data removed]",
      "text/plain": [
       "<Figure size 432x288 with 1 Axes>"
      ]
     },
     "metadata": {
      "needs_background": "light"
     },
     "output_type": "display_data"
    }
   ],
   "source": [
    "currdf = df[df[\"PUMA\"] == 8103]\n",
    "plt.scatter(currdf[AGE_COL], currdf[INCOME_COL])\n",
    "\n",
    "currdf = df[df[\"PUMA\"] == 3100]\n",
    "plt.scatter(currdf[AGE_COL], currdf[INCOME_COL])\n",
    "\n",
    "currdf = df[df[\"PUMA\"] == 2901]\n",
    "plt.scatter(currdf[AGE_COL], currdf[INCOME_COL])\n",
    "\n",
    "currdf = df[df[\"PUMA\"] == 2901]\n",
    "plt.scatter(currdf[AGE_COL], currdf[INCOME_COL])\n",
    "\n",
    "plt.yscale(\"log\")"
   ]
  },
  {
   "cell_type": "code",
   "execution_count": 18,
   "id": "6916bb63",
   "metadata": {},
   "outputs": [],
   "source": [
    "avg_incomes = []\n",
    "avg_ages = []\n",
    "std_incomes = []\n",
    "std_ages = []\n",
    "\n",
    "for puma in np.unique(df.PUMA.values):\n",
    "    currdf = df[df[\"PUMA\"] == puma]\n",
    "    incomes = currdf[INCOME_COL].values\n",
    "    avg_incomes.append(np.nanmean(incomes))\n",
    "    std_incomes.append(np.nanstd(incomes))\n",
    "    ages = currdf[AGE_COL].values\n",
    "    avg_ages.append(np.nanmean(ages))\n",
    "    std_ages.append(np.nanstd(ages))"
   ]
  },
  {
   "cell_type": "code",
   "execution_count": 19,
   "id": "495a3569",
   "metadata": {},
   "outputs": [
    {
     "data": {
      "image/png": "[encoded data removed]",
      "text/plain": [
       "<Figure size 432x288 with 1 Axes>"
      ]
     },
     "metadata": {
      "needs_background": "light"
     },
     "output_type": "display_data"
    }
   ],
   "source": [
    "plt.scatter(avg_ages, avg_incomes, color=\"r\")\n",
    "plt.title(\"AVG AGE vs AVG INCOME per PUMA\")\n",
    "plt.show()"
   ]
  },
  {
   "cell_type": "code",
   "execution_count": 20,
   "id": "34ef6785",
   "metadata": {},
   "outputs": [
    {
     "data": {
      "image/png": "[encoded data removed]",
      "text/plain": [
       "<Figure size 432x288 with 1 Axes>"
      ]
     },
     "metadata": {
      "needs_background": "light"
     },
     "output_type": "display_data"
    }
   ],
   "source": [
    "plt.scatter(std_ages, std_incomes)\n",
    "plt.title(\"STD AGE vs STD INCOME per PUMA\")\n",
    "plt.show()"
   ]
  },
  {
   "cell_type": "code",
   "execution_count": 21,
   "id": "530b5aaf",
   "metadata": {},
   "outputs": [
    {
     "data": {
      "image/png": "[encoded data removed]",
      "text/plain": [
       "<Figure size 432x288 with 1 Axes>"
      ]
     },
     "metadata": {
      "needs_background": "light"
     },
     "output_type": "display_data"
    }
   ],
   "source": [
    "import seaborn as sns\n",
    "fig = plt.figure()\n",
    "ax = fig.add_subplot(111)\n",
    "\n",
    "for puma in np.unique(df.PUMA.values):\n",
    "    currdf = df[df[\"PUMA\"] == puma]\n",
    "    incomes = currdf[INCOME_COL].values\n",
    "    sns.kdeplot(np.log(incomes[incomes > 0]), ax=ax, alpha=0.3)"
   ]
  },
  {
   "cell_type": "code",
   "execution_count": 22,
   "id": "cfea862d",
   "metadata": {},
   "outputs": [],
   "source": [
    "import shapefile as shp"
   ]
  },
  {
   "cell_type": "code",
   "execution_count": 23,
   "id": "5b6f63bf",
   "metadata": {},
   "outputs": [
    {
     "data": {
      "image/png": "[encoded data removed]",
      "text/plain": [
       "<Figure size 432x288 with 1 Axes>"
      ]
     },
     "metadata": {
      "needs_background": "light"
     },
     "output_type": "display_data"
    }
   ],
   "source": [
    "sf = shp.Reader(\"csv_pca/ipums_puma_2010/ipums_puma_2010.shp\")\n",
    "\n",
    "plt.figure()\n",
    "kept = 0\n",
    "ids = []\n",
    "\n",
    "for shape in sf.shapeRecords():\n",
    "    if shape.record[4] != \"California\":\n",
    "        continue\n",
    "    \n",
    "    kept += 1\n",
    "    ids.append(int(shape.record[5]))\n",
    "    x = [i[0] for i in shape.shape.points[:]]\n",
    "    y = [i[1] for i in shape.shape.points[:]]\n",
    "    plt.plot(x,y)\n",
    "plt.show()"
   ]
  },
  {
   "cell_type": "code",
   "execution_count": 24,
   "id": "6a5da328",
   "metadata": {},
   "outputs": [],
   "source": [
    "tmp = sf.shapeRecords()[0]"
   ]
  },
  {
   "cell_type": "code",
   "execution_count": 25,
   "id": "de887352",
   "metadata": {},
   "outputs": [
    {
     "data": {
      "text/plain": [
       "Record #0: [600105, 'G06000105', '0600105', '06', 'California', '00105', 'Alameda County (West)--San Leandro, Alameda & Oakland (Southwest) Cities PUMA']"
      ]
     },
     "execution_count": 25,
     "metadata": {},
     "output_type": "execute_result"
    }
   ],
   "source": [
    "tmp.record"
   ]
  },
  {
   "cell_type": "code",
   "execution_count": 26,
   "id": "7b3c8c28",
   "metadata": {},
   "outputs": [
    {
     "ename": "SyntaxError",
     "evalue": "invalid syntax (<ipython-input-26-866802f21882>, line 1)",
     "output_type": "error",
     "traceback": [
      "\u001b[0;36m  File \u001b[0;32m\"<ipython-input-26-866802f21882>\"\u001b[0;36m, line \u001b[0;32m1\u001b[0m\n\u001b[0;31m    1sorted(ids)\u001b[0m\n\u001b[0m     ^\u001b[0m\n\u001b[0;31mSyntaxError\u001b[0m\u001b[0;31m:\u001b[0m invalid syntax\n"
     ]
    }
   ],
   "source": [
    "sorted(ids)"
   ]
  },
  {
   "cell_type": "code",
   "execution_count": 27,
   "id": "256f3935",
   "metadata": {},
   "outputs": [
    {
     "data": {
      "text/plain": [
       "array([  101,   102,   103,   104,   105,   106,   107,   108,   109,\n",
       "         110,   300,   701,   702,  1100,  1301,  1302,  1303,  1304,\n",
       "        1305,  1306,  1307,  1308,  1309,  1500,  1700,  1901,  1902,\n",
       "        1903,  1904,  1905,  1906,  1907,  2300,  2500,  2901,  2902,\n",
       "        2903,  2904,  2905,  3100,  3300,  3701,  3702,  3703,  3704,\n",
       "        3705,  3706,  3707,  3708,  3709,  3710,  3711,  3712,  3713,\n",
       "        3714,  3715,  3716,  3717,  3718,  3719,  3720,  3721,  3722,\n",
       "        3723,  3724,  3725,  3726,  3727,  3728,  3729,  3730,  3731,\n",
       "        3732,  3733,  3734,  3735,  3736,  3737,  3738,  3739,  3740,\n",
       "        3741,  3742,  3743,  3744,  3745,  3746,  3747,  3748,  3749,\n",
       "        3750,  3751,  3752,  3753,  3754,  3755,  3756,  3757,  3758,\n",
       "        3759,  3760,  3761,  3762,  3763,  3764,  3765,  3766,  3767,\n",
       "        3768,  3769,  3900,  4101,  4102,  4701,  4702,  5301,  5302,\n",
       "        5303,  5500,  5700,  5901,  5902,  5903,  5904,  5905,  5906,\n",
       "        5907,  5908,  5909,  5910,  5911,  5912,  5913,  5914,  5915,\n",
       "        5916,  5917,  5918,  6101,  6102,  6103,  6501,  6502,  6503,\n",
       "        6504,  6505,  6506,  6507,  6508,  6509,  6510,  6511,  6512,\n",
       "        6513,  6514,  6515,  6701,  6702,  6703,  6704,  6705,  6706,\n",
       "        6707,  6708,  6709,  6710,  6711,  6712,  7101,  7102,  7103,\n",
       "        7104,  7105,  7106,  7107,  7108,  7109,  7110,  7111,  7112,\n",
       "        7113,  7114,  7115,  7301,  7302,  7303,  7304,  7305,  7306,\n",
       "        7307,  7308,  7309,  7310,  7311,  7312,  7313,  7314,  7315,\n",
       "        7316,  7317,  7318,  7319,  7320,  7321,  7322,  7501,  7502,\n",
       "        7503,  7504,  7505,  7506,  7507,  7701,  7702,  7703,  7704,\n",
       "        7901,  7902,  8101,  8102,  8103,  8104,  8105,  8106,  8301,\n",
       "        8302,  8303,  8501,  8502,  8503,  8504,  8505,  8506,  8507,\n",
       "        8508,  8509,  8510,  8511,  8512,  8513,  8514,  8701,  8702,\n",
       "        8900,  9501,  9502,  9503,  9701,  9702,  9703,  9901,  9902,\n",
       "        9903,  9904, 10100, 10701, 10702, 10703, 11101, 11102, 11103,\n",
       "       11104, 11105, 11106, 11300])"
      ]
     },
     "execution_count": 27,
     "metadata": {},
     "output_type": "execute_result"
    }
   ],
   "source": [
    "np.unique(df.PUMA.values)"
   ]
  },
  {
   "cell_type": "code",
   "execution_count": 28,
   "id": "8c2b1422",
   "metadata": {},
   "outputs": [],
   "source": [
    "import geopandas as gpd\n",
    "\n",
    "shp = gpd.read_file(\"csv_pca/ipums_puma_2010/ipums_puma_2010.shp\")"
   ]
  },
  {
   "cell_type": "code",
   "execution_count": 29,
   "id": "8f0eed7f",
   "metadata": {},
   "outputs": [],
   "source": [
    "shp = shp[shp[\"State\"] == \"California\"]"
   ]
  },
  {
   "cell_type": "code",
   "execution_count": 30,
   "id": "8775c210",
   "metadata": {},
   "outputs": [
    {
     "data": {
      "text/html": [
       "<div>\n",
       "<style scoped>\n",
       "    .dataframe tbody tr th:only-of-type {\n",
       "        vertical-align: middle;\n",
       "    }\n",
       "\n",
       "    .dataframe tbody tr th {\n",
       "        vertical-align: top;\n",
       "    }\n",
       "\n",
       "    .dataframe thead th {\n",
       "        text-align: right;\n",
       "    }\n",
       "</style>\n",
       "<table border=\"1\" class=\"dataframe\">\n",
       "  <thead>\n",
       "    <tr style=\"text-align: right;\">\n",
       "      <th></th>\n",
       "      <th>GISMATCH</th>\n",
       "      <th>GISJOIN</th>\n",
       "      <th>GEOID</th>\n",
       "      <th>STATEFIP</th>\n",
       "      <th>State</th>\n",
       "      <th>PUMA</th>\n",
       "      <th>Name</th>\n",
       "      <th>geometry</th>\n",
       "    </tr>\n",
       "  </thead>\n",
       "  <tbody>\n",
       "    <tr>\n",
       "      <th>0</th>\n",
       "      <td>600105</td>\n",
       "      <td>G06000105</td>\n",
       "      <td>0600105</td>\n",
       "      <td>06</td>\n",
       "      <td>California</td>\n",
       "      <td>00105</td>\n",
       "      <td>Alameda County (West)--San Leandro, Alameda &amp; ...</td>\n",
       "      <td>MULTIPOLYGON (((-2258646.530 342733.341, -2258...</td>\n",
       "    </tr>\n",
       "    <tr>\n",
       "      <th>1</th>\n",
       "      <td>600102</td>\n",
       "      <td>G06000102</td>\n",
       "      <td>0600102</td>\n",
       "      <td>06</td>\n",
       "      <td>California</td>\n",
       "      <td>00102</td>\n",
       "      <td>Alameda County (Northwest)--Oakland (Northwest...</td>\n",
       "      <td>POLYGON ((-2259099.372 353383.127, -2259101.40...</td>\n",
       "    </tr>\n",
       "    <tr>\n",
       "      <th>2</th>\n",
       "      <td>608502</td>\n",
       "      <td>G06008502</td>\n",
       "      <td>0608502</td>\n",
       "      <td>06</td>\n",
       "      <td>California</td>\n",
       "      <td>08502</td>\n",
       "      <td>Santa Clara County (Northwest)--Sunnyvale &amp; Sa...</td>\n",
       "      <td>POLYGON ((-2246220.131 304622.390, -2246216.04...</td>\n",
       "    </tr>\n",
       "    <tr>\n",
       "      <th>3</th>\n",
       "      <td>600108</td>\n",
       "      <td>G06000108</td>\n",
       "      <td>0600108</td>\n",
       "      <td>06</td>\n",
       "      <td>California</td>\n",
       "      <td>00108</td>\n",
       "      <td>Alameda County (Southwest)--Union City, Newark...</td>\n",
       "      <td>MULTIPOLYGON (((-2247215.331 305414.315, -2247...</td>\n",
       "    </tr>\n",
       "    <tr>\n",
       "      <th>4</th>\n",
       "      <td>600107</td>\n",
       "      <td>G06000107</td>\n",
       "      <td>0600107</td>\n",
       "      <td>06</td>\n",
       "      <td>California</td>\n",
       "      <td>00107</td>\n",
       "      <td>Alameda County (Central)--Hayward City PUMA</td>\n",
       "      <td>POLYGON ((-2244205.948 331582.334, -2244209.13...</td>\n",
       "    </tr>\n",
       "    <tr>\n",
       "      <th>...</th>\n",
       "      <td>...</td>\n",
       "      <td>...</td>\n",
       "      <td>...</td>\n",
       "      <td>...</td>\n",
       "      <td>...</td>\n",
       "      <td>...</td>\n",
       "      <td>...</td>\n",
       "      <td>...</td>\n",
       "    </tr>\n",
       "    <tr>\n",
       "      <th>2260</th>\n",
       "      <td>606507</td>\n",
       "      <td>G06006507</td>\n",
       "      <td>0606507</td>\n",
       "      <td>06</td>\n",
       "      <td>California</td>\n",
       "      <td>06507</td>\n",
       "      <td>Riverside County (North Central)--San Jacinto,...</td>\n",
       "      <td>POLYGON ((-1915650.603 -178221.518, -1915635.8...</td>\n",
       "    </tr>\n",
       "    <tr>\n",
       "      <th>2261</th>\n",
       "      <td>606502</td>\n",
       "      <td>G06006502</td>\n",
       "      <td>0606502</td>\n",
       "      <td>06</td>\n",
       "      <td>California</td>\n",
       "      <td>06502</td>\n",
       "      <td>Riverside County (Central)--Cathedral City, Pa...</td>\n",
       "      <td>POLYGON ((-1882166.938 -182260.143, -1881917.7...</td>\n",
       "    </tr>\n",
       "    <tr>\n",
       "      <th>2262</th>\n",
       "      <td>607101</td>\n",
       "      <td>G06007101</td>\n",
       "      <td>0607101</td>\n",
       "      <td>06</td>\n",
       "      <td>California</td>\n",
       "      <td>07101</td>\n",
       "      <td>San Bernardino County (Northeast)--Twentynine ...</td>\n",
       "      <td>POLYGON ((-1880615.090 19362.790, -1879774.209...</td>\n",
       "    </tr>\n",
       "    <tr>\n",
       "      <th>2263</th>\n",
       "      <td>607104</td>\n",
       "      <td>G06007104</td>\n",
       "      <td>0607104</td>\n",
       "      <td>06</td>\n",
       "      <td>California</td>\n",
       "      <td>07104</td>\n",
       "      <td>San Bernardino County (Southwest)--Phelan, Lak...</td>\n",
       "      <td>POLYGON ((-1954149.236 -112607.342, -1954116.5...</td>\n",
       "    </tr>\n",
       "    <tr>\n",
       "      <th>2303</th>\n",
       "      <td>606501</td>\n",
       "      <td>G06006501</td>\n",
       "      <td>0606501</td>\n",
       "      <td>06</td>\n",
       "      <td>California</td>\n",
       "      <td>06501</td>\n",
       "      <td>Riverside County (East)--Indio, Coachella, Bly...</td>\n",
       "      <td>POLYGON ((-1846879.882 -190123.061, -1846547.4...</td>\n",
       "    </tr>\n",
       "  </tbody>\n",
       "</table>\n",
       "<p>265 rows × 8 columns</p>\n",
       "</div>"
      ],
      "text/plain": [
       "      GISMATCH    GISJOIN    GEOID STATEFIP       State   PUMA  \\\n",
       "0       600105  G06000105  0600105       06  California  00105   \n",
       "1       600102  G06000102  0600102       06  California  00102   \n",
       "2       608502  G06008502  0608502       06  California  08502   \n",
       "3       600108  G06000108  0600108       06  California  00108   \n",
       "4       600107  G06000107  0600107       06  California  00107   \n",
       "...        ...        ...      ...      ...         ...    ...   \n",
       "2260    606507  G06006507  0606507       06  California  06507   \n",
       "2261    606502  G06006502  0606502       06  California  06502   \n",
       "2262    607101  G06007101  0607101       06  California  07101   \n",
       "2263    607104  G06007104  0607104       06  California  07104   \n",
       "2303    606501  G06006501  0606501       06  California  06501   \n",
       "\n",
       "                                                   Name  \\\n",
       "0     Alameda County (West)--San Leandro, Alameda & ...   \n",
       "1     Alameda County (Northwest)--Oakland (Northwest...   \n",
       "2     Santa Clara County (Northwest)--Sunnyvale & Sa...   \n",
       "3     Alameda County (Southwest)--Union City, Newark...   \n",
       "4           Alameda County (Central)--Hayward City PUMA   \n",
       "...                                                 ...   \n",
       "2260  Riverside County (North Central)--San Jacinto,...   \n",
       "2261  Riverside County (Central)--Cathedral City, Pa...   \n",
       "2262  San Bernardino County (Northeast)--Twentynine ...   \n",
       "2263  San Bernardino County (Southwest)--Phelan, Lak...   \n",
       "2303  Riverside County (East)--Indio, Coachella, Bly...   \n",
       "\n",
       "                                               geometry  \n",
       "0     MULTIPOLYGON (((-2258646.530 342733.341, -2258...  \n",
       "1     POLYGON ((-2259099.372 353383.127, -2259101.40...  \n",
       "2     POLYGON ((-2246220.131 304622.390, -2246216.04...  \n",
       "3     MULTIPOLYGON (((-2247215.331 305414.315, -2247...  \n",
       "4     POLYGON ((-2244205.948 331582.334, -2244209.13...  \n",
       "...                                                 ...  \n",
       "2260  POLYGON ((-1915650.603 -178221.518, -1915635.8...  \n",
       "2261  POLYGON ((-1882166.938 -182260.143, -1881917.7...  \n",
       "2262  POLYGON ((-1880615.090 19362.790, -1879774.209...  \n",
       "2263  POLYGON ((-1954149.236 -112607.342, -1954116.5...  \n",
       "2303  POLYGON ((-1846879.882 -190123.061, -1846547.4...  \n",
       "\n",
       "[265 rows x 8 columns]"
      ]
     },
     "execution_count": 30,
     "metadata": {},
     "output_type": "execute_result"
    }
   ],
   "source": [
    "shp"
   ]
  },
  {
   "cell_type": "code",
   "execution_count": 31,
   "id": "0440f66f",
   "metadata": {},
   "outputs": [],
   "source": [
    "import geopandas as gpd\n",
    "\n",
    "# open file\n",
    "gdf = shp\n",
    "\n",
    "# add NEIGHBORS column\n",
    "gdf[\"NEIGHBORS\"] = None  \n",
    "\n",
    "for index, country in gdf.iterrows():   \n",
    "\n",
    "    # get 'not disjoint' countries\n",
    "    neighbors = gdf[~gdf.geometry.disjoint(country.geometry)].PUMA.tolist()\n",
    "\n",
    "    # remove own name of the country from the list\n",
    "    neighbors = [ name for name in neighbors if country.PUMA != name ]\n",
    "\n",
    "    # add names of neighbors as NEIGHBORS value\n",
    "    gdf.at[index, \"NEIGHBORS\"] = \", \".join(neighbors)\n"
   ]
  },
  {
   "cell_type": "code",
   "execution_count": 32,
   "id": "a550d7f0",
   "metadata": {},
   "outputs": [
    {
     "data": {
      "text/html": [
       "<div>\n",
       "<style scoped>\n",
       "    .dataframe tbody tr th:only-of-type {\n",
       "        vertical-align: middle;\n",
       "    }\n",
       "\n",
       "    .dataframe tbody tr th {\n",
       "        vertical-align: top;\n",
       "    }\n",
       "\n",
       "    .dataframe thead th {\n",
       "        text-align: right;\n",
       "    }\n",
       "</style>\n",
       "<table border=\"1\" class=\"dataframe\">\n",
       "  <thead>\n",
       "    <tr style=\"text-align: right;\">\n",
       "      <th></th>\n",
       "      <th>GISMATCH</th>\n",
       "      <th>GISJOIN</th>\n",
       "      <th>GEOID</th>\n",
       "      <th>STATEFIP</th>\n",
       "      <th>State</th>\n",
       "      <th>PUMA</th>\n",
       "      <th>Name</th>\n",
       "      <th>geometry</th>\n",
       "      <th>NEIGHBORS</th>\n",
       "    </tr>\n",
       "  </thead>\n",
       "  <tbody>\n",
       "    <tr>\n",
       "      <th>0</th>\n",
       "      <td>600105</td>\n",
       "      <td>G06000105</td>\n",
       "      <td>0600105</td>\n",
       "      <td>06</td>\n",
       "      <td>California</td>\n",
       "      <td>00105</td>\n",
       "      <td>Alameda County (West)--San Leandro, Alameda &amp; ...</td>\n",
       "      <td>MULTIPOLYGON (((-2258646.530 342733.341, -2258...</td>\n",
       "      <td>00106, 00104, 00103, 07502</td>\n",
       "    </tr>\n",
       "    <tr>\n",
       "      <th>1</th>\n",
       "      <td>600102</td>\n",
       "      <td>G06000102</td>\n",
       "      <td>0600102</td>\n",
       "      <td>06</td>\n",
       "      <td>California</td>\n",
       "      <td>00102</td>\n",
       "      <td>Alameda County (Northwest)--Oakland (Northwest...</td>\n",
       "      <td>POLYGON ((-2259099.372 353383.127, -2259101.40...</td>\n",
       "      <td>00101, 00104, 00103</td>\n",
       "    </tr>\n",
       "    <tr>\n",
       "      <th>2</th>\n",
       "      <td>608502</td>\n",
       "      <td>G06008502</td>\n",
       "      <td>0608502</td>\n",
       "      <td>06</td>\n",
       "      <td>California</td>\n",
       "      <td>08502</td>\n",
       "      <td>Santa Clara County (Northwest)--Sunnyvale &amp; Sa...</td>\n",
       "      <td>POLYGON ((-2246220.131 304622.390, -2246216.04...</td>\n",
       "      <td>00108, 08504, 08501, 08507, 08503</td>\n",
       "    </tr>\n",
       "    <tr>\n",
       "      <th>3</th>\n",
       "      <td>600108</td>\n",
       "      <td>G06000108</td>\n",
       "      <td>0600108</td>\n",
       "      <td>06</td>\n",
       "      <td>California</td>\n",
       "      <td>00108</td>\n",
       "      <td>Alameda County (Southwest)--Union City, Newark...</td>\n",
       "      <td>MULTIPOLYGON (((-2247215.331 305414.315, -2247...</td>\n",
       "      <td>08502, 00107, 08504, 00109</td>\n",
       "    </tr>\n",
       "    <tr>\n",
       "      <th>4</th>\n",
       "      <td>600107</td>\n",
       "      <td>G06000107</td>\n",
       "      <td>0600107</td>\n",
       "      <td>06</td>\n",
       "      <td>California</td>\n",
       "      <td>00107</td>\n",
       "      <td>Alameda County (Central)--Hayward City PUMA</td>\n",
       "      <td>POLYGON ((-2244205.948 331582.334, -2244209.13...</td>\n",
       "      <td>00108, 00110, 00109, 00106</td>\n",
       "    </tr>\n",
       "    <tr>\n",
       "      <th>...</th>\n",
       "      <td>...</td>\n",
       "      <td>...</td>\n",
       "      <td>...</td>\n",
       "      <td>...</td>\n",
       "      <td>...</td>\n",
       "      <td>...</td>\n",
       "      <td>...</td>\n",
       "      <td>...</td>\n",
       "      <td>...</td>\n",
       "    </tr>\n",
       "    <tr>\n",
       "      <th>2260</th>\n",
       "      <td>606507</td>\n",
       "      <td>G06006507</td>\n",
       "      <td>0606507</td>\n",
       "      <td>06</td>\n",
       "      <td>California</td>\n",
       "      <td>06507</td>\n",
       "      <td>Riverside County (North Central)--San Jacinto,...</td>\n",
       "      <td>POLYGON ((-1915650.603 -178221.518, -1915635.8...</td>\n",
       "      <td>06506, 06509, 06508, 07105, 07106, 06502, 0710...</td>\n",
       "    </tr>\n",
       "    <tr>\n",
       "      <th>2261</th>\n",
       "      <td>606502</td>\n",
       "      <td>G06006502</td>\n",
       "      <td>0606502</td>\n",
       "      <td>06</td>\n",
       "      <td>California</td>\n",
       "      <td>06502</td>\n",
       "      <td>Riverside County (Central)--Cathedral City, Pa...</td>\n",
       "      <td>POLYGON ((-1882166.938 -182260.143, -1881917.7...</td>\n",
       "      <td>06503, 06506, 06515, 06507, 07101</td>\n",
       "    </tr>\n",
       "    <tr>\n",
       "      <th>2262</th>\n",
       "      <td>607101</td>\n",
       "      <td>G06007101</td>\n",
       "      <td>0607101</td>\n",
       "      <td>06</td>\n",
       "      <td>California</td>\n",
       "      <td>07101</td>\n",
       "      <td>San Bernardino County (Northeast)--Twentynine ...</td>\n",
       "      <td>POLYGON ((-1880615.090 19362.790, -1879774.209...</td>\n",
       "      <td>02905, 07102, 07103, 03701, 00300, 06515, 0650...</td>\n",
       "    </tr>\n",
       "    <tr>\n",
       "      <th>2263</th>\n",
       "      <td>607104</td>\n",
       "      <td>G06007104</td>\n",
       "      <td>0607104</td>\n",
       "      <td>06</td>\n",
       "      <td>California</td>\n",
       "      <td>07104</td>\n",
       "      <td>San Bernardino County (Southwest)--Phelan, Lak...</td>\n",
       "      <td>POLYGON ((-1954149.236 -112607.342, -1954116.5...</td>\n",
       "      <td>07102, 07103, 07105, 07107, 07112, 07111, 0711...</td>\n",
       "    </tr>\n",
       "    <tr>\n",
       "      <th>2303</th>\n",
       "      <td>606501</td>\n",
       "      <td>G06006501</td>\n",
       "      <td>0606501</td>\n",
       "      <td>06</td>\n",
       "      <td>California</td>\n",
       "      <td>06501</td>\n",
       "      <td>Riverside County (East)--Indio, Coachella, Bly...</td>\n",
       "      <td>POLYGON ((-1846879.882 -190123.061, -1846547.4...</td>\n",
       "      <td>02500, 07302, 06515, 07101</td>\n",
       "    </tr>\n",
       "  </tbody>\n",
       "</table>\n",
       "<p>265 rows × 9 columns</p>\n",
       "</div>"
      ],
      "text/plain": [
       "      GISMATCH    GISJOIN    GEOID STATEFIP       State   PUMA  \\\n",
       "0       600105  G06000105  0600105       06  California  00105   \n",
       "1       600102  G06000102  0600102       06  California  00102   \n",
       "2       608502  G06008502  0608502       06  California  08502   \n",
       "3       600108  G06000108  0600108       06  California  00108   \n",
       "4       600107  G06000107  0600107       06  California  00107   \n",
       "...        ...        ...      ...      ...         ...    ...   \n",
       "2260    606507  G06006507  0606507       06  California  06507   \n",
       "2261    606502  G06006502  0606502       06  California  06502   \n",
       "2262    607101  G06007101  0607101       06  California  07101   \n",
       "2263    607104  G06007104  0607104       06  California  07104   \n",
       "2303    606501  G06006501  0606501       06  California  06501   \n",
       "\n",
       "                                                   Name  \\\n",
       "0     Alameda County (West)--San Leandro, Alameda & ...   \n",
       "1     Alameda County (Northwest)--Oakland (Northwest...   \n",
       "2     Santa Clara County (Northwest)--Sunnyvale & Sa...   \n",
       "3     Alameda County (Southwest)--Union City, Newark...   \n",
       "4           Alameda County (Central)--Hayward City PUMA   \n",
       "...                                                 ...   \n",
       "2260  Riverside County (North Central)--San Jacinto,...   \n",
       "2261  Riverside County (Central)--Cathedral City, Pa...   \n",
       "2262  San Bernardino County (Northeast)--Twentynine ...   \n",
       "2263  San Bernardino County (Southwest)--Phelan, Lak...   \n",
       "2303  Riverside County (East)--Indio, Coachella, Bly...   \n",
       "\n",
       "                                               geometry  \\\n",
       "0     MULTIPOLYGON (((-2258646.530 342733.341, -2258...   \n",
       "1     POLYGON ((-2259099.372 353383.127, -2259101.40...   \n",
       "2     POLYGON ((-2246220.131 304622.390, -2246216.04...   \n",
       "3     MULTIPOLYGON (((-2247215.331 305414.315, -2247...   \n",
       "4     POLYGON ((-2244205.948 331582.334, -2244209.13...   \n",
       "...                                                 ...   \n",
       "2260  POLYGON ((-1915650.603 -178221.518, -1915635.8...   \n",
       "2261  POLYGON ((-1882166.938 -182260.143, -1881917.7...   \n",
       "2262  POLYGON ((-1880615.090 19362.790, -1879774.209...   \n",
       "2263  POLYGON ((-1954149.236 -112607.342, -1954116.5...   \n",
       "2303  POLYGON ((-1846879.882 -190123.061, -1846547.4...   \n",
       "\n",
       "                                              NEIGHBORS  \n",
       "0                            00106, 00104, 00103, 07502  \n",
       "1                                   00101, 00104, 00103  \n",
       "2                     00108, 08504, 08501, 08507, 08503  \n",
       "3                            08502, 00107, 08504, 00109  \n",
       "4                            00108, 00110, 00109, 00106  \n",
       "...                                                 ...  \n",
       "2260  06506, 06509, 06508, 07105, 07106, 06502, 0710...  \n",
       "2261                  06503, 06506, 06515, 06507, 07101  \n",
       "2262  02905, 07102, 07103, 03701, 00300, 06515, 0650...  \n",
       "2263  07102, 07103, 07105, 07107, 07112, 07111, 0711...  \n",
       "2303                         02500, 07302, 06515, 07101  \n",
       "\n",
       "[265 rows x 9 columns]"
      ]
     },
     "execution_count": 32,
     "metadata": {},
     "output_type": "execute_result"
    }
   ],
   "source": [
    "shp"
   ]
  },
  {
   "cell_type": "code",
   "execution_count": 33,
   "id": "c661a9c2",
   "metadata": {},
   "outputs": [],
   "source": [
    "puma2id = {x: i for i, x in enumerate(np.unique(df.PUMA.values))}"
   ]
  },
  {
   "cell_type": "code",
   "execution_count": 34,
   "id": "20fef692",
   "metadata": {},
   "outputs": [],
   "source": [
    "np.random.seed(100)\n",
    "\n",
    "income_data = []\n",
    "for puma in np.unique(df.PUMA.values):\n",
    "    currdf = df[df[\"PUMA\"] == puma]\n",
    "    inc = np.random.choice(currdf[INCOME_COL].values, 200)\n",
    "    income_data.append(inc)"
   ]
  },
  {
   "cell_type": "code",
   "execution_count": null,
   "id": "7a192c00",
   "metadata": {},
   "outputs": [],
   "source": [
    "import pickle\n",
    "\n",
    "income_data = np.array(income_data)\n",
    "with open(\"income_data/california_income_subsampled.pickle\", \"wb\") as fp:\n",
    "    pickle.dump(income_data, fp)"
   ]
  },
  {
   "cell_type": "code",
   "execution_count": 35,
   "id": "27e82c27",
   "metadata": {},
   "outputs": [],
   "source": [
    "n = len(np.unique(df.PUMA.values))\n",
    "\n",
    "neighbors = np.zeros((n, n))\n",
    "for index, puma in shp.iterrows():  \n",
    "    row = puma2id[int(puma.PUMA)]\n",
    "    curr_neigh = [int(x) for x in puma.NEIGHBORS.split(\", \")]\n",
    "    for neigh in curr_neigh:\n",
    "        col = puma2id[neigh]\n",
    "        neighbors[row, col] += 1"
   ]
  },
  {
   "cell_type": "code",
   "execution_count": null,
   "id": "1182b05e",
   "metadata": {},
   "outputs": [],
   "source": [
    "with open(\"income_data/california_puma_neighbors.pickle\", \"wb\") as fp:\n",
    "    pickle.dump(neighbors, fp)"
   ]
  }
 ],
 "metadata": {
  "kernelspec": {
   "display_name": "Python 3",
   "language": "python",
   "name": "python3"
  },
  "language_info": {
   "codemirror_mode": {
    "name": "ipython",
    "version": 3
   },
   "file_extension": ".py",
   "mimetype": "text/x-python",
   "name": "python",
   "nbconvert_exporter": "python",
   "pygments_lexer": "ipython3",
   "version": "3.9.10"
  }
 },
 "nbformat": 4,
 "nbformat_minor": 5
}
