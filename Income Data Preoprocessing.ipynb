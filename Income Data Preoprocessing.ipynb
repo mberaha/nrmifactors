{
 "cells": [
  {
   "cell_type": "code",
   "execution_count": null,
   "id": "ad14ae25",
   "metadata": {},
   "outputs": [],
   "source": [
    "import pandas as pd\n",
    "import numpy as np\n",
    "import matplotlib.pyplot as plt"
   ]
  },
  {
   "cell_type": "code",
   "execution_count": null,
   "id": "e3923efd",
   "metadata": {},
   "outputs": [],
   "source": [
    "df = pd.read_csv(\"csv_pca/psam_p06.csv\")\n",
    "df.head()"
   ]
  },
  {
   "cell_type": "code",
   "execution_count": null,
   "id": "dc18b534",
   "metadata": {},
   "outputs": [],
   "source": [
    "len(df)"
   ]
  },
  {
   "cell_type": "code",
   "execution_count": null,
   "id": "376cf925",
   "metadata": {},
   "outputs": [],
   "source": [
    "len(np.unique(df.PUMA.values))"
   ]
  },
  {
   "cell_type": "code",
   "execution_count": null,
   "id": "8b076d90",
   "metadata": {},
   "outputs": [],
   "source": [
    "INCOME_COL = \"PINCP\"\n",
    "AGE_COL = \"AGEP\""
   ]
  },
  {
   "cell_type": "code",
   "execution_count": null,
   "id": "162eb9ef",
   "metadata": {},
   "outputs": [],
   "source": [
    "df = df[df[INCOME_COL] != 0.0]"
   ]
  },
  {
   "cell_type": "code",
   "execution_count": null,
   "id": "79a7b08a",
   "metadata": {},
   "outputs": [],
   "source": [
    "currdf = df[df[\"PUMA\"] == 8103]\n",
    "plt.scatter(currdf[AGE_COL], currdf[INCOME_COL])\n",
    "\n",
    "currdf = df[df[\"PUMA\"] == 3100]\n",
    "plt.scatter(currdf[AGE_COL], currdf[INCOME_COL])\n",
    "\n",
    "currdf = df[df[\"PUMA\"] == 2901]\n",
    "plt.scatter(currdf[AGE_COL], currdf[INCOME_COL])\n",
    "\n",
    "currdf = df[df[\"PUMA\"] == 2901]\n",
    "plt.scatter(currdf[AGE_COL], currdf[INCOME_COL])\n",
    "\n",
    "plt.yscale(\"log\")"
   ]
  },
  {
   "cell_type": "code",
   "execution_count": null,
   "id": "6916bb63",
   "metadata": {},
   "outputs": [],
   "source": [
    "avg_incomes = []\n",
    "avg_ages = []\n",
    "std_incomes = []\n",
    "std_ages = []\n",
    "\n",
    "for puma in np.unique(df.PUMA.values):\n",
    "    currdf = df[df[\"PUMA\"] == puma]\n",
    "    incomes = currdf[INCOME_COL].values\n",
    "    avg_incomes.append(np.nanmean(incomes))\n",
    "    std_incomes.append(np.nanstd(incomes))\n",
    "    ages = currdf[AGE_COL].values\n",
    "    avg_ages.append(np.nanmean(ages))\n",
    "    std_ages.append(np.nanstd(ages))"
   ]
  },
  {
   "cell_type": "code",
   "execution_count": null,
   "id": "495a3569",
   "metadata": {},
   "outputs": [],
   "source": [
    "plt.scatter(avg_ages, avg_incomes, color=\"r\")\n",
    "plt.title(\"AVG AGE vs AVG INCOME per PUMA\")\n",
    "plt.show()"
   ]
  },
  {
   "cell_type": "code",
   "execution_count": null,
   "id": "34ef6785",
   "metadata": {},
   "outputs": [],
   "source": [
    "plt.scatter(std_ages, std_incomes)\n",
    "plt.title(\"STD AGE vs STD INCOME per PUMA\")\n",
    "plt.show()"
   ]
  },
  {
   "cell_type": "code",
   "execution_count": null,
   "id": "530b5aaf",
   "metadata": {},
   "outputs": [],
   "source": [
    "import seaborn as sns\n",
    "fig = plt.figure()\n",
    "ax = fig.add_subplot(111)\n",
    "\n",
    "for puma in np.unique(df.PUMA.values):\n",
    "    currdf = df[df[\"PUMA\"] == puma]\n",
    "    incomes = currdf[INCOME_COL].values\n",
    "    sns.kdeplot(np.log(incomes[incomes > 0]), ax=ax, alpha=0.3)"
   ]
  },
  {
   "cell_type": "code",
   "execution_count": null,
   "id": "cfea862d",
   "metadata": {},
   "outputs": [],
   "source": [
    "import shapefile as shp"
   ]
  },
  {
   "cell_type": "code",
   "execution_count": null,
   "id": "5b6f63bf",
   "metadata": {},
   "outputs": [],
   "source": [
    "sf = shp.Reader(\"csv_pca/ipums_puma_2010/ipums_puma_2010.shp\")\n",
    "\n",
    "plt.figure()\n",
    "kept = 0\n",
    "ids = []\n",
    "\n",
    "for shape in sf.shapeRecords():\n",
    "    if shape.record[4] != \"California\":\n",
    "        continue\n",
    "    \n",
    "    kept += 1\n",
    "    ids.append(int(shape.record[5]))\n",
    "    x = [i[0] for i in shape.shape.points[:]]\n",
    "    y = [i[1] for i in shape.shape.points[:]]\n",
    "    plt.plot(x,y)\n",
    "plt.show()"
   ]
  },
  {
   "cell_type": "code",
   "execution_count": null,
   "id": "6a5da328",
   "metadata": {},
   "outputs": [],
   "source": [
    "tmp = sf.shapeRecords()[0]"
   ]
  },
  {
   "cell_type": "code",
   "execution_count": null,
   "id": "de887352",
   "metadata": {},
   "outputs": [],
   "source": [
    "tmp.record"
   ]
  },
  {
   "cell_type": "code",
   "execution_count": null,
   "id": "7b3c8c28",
   "metadata": {},
   "outputs": [],
   "source": [
    "sorted(ids)"
   ]
  },
  {
   "cell_type": "code",
   "execution_count": null,
   "id": "256f3935",
   "metadata": {},
   "outputs": [],
   "source": [
    "np.unique(df.PUMA.values)"
   ]
  },
  {
   "cell_type": "code",
   "execution_count": null,
   "id": "8c2b1422",
   "metadata": {},
   "outputs": [],
   "source": [
    "import geopandas as gpd\n",
    "\n",
    "shp = gpd.read_file(\"csv_pca/ipums_puma_2010/ipums_puma_2010.shp\")"
   ]
  },
  {
   "cell_type": "code",
   "execution_count": null,
   "id": "8f0eed7f",
   "metadata": {},
   "outputs": [],
   "source": [
    "shp = shp[shp[\"State\"] == \"California\"]"
   ]
  },
  {
   "cell_type": "code",
   "execution_count": null,
   "id": "8775c210",
   "metadata": {},
   "outputs": [],
   "source": [
    "shp"
   ]
  },
  {
   "cell_type": "code",
   "execution_count": null,
   "id": "0440f66f",
   "metadata": {},
   "outputs": [],
   "source": [
    "import geopandas as gpd\n",
    "\n",
    "# open file\n",
    "gdf = shp\n",
    "\n",
    "# add NEIGHBORS column\n",
    "gdf[\"NEIGHBORS\"] = None  \n",
    "\n",
    "for index, country in gdf.iterrows():   \n",
    "\n",
    "    # get 'not disjoint' countries\n",
    "    neighbors = gdf[~gdf.geometry.disjoint(country.geometry)].PUMA.tolist()\n",
    "\n",
    "    # remove own name of the country from the list\n",
    "    neighbors = [ name for name in neighbors if country.PUMA != name ]\n",
    "\n",
    "    # add names of neighbors as NEIGHBORS value\n",
    "    gdf.at[index, \"NEIGHBORS\"] = \", \".join(neighbors)\n"
   ]
  },
  {
   "cell_type": "code",
   "execution_count": null,
   "id": "a550d7f0",
   "metadata": {},
   "outputs": [],
   "source": [
    "shp"
   ]
  },
  {
   "cell_type": "code",
   "execution_count": null,
   "id": "c661a9c2",
   "metadata": {},
   "outputs": [],
   "source": [
    "puma2id = {x: i for i, x in enumerate(np.unique(df.PUMA.values))}"
   ]
  },
  {
   "cell_type": "code",
   "execution_count": null,
   "id": "20fef692",
   "metadata": {},
   "outputs": [],
   "source": [
    "np.random.seed(100)\n",
    "\n",
    "income_data = []\n",
    "for puma in np.unique(df.PUMA.values):\n",
    "    currdf = df[df[\"PUMA\"] == puma]\n",
    "    inc = np.random.choice(currdf[INCOME_COL].values, 200)\n",
    "    income_data.append(inc)"
   ]
  },
  {
   "cell_type": "code",
   "execution_count": null,
   "id": "7a192c00",
   "metadata": {},
   "outputs": [],
   "source": [
    "import pickle\n",
    "\n",
    "income_data = np.array(income_data)\n",
    "with open(\"income_data/california_income_subsampled.pickle\", \"wb\") as fp:\n",
    "    pickle.dump(income_data, fp)"
   ]
  },
  {
   "cell_type": "code",
   "execution_count": null,
   "id": "27e82c27",
   "metadata": {},
   "outputs": [],
   "source": [
    "n = len(np.unique(df.PUMA.values))\n",
    "\n",
    "neighbors = np.zeros((n, n))\n",
    "for index, puma in shp.iterrows():  \n",
    "    row = puma2id[int(puma.PUMA)]\n",
    "    curr_neigh = [int(x) for x in puma.NEIGHBORS.split(\", \")]\n",
    "    for neigh in curr_neigh:\n",
    "        col = puma2id[neigh]\n",
    "        neighbors[row, col] += 1"
   ]
  },
  {
   "cell_type": "code",
   "execution_count": null,
   "id": "1182b05e",
   "metadata": {},
   "outputs": [],
   "source": [
    "with open(\"income_data/california_puma_neighbors.pickle\", \"wb\") as fp:\n",
    "    pickle.dump(neighbors, fp)"
   ]
  }
 ],
 "metadata": {
  "kernelspec": {
   "display_name": "Python 3 (ipykernel)",
   "language": "python",
   "name": "python3"
  },
  "language_info": {
   "codemirror_mode": {
    "name": "ipython",
    "version": 3
   },
   "file_extension": ".py",
   "mimetype": "text/x-python",
   "name": "python",
   "nbconvert_exporter": "python",
   "pygments_lexer": "ipython3",
   "version": "3.10.2"
  }
 },
 "nbformat": 4,
 "nbformat_minor": 5
}
