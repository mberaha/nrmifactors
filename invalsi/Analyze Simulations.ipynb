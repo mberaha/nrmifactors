{
 "cells": [
  {
   "cell_type": "code",
   "execution_count": null,
   "id": "1f695cbf",
   "metadata": {},
   "outputs": [],
   "source": [
    "import os\n",
    "os.chdir(\"../\")\n",
    "os.environ[\"JAX_ENABLE_X64\"] = \"true\"\n",
    "\n",
    "import pickle\n",
    "import matplotlib.pyplot as plt\n",
    "import jax.numpy as np"
   ]
  },
  {
   "cell_type": "code",
   "execution_count": null,
   "id": "4410fcd5",
   "metadata": {},
   "outputs": [],
   "source": [
    "from tensorflow_probability.substrates import jax as tfp\n",
    "tfd = tfp.distributions\n",
    "\n",
    "def eval_densities(xgrid, lam, m, j, atoms):\n",
    "    weights = lam @ (m * j)\n",
    "    weights /= weights.sum(axis=1)[:, np.newaxis]\n",
    "    vars = np.array(atoms[:, 1])\n",
    "    #vars = vars.at[vars < 0.15].set(0.15)\n",
    "    eval_comps = tfd.Normal(loc=atoms[:, 0], scale=np.sqrt(vars)).prob(xgrid[:, np.newaxis])\n",
    "    dens = eval_comps[:, np.newaxis, :] * weights[np.newaxis, :, :]\n",
    "    dens = np.sum(dens, axis=-1).T\n",
    "    return dens"
   ]
  },
  {
   "cell_type": "code",
   "execution_count": null,
   "id": "02bf436a",
   "metadata": {},
   "outputs": [],
   "source": [
    "with open(\"invalsi/chains_mgp3.pickle\", \"rb\") as fp:\n",
    "    states = pickle.load(fp)\n",
    "    \n",
    "    \n",
    "with open(\"invalsi/math_grades.pickle\", \"rb\") as fp:\n",
    "    data = pickle.load(fp)"
   ]
  },
  {
   "cell_type": "code",
   "execution_count": null,
   "id": "bb7620fc",
   "metadata": {},
   "outputs": [],
   "source": [
    "nlat = states[-1].m.shape[0]"
   ]
  },
  {
   "cell_type": "code",
   "execution_count": null,
   "id": "a1bfff25",
   "metadata": {},
   "outputs": [],
   "source": [
    "fig, axes = plt.subplots(nrows=1, ncols=nlat, figsize=(12, 3))\n",
    "\n",
    "for j in np.arange(0, len(states), 20):\n",
    "    state = states[j]\n",
    "    eval_comps = tfd.Normal(\n",
    "        loc=state.atoms[:, 0], scale=np.sqrt(vars)).prob(xgrid[:, np.newaxis])\n",
    "    dens_lat = eval_comps[:, np.newaxis, :] * (state.m * state.j)[np.newaxis, :, :]\n",
    "    dens_lat = np.sum(dens_lat, axis=-1).T    \n",
    "\n",
    "\n",
    "    for i in range(nlat):\n",
    "        axes[i].plot(xgrid, dens_lat[i, :], color=\"black\", lw=2, alpha=0.3)\n",
    "        \n",
    "#axes[0].legend(fontsize=12)\n",
    "\n",
    "plt.tight_layout()\n",
    "\n",
    "#plt.savefig(\"../latex/images/invalsi_latent_draws.pdf\", bbox_inches=\"tight\")        \n",
    "plt.show()"
   ]
  },
  {
   "cell_type": "code",
   "execution_count": null,
   "id": "48baede7",
   "metadata": {},
   "outputs": [],
   "source": [
    "avg_lat_dens = np.zeros((nlat, len(xgrid)))\n",
    "\n",
    "for state in states[-500:]:\n",
    "    vars = np.array(state.atoms[:, 1])\n",
    "    vars = vars.at[vars < 0.15].set(0.15)\n",
    "    eval_comps = tfd.Normal(\n",
    "        loc=state.atoms[:, 0], scale=np.sqrt(vars)).prob(xgrid[:, np.newaxis])\n",
    "    \n",
    "    dens_lat = eval_comps[:, np.newaxis, :] * (state.m * state.j)[np.newaxis, :, :]\n",
    "    dens_lat = np.sum(dens_lat, axis=-1).T  \n",
    "    avg_lat_dens += dens_lat\n",
    "\n",
    "avg_lat_dens /= len(states)"
   ]
  },
  {
   "cell_type": "code",
   "execution_count": null,
   "id": "289e6745",
   "metadata": {},
   "outputs": [],
   "source": [
    "fig, axes = plt.subplots(nrows=1, ncols=nlat, figsize=(15, 3))\n",
    "\n",
    "\n",
    "for i in range(nlat):\n",
    "    axes[i].plot(xgrid, avg_lat_dens[i, :], label=\"j: {0}\".format(len(states) + j))\n",
    "        \n",
    "#axes[0].legend(fontsize=12)\n",
    "\n",
    "plt.tight_layout()\n",
    "\n",
    "# plt.savefig(\"invalsi/avg_latent_dens.pdf\", bbox_inches=\"tight\")        \n",
    "plt.show()"
   ]
  },
  {
   "cell_type": "code",
   "execution_count": null,
   "id": "eb1e8c1b",
   "metadata": {},
   "outputs": [],
   "source": [
    "# Postprocess\n",
    "\n",
    "def discretize_dens(dens, xgrid):\n",
    "    delta = xgrid[1] - xgrid[0]\n",
    "    out = np.zeros_like(xgrid)\n",
    "    for j in np.arange(2, 11):\n",
    "        wh = np.where((xgrid > j) & (xgrid < j+1))\n",
    "        d = np.sum(dens[wh]) * delta\n",
    "        out = out.at[wh].set(d)\n",
    "    return out\n",
    "\n",
    "\n",
    "M = states[-1].m\n",
    "lam = states[-1].lam\n",
    "J = states[-1].j\n",
    "\n",
    "\n",
    "vars = np.array(states[-1].atoms[:, 1])\n",
    "vars = vars.at[vars < 0.2].set(0.2)\n",
    "component_dens = tfd.Normal(\n",
    "    loc=states[-1].atoms[:, 0], scale=np.sqrt(vars)).prob(xgrid[:, np.newaxis]).T\n",
    "\n",
    "#component_dens = np.array([\n",
    "#    tfd.Normal(x[0], np.sqrt(x[1])).prob(xgrid) for x in states[-1].atoms])\n",
    "\n",
    "#discretized_dens = np.stack([\n",
    "#    discretize_dens(x, xgrid) for x in component_dens  \n",
    "#])\n",
    "\n",
    "delta = xgrid[1] - xgrid[0]\n",
    "\n",
    "\n",
    "def obj_func(x):\n",
    "    curr_m = x @ M\n",
    "    trans_dens = (curr_m * J) @ component_dens\n",
    "    trans_dens /= (np.sum(trans_dens, axis=1, keepdims=True) * delta)\n",
    "    out = 0.0\n",
    "    for i in range(trans_dens.shape[0]):\n",
    "        for j in range(i):\n",
    "            curr = (np.sum((trans_dens[i, :] * trans_dens[j, :])) * delta)**2  \n",
    "            out += curr\n",
    "            # print(\"i: {0}, j: {1}, curr: {2}\".format(i, j, curr))\n",
    "    return out\n",
    "\n",
    "\n",
    "def constraints(x):\n",
    "    return - np.concatenate([\n",
    "        (lam @ np.linalg.inv(x)).reshape(-1, 1),\n",
    "        (x @ M).reshape(-1, 1)])[:, 0]\n",
    "\n",
    "def max0(x):\n",
    "    return x * (x > 0)\n",
    "\n",
    "def penalty(x, lambdas):\n",
    "    return 0.5 * 1.0 * np.sum(max0(lambdas / 0.5 + constraints(x))**2)"
   ]
  },
  {
   "cell_type": "code",
   "execution_count": null,
   "id": "0e7864ae",
   "metadata": {},
   "outputs": [],
   "source": [
    "fig, axes = plt.subplots(nrows=1, ncols=M.shape[0], figsize=(15,3))\n",
    "\n",
    "for j in range(M.shape[0]):\n",
    "    axes[j].plot(xgrid,  (M @ component_dens)[j, :])\n",
    "    axes[j].set_title(\"mu_{0}\".format(j+1), fontsize=16)\n",
    "    \n",
    "    \n",
    "#plt.savefig(\"invalsi/avg_mu.pdf\", bbox_inches=\"tight\")"
   ]
  },
  {
   "cell_type": "code",
   "execution_count": null,
   "id": "2c9187b2",
   "metadata": {},
   "outputs": [],
   "source": [
    "from jax import grad\n",
    "\n",
    "\n",
    "grad_f = grad(obj_func)\n",
    "f = obj_func"
   ]
  },
  {
   "cell_type": "code",
   "execution_count": null,
   "id": "528f5f26",
   "metadata": {},
   "outputs": [],
   "source": [
    "from nrmifactors.postprocess import dissipative_lie_rattle_fast\n",
    "\n",
    "x0 = np.eye(M.shape[0])\n",
    "opt_x, niter = dissipative_lie_rattle_fast(f, grad_f, x0, 0.9, 1e-5, 1e-6, maxiter=10000)\n",
    "opt_x"
   ]
  },
  {
   "cell_type": "code",
   "execution_count": null,
   "id": "e37ff38d",
   "metadata": {},
   "outputs": [],
   "source": [
    "fig, axes = plt.subplots(nrows=1, ncols=M.shape[0], figsize=(15,3))\n",
    "\n",
    "q = opt_x\n",
    "\n",
    "for j in range(M.shape[0]):\n",
    "    axes[j].plot(xgrid,  (q @ M @ component_dens)[j, :])\n",
    "    axes[j].set_title(\"mu_{0}\".format(j+1), fontsize=16)\n",
    "    \n",
    "#plt.savefig(\"invalsi/opt_mu_unc.pdf\", bbox_inches=\"tight\")"
   ]
  },
  {
   "cell_type": "code",
   "execution_count": null,
   "id": "5434c3e5",
   "metadata": {},
   "outputs": [],
   "source": [
    "from jax import jacfwd\n",
    "from nrmifactors.postprocess import ralm\n",
    "\n",
    "constr_eval = constraints(x0)\n",
    "grad_cons = jacfwd(constraints)\n",
    "\n",
    "mu = 0.1\n",
    "stepsize = 1e-6\n",
    "init_thr = 1e-2\n",
    "target_thr = 1e-6\n",
    "min_lambda = 1e-4\n",
    "init_lambdas = np.zeros_like(constr_eval) + 0.1\n",
    "max_lambda = 30\n",
    "init_rho = 10\n",
    "dmin = 1e-6\n",
    "\n",
    "\n",
    "opt_x_pen = ralm(\n",
    "    obj_func, grad_f, constraints, grad_cons, opt_x, mu, stepsize, \n",
    "    init_thr, target_thr, init_lambdas, min_lambda, max_lambda, \n",
    "    init_rho, dmin, maxiter=1000)"
   ]
  },
  {
   "cell_type": "code",
   "execution_count": null,
   "id": "f34db2b8",
   "metadata": {},
   "outputs": [],
   "source": [
    "opt_x_pen"
   ]
  },
  {
   "cell_type": "code",
   "execution_count": null,
   "id": "37626345",
   "metadata": {},
   "outputs": [],
   "source": [
    "from scipy.integrate import trapz\n",
    "\n",
    "\n",
    "def discretize_dens(dens, xgrid):\n",
    "    out = []\n",
    "    wh = np.where(xgrid < 1.5)\n",
    "    out.append(trapz(dens[wh], xgrid[wh]))\n",
    "    for i in range(2, 10):\n",
    "        wh = np.where((xgrid >= i - 0.5) & (xgrid < i + 0.5))\n",
    "        out.append(trapz(dens[wh], xgrid[wh]))\n",
    "    \n",
    "    wh = np.where(xgrid > 9.5)\n",
    "    out.append(trapz(dens[wh], xgrid[wh]))\n",
    "    return out"
   ]
  },
  {
   "cell_type": "code",
   "execution_count": null,
   "id": "b8656e71",
   "metadata": {},
   "outputs": [],
   "source": [
    "fig, axes = plt.subplots(nrows=1, ncols=M.shape[0], figsize=(15,3))\n",
    "\n",
    "q = opt_x_pen\n",
    "\n",
    "for j in range(M.shape[0]):\n",
    "    d = (q @ (M * J) @ component_dens )[j, :]\n",
    "    d = d / np.sum(d * (xgrid[1] - xgrid[0]))\n",
    "    axes[j].plot(xgrid,  d)\n",
    "    axes[j].set_ylim((0.0, 0.5))\n",
    "\n",
    "plt.tight_layout()\n",
    "\n",
    "#plt.savefig(\"../latex/images/invalsi_latent_factors.pdf\", bbox_inches=\"tight\")\n",
    "plt.show()"
   ]
  },
  {
   "cell_type": "code",
   "execution_count": null,
   "id": "8fb66589",
   "metadata": {},
   "outputs": [],
   "source": [
    "fig, axes = plt.subplots(nrows=1, ncols=M.shape[0], figsize=(15,3))\n",
    "\n",
    "q = opt_x_pen\n",
    "\n",
    "for j in range(M.shape[0]):\n",
    "    d = (q @ (M * J) @ component_dens )[j, :]\n",
    "    d = d / np.sum(d * (xgrid[1] - xgrid[0]))\n",
    "    bars = np.arange(1, 11)\n",
    "    heights = discretize_dens(d, xgrid)\n",
    "    axes[j].bar(bars,  heights)\n",
    "    axes[j].set_xticks(bars)\n",
    "    axes[j].set_ylim((0.0, 0.42))\n",
    "\n",
    "plt.tight_layout()\n",
    "#plt.savefig(\"../latex/images/invalsi_latent_factors_discrete.pdf\", bbox_inches=\"tight\")\n",
    "plt.show()"
   ]
  },
  {
   "cell_type": "code",
   "execution_count": null,
   "id": "b4e7a3db",
   "metadata": {},
   "outputs": [],
   "source": [
    "post_lam = lam @ np.linalg.inv(opt_x_pen)"
   ]
  },
  {
   "cell_type": "code",
   "execution_count": null,
   "id": "afdb1190",
   "metadata": {},
   "outputs": [],
   "source": [
    "masses = np.sum(q @ M @ component_dens * delta, axis=1)"
   ]
  },
  {
   "cell_type": "code",
   "execution_count": null,
   "id": "c7289391",
   "metadata": {},
   "outputs": [],
   "source": [
    "lambda_trans = post_lam * masses\n",
    "lambda_trans /= np.sum(lambda_trans, axis=1,keepdims=True)"
   ]
  },
  {
   "cell_type": "code",
   "execution_count": null,
   "id": "f3bac7ef",
   "metadata": {},
   "outputs": [],
   "source": [
    "np.sum(lambda_trans, axis=0)"
   ]
  },
  {
   "cell_type": "markdown",
   "id": "d5d00961",
   "metadata": {},
   "source": [
    "# cluster based on the factor scores"
   ]
  },
  {
   "cell_type": "code",
   "execution_count": null,
   "id": "bca5bf46",
   "metadata": {},
   "outputs": [],
   "source": [
    "from scipy.cluster.hierarchy import dendrogram\n",
    "from sklearn.datasets import load_iris\n",
    "from sklearn.cluster import AgglomerativeClustering\n",
    "import numpy as onp\n",
    "\n",
    "\n",
    "def plot_dendrogram(model, **kwargs):\n",
    "    # Create linkage matrix and then plot the dendrogram\n",
    "\n",
    "    # create the counts of samples under each node\n",
    "    counts = onp.zeros(model.children_.shape[0])\n",
    "    n_samples = len(model.labels_)\n",
    "    for i, merge in enumerate(model.children_):\n",
    "        current_count = 0\n",
    "        for child_idx in merge:\n",
    "            if child_idx < n_samples:\n",
    "                current_count += 1  # leaf node\n",
    "            else:\n",
    "                current_count += counts[child_idx - n_samples]\n",
    "        counts[i] = current_count\n",
    "\n",
    "    linkage_matrix = np.column_stack(\n",
    "        [model.children_, model.distances_, counts]\n",
    "    ).astype(float)\n",
    "\n",
    "    # Plot the corresponding dendrogram\n",
    "    dendrogram(linkage_matrix, **kwargs)"
   ]
  },
  {
   "cell_type": "code",
   "execution_count": null,
   "id": "153fbe6e",
   "metadata": {},
   "outputs": [],
   "source": [
    "model = AgglomerativeClustering(linkage=\"complete\", distance_threshold=0, n_clusters=None)\n",
    "\n",
    "X = onp.array(lambda_trans)\n",
    "model.fit(X)"
   ]
  },
  {
   "cell_type": "code",
   "execution_count": null,
   "id": "cfbdb1cc",
   "metadata": {},
   "outputs": [],
   "source": [
    "fig = plt.figure(figsize=(6, 3))\n",
    "\n",
    "#plt.title(\"Hierarchical Clustering Dendrogram\")\n",
    "# plot the top three levels of the dendrogram\n",
    "plot_dendrogram(model, truncate_mode=\"level\")\n",
    "plt.xticks([])\n",
    "#plt.savefig(\"../latex/images/invalsi_hclust_complete.pdf\", bbox_inches=\"tight\")\n",
    "plt.show()"
   ]
  },
  {
   "cell_type": "code",
   "execution_count": null,
   "id": "a9b80bd6",
   "metadata": {},
   "outputs": [],
   "source": [
    "from scipy import cluster\n",
    "\n",
    "X = onp.array(lambda_trans)\n",
    "Z = cluster.hierarchy.complete(X)\n",
    "cutree = cluster.hierarchy.cut_tree(Z, n_clusters=4)[:, 0]"
   ]
  },
  {
   "cell_type": "code",
   "execution_count": null,
   "id": "8afc99a2",
   "metadata": {},
   "outputs": [],
   "source": [
    "fig, axes = plt.subplots(nrows=1, ncols=4, figsize=(12,3))\n",
    "axes = axes.flat\n",
    "\n",
    "latent_dens = q @ M @ component_dens\n",
    "\n",
    "for l in onp.array(np.unique(cutree)):\n",
    "    idxs = np.where(cutree == l)[0]\n",
    "    avg_lam = np.mean(lambda_trans[idxs, :], axis=0)\n",
    "    dens = avg_lam @ latent_dens\n",
    "    dens /= np.sum(dens * delta)\n",
    "    axes[l].plot(xgrid, dens)\n",
    "    axes[l].set_ylim((0.0, 0.35))\n",
    "    \n",
    "plt.tight_layout()\n",
    "#plt.savefig(\"../latex/images/invalsi_cluster_dens.pdf\")"
   ]
  },
  {
   "cell_type": "code",
   "execution_count": null,
   "id": "164dd58b",
   "metadata": {},
   "outputs": [],
   "source": [
    "fig, axes = plt.subplots(nrows=1, ncols=4, figsize=(12,3))\n",
    "axes = axes.flat\n",
    "\n",
    "latent_dens = q @ M @ component_dens\n",
    "\n",
    "for l in onp.array(np.unique(cutree)):\n",
    "    idxs = np.where(cutree == l)[0]\n",
    "    avg_lam = np.mean(lambda_trans[idxs, :], axis=0)\n",
    "    dens = avg_lam @ latent_dens\n",
    "    dens /= np.sum(dens * delta)\n",
    "    bars = np.arange(1, 11)\n",
    "    heights = discretize_dens(dens, xgrid)\n",
    "    axes[l].bar(bars,  heights)\n",
    "    axes[l].set_xticks(bars)\n",
    "    axes[l].set_ylim((0.0, 0.32))\n",
    "    \n",
    "plt.tight_layout()\n",
    "#plt.savefig(\"../latex/images/invalsi_cluster_dens_discrete.pdf\")"
   ]
  }
 ],
 "metadata": {
  "kernelspec": {
   "display_name": "Python 3 (ipykernel)",
   "language": "python",
   "name": "python3"
  },
  "language_info": {
   "codemirror_mode": {
    "name": "ipython",
    "version": 3
   },
   "file_extension": ".py",
   "mimetype": "text/x-python",
   "name": "python",
   "nbconvert_exporter": "python",
   "pygments_lexer": "ipython3",
   "version": "3.10.2"
  }
 },
 "nbformat": 4,
 "nbformat_minor": 5
}
