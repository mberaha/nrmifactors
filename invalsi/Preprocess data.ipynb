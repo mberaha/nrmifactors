{
 "cells": [
  {
   "cell_type": "code",
   "execution_count": 1,
   "id": "4d0fbefb",
   "metadata": {},
   "outputs": [],
   "source": [
    "import pandas as pd\n",
    "import numpy as np\n",
    "import pickle"
   ]
  },
  {
   "cell_type": "code",
   "execution_count": 2,
   "id": "b0765809",
   "metadata": {},
   "outputs": [],
   "source": [
    "with open(\"../../data/mat_grades.pickle\", \"rb\") as fp:\n",
    "    data = pickle.load(fp)"
   ]
  },
  {
   "cell_type": "code",
   "execution_count": 3,
   "id": "59ac9f2b",
   "metadata": {},
   "outputs": [],
   "source": [
    "# Remove groups with no observations"
   ]
  },
  {
   "cell_type": "code",
   "execution_count": 4,
   "id": "6759080a",
   "metadata": {},
   "outputs": [
    {
     "data": {
      "text/plain": [
       "1048"
      ]
     },
     "execution_count": 4,
     "metadata": {},
     "output_type": "execute_result"
    }
   ],
   "source": [
    "data = list(filter(lambda x: len(x) > 0, data))\n",
    "len(data)"
   ]
  },
  {
   "cell_type": "code",
   "execution_count": 68,
   "id": "94ea7fc5",
   "metadata": {},
   "outputs": [],
   "source": [
    "# pad with nans\n",
    "\n",
    "maxlen = np.max([len(x) for x in data])\n",
    "out = np.empty((len(data), maxlen))\n",
    "out[:, :] = np.nan\n",
    "\n",
    "for i in range(len(data)):\n",
    "    k = len(data[i])\n",
    "    out[i, :k] = data[i] + np.random.normal(size=len(data[i])) * 0.25"
   ]
  },
  {
   "cell_type": "code",
   "execution_count": 69,
   "id": "86e74f84",
   "metadata": {},
   "outputs": [],
   "source": [
    "with open(\"math_grades.pickle\", \"wb\") as fp:\n",
    "    pickle.dump(out, fp)"
   ]
  },
  {
   "cell_type": "code",
   "execution_count": 21,
   "id": "09717e33",
   "metadata": {},
   "outputs": [],
   "source": [
    "from jax import jit\n",
    "import jax.numpy as jnp\n",
    "from tensorflow_probability.substrates import jax as tfp\n",
    "tfd = tfp.distributions\n",
    "\n",
    "\n",
    "@jit\n",
    "def get_mean_and_var(alldata, clus_idx, c):\n",
    "    card = jnp.count_nonzero(clus_idx == c)\n",
    "    ybar = jnp.where(clus_idx == c, alldata, 0).sum() / card\n",
    "    var = jnp.where(clus_idx == c, (alldata - ybar)**2, 0).sum() / card\n",
    "    return ybar, var\n",
    "\n",
    "\n",
    "@jit\n",
    "def norm_lpdf(data, atoms):\n",
    "    means = jnp.vstack([x[0] for x in atoms])\n",
    "    sds = jnp.sqrt(jnp.vstack([x[1] for x in atoms]))\n",
    "    \n",
    "    return tfd.Normal(means[:, jnp.newaxis], sds[:, jnp.newaxis]).log_prob(data).T"
   ]
  },
  {
   "cell_type": "code",
   "execution_count": 22,
   "id": "dd4d922c",
   "metadata": {},
   "outputs": [],
   "source": [
    "clus = np.random.choice(10, size=out.shape)\n",
    "clus[np.isnan(out)] = -10\n",
    "c = 2"
   ]
  },
  {
   "cell_type": "code",
   "execution_count": 23,
   "id": "f2d7978f",
   "metadata": {},
   "outputs": [
    {
     "data": {
      "text/plain": [
       "(DeviceArray(6.019065, dtype=float32), DeviceArray(2.098379, dtype=float32))"
      ]
     },
     "execution_count": 23,
     "metadata": {},
     "output_type": "execute_result"
    }
   ],
   "source": [
    "alldata = jnp.array(out)\n",
    "clus = jnp.array(clus)\n",
    "\n",
    "get_mean_and_var(alldata, clus, c)"
   ]
  },
  {
   "cell_type": "code",
   "execution_count": 52,
   "id": "16cd107c",
   "metadata": {},
   "outputs": [],
   "source": [
    "from jax import random\n",
    "from jax.ops import index_update\n",
    "\n",
    "seed = 0\n",
    "key = random.PRNGKey(seed)\n",
    "\n",
    "atoms = jnp.array(np.random.uniform(size=(10, 2)))\n",
    "likes = norm_lpdf(alldata, atoms)\n",
    "probas = jnp.exp(likes)\n",
    "probas /= jnp.nansum(probas, axis=1)[:, jnp.newaxis, :]\n",
    "rng_key, subkey = random.split(key)\n",
    "clus = tfd.Categorical(probs=probas).sample(seed=key).T\n",
    "clus = index_update(clus, np.isnan(alldata), -10)"
   ]
  },
  {
   "cell_type": "code",
   "execution_count": 63,
   "id": "6113ac60",
   "metadata": {},
   "outputs": [],
   "source": [
    "from jax.ops import index"
   ]
  },
  {
   "cell_type": "code",
   "execution_count": 64,
   "id": "b9ce9aba",
   "metadata": {},
   "outputs": [
    {
     "data": {
      "text/plain": [
       "array([[False, False, False, ...,  True,  True,  True],\n",
       "       [False, False, False, ...,  True,  True,  True],\n",
       "       [False, False, False, ...,  True,  True,  True],\n",
       "       ...,\n",
       "       [False, False, False, ...,  True,  True,  True],\n",
       "       [False, False, False, ...,  True,  True,  True],\n",
       "       [False, False, False, ...,  True,  True,  True]])"
      ]
     },
     "execution_count": 64,
     "metadata": {},
     "output_type": "execute_result"
    }
   ],
   "source": []
  },
  {
   "cell_type": "code",
   "execution_count": 35,
   "id": "87625390",
   "metadata": {},
   "outputs": [
    {
     "data": {
      "text/plain": [
       "(1048, 131)"
      ]
     },
     "execution_count": 35,
     "metadata": {},
     "output_type": "execute_result"
    }
   ],
   "source": [
    "alldata.shape"
   ]
  },
  {
   "cell_type": "code",
   "execution_count": 30,
   "id": "084d93c6",
   "metadata": {},
   "outputs": [
    {
     "data": {
      "text/plain": [
       "(131, 1048, 10)"
      ]
     },
     "execution_count": 30,
     "metadata": {},
     "output_type": "execute_result"
    }
   ],
   "source": [
    "likes.shape"
   ]
  }
 ],
 "metadata": {
  "kernelspec": {
   "display_name": "Python 3",
   "language": "python",
   "name": "python3"
  },
  "language_info": {
   "codemirror_mode": {
    "name": "ipython",
    "version": 3
   },
   "file_extension": ".py",
   "mimetype": "text/x-python",
   "name": "python",
   "nbconvert_exporter": "python",
   "pygments_lexer": "ipython3",
   "version": "3.9.7"
  }
 },
 "nbformat": 4,
 "nbformat_minor": 5
}
