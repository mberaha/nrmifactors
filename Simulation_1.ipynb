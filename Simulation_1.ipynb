{
 "cells": [
  {
   "cell_type": "code",
   "execution_count": null,
   "id": "10463443",
   "metadata": {},
   "outputs": [],
   "source": [
    "import os\n",
    "os.environ[\"JAX_ENABLE_X64\"] = \"true\"\n",
    "\n",
    "\n",
    "\n",
    "import numpy as onp\n",
    "import jax.numpy as np\n",
    "import matplotlib.pyplot as plt\n",
    "from jax import random\n",
    "from nrmifactors import algorithm as algo\n",
    "from nrmifactors.state import State\n",
    "import nrmifactors.priors as priors\n",
    "\n",
    "from tensorflow_probability.substrates import jax as tfp\n",
    "tfd = tfp.distributions\n"
   ]
  },
  {
   "cell_type": "code",
   "execution_count": null,
   "id": "b5aba11b",
   "metadata": {},
   "outputs": [],
   "source": [
    "import logging\n",
    "logger = logging.getLogger(\"root\")\n",
    "\n",
    "class CheckTypesFilter(logging.Filter):\n",
    "    def filter(self, record):\n",
    "        return \"check_types\" not in record.getMessage()\n",
    "\n",
    "logger.addFilter(CheckTypesFilter())"
   ]
  },
  {
   "cell_type": "code",
   "execution_count": null,
   "id": "3db7f7a3",
   "metadata": {},
   "outputs": [],
   "source": [
    "from scipy.stats import skewnorm\n",
    "\n",
    "ndata = 50\n",
    "ngroups = 100\n",
    "\n",
    "key = random.PRNGKey(202204)\n",
    "\n",
    "locs = np.array([-2.0, 0.0, 2.0])\n",
    "data = []\n",
    "probs = []\n",
    "\n",
    "for i in range(ngroups):\n",
    "    key, subkey = random.split(key)\n",
    "    probas = tfd.Dirichlet(np.array([0.5, 0.5, 0.5])).sample(seed=subkey)\n",
    "    probs.append(probas)\n",
    "    key, subkey = random.split(key)\n",
    "    clus = tfd.Categorical(probs=probas).sample((ndata), seed=subkey)\n",
    "    key, subkey = random.split(key)\n",
    "    curr = tfd.Normal(locs[clus], np.ones_like(clus) * 1.5).sample(seed=subkey)\n",
    "    data.append(curr)\n",
    "\n",
    "data = np.stack(data)"
   ]
  },
  {
   "cell_type": "code",
   "execution_count": null,
   "id": "413d928e",
   "metadata": {},
   "outputs": [],
   "source": [
    "fig, axes = plt.subplots(nrows=1, ncols=4, figsize=(20, 3))\n",
    "axes[0].hist(onp.array(data[0, :]))    \n",
    "axes[1].hist(onp.array(data[2, :]))\n",
    "axes[2].hist(onp.array(data[5, :]))    \n",
    "axes[3].hist(onp.array(data[-2, :]))\n",
    "\n",
    "for i in range(4):\n",
    "    axes[i].set_xlim(-6, 6)"
   ]
  },
  {
   "cell_type": "code",
   "execution_count": null,
   "id": "07082328",
   "metadata": {},
   "outputs": [],
   "source": [
    "from sklearn.cluster import KMeans\n",
    "\n",
    "natoms = 20\n",
    "\n",
    "km = KMeans(natoms)\n",
    "km.fit(data.reshape(-1, 1))\n",
    "clus = km.predict(data.reshape(-1,1)).reshape(data.shape)\n",
    "means = km.cluster_centers_\n",
    "\n",
    "init_atoms = np.hstack([means, np.ones_like(means) * 0.3])"
   ]
  },
  {
   "cell_type": "code",
   "execution_count": null,
   "id": "c0d84160",
   "metadata": {},
   "outputs": [],
   "source": [
    "key = random.PRNGKey(202204)\n",
    "nlat = 20\n",
    "\n",
    "prior = priors.NrmiFacPrior(\n",
    "    kern_prior=priors.NNIGPrior(0.0, 0.01, 5.0, 5.0),\n",
    "    lam_prior_iid=priors.GammaPrior(4.0, 4.0),\n",
    "    lam_prior_mgp=priors.MGPPrior(50.0, 2.0, 3.0, 0, -0.05, 0.05),\n",
    "    lam_prior=\"mgp\",\n",
    "    m_prior=priors.GammaPrior(2.0, 2.0),\n",
    "    j_prior=priors.GammaPrior(2.0, 2.0)\n",
    ")\n",
    "\n",
    "\n",
    "lam = np.ones((ngroups, nlat)) / nlat\n",
    "m = tfd.Gamma(0.1, 2.0).sample((nlat, natoms), seed=key).astype(float)\n",
    "\n",
    "j = np.ones(natoms).astype(float) * 0.5\n",
    "u = np.ones(ngroups).astype(float)\n",
    "\n",
    "state = State(\n",
    "    iter=0,\n",
    "    atoms=init_atoms, \n",
    "    j=j, \n",
    "    lam=lam,\n",
    "    phis=1.0/lam,\n",
    "    deltas=np.ones(lam.shape[1]),\n",
    "    m=m, \n",
    "    clus=clus, \n",
    "    u=u,\n",
    ")\n",
    "nan_idx = np.where(np.isnan(data))\n",
    "nobs_by_group = np.array(\n",
    "        [np.count_nonzero(~np.isnan(x)) for x in data]).astype(float)"
   ]
  },
  {
   "cell_type": "code",
   "execution_count": null,
   "id": "25562a36",
   "metadata": {},
   "outputs": [],
   "source": [
    "key = random.PRNGKey(202204)"
   ]
  },
  {
   "cell_type": "code",
   "execution_count": null,
   "id": "563f542a",
   "metadata": {
    "scrolled": true
   },
   "outputs": [],
   "source": [
    "state, key = algo.adapt_mgp(state, 1000, 50, data, nan_idx, nobs_by_group, prior, key)"
   ]
  },
  {
   "cell_type": "code",
   "execution_count": null,
   "id": "ed479508",
   "metadata": {
    "scrolled": true
   },
   "outputs": [],
   "source": [
    "from copy import deepcopy\n",
    "\n",
    "niter = 60000\n",
    "nburn = 50000\n",
    "thin = 1\n",
    "\n",
    "states = []\n",
    "\n",
    "for i in range(niter):\n",
    "    print(\"\\r{0}/{1}\".format(i+1, niter), flush=True, end=\" \")\n",
    "    state, key = algo.run_one_step(state, data, nan_idx, nobs_by_group, prior, key)\n",
    "    if (i > nburn) and (i % thin == 0):\n",
    "        states.append(deepcopy(state))"
   ]
  },
  {
   "cell_type": "code",
   "execution_count": null,
   "id": "fae1fb8a",
   "metadata": {},
   "outputs": [],
   "source": [
    "import pickle\n",
    "\n",
    "with open(\"simu2/chains_mgp3.pickle\", \"wb\") as fp:\n",
    "    pickle.dump(states, fp)"
   ]
  },
  {
   "cell_type": "code",
   "execution_count": null,
   "id": "0e5ac8df",
   "metadata": {},
   "outputs": [],
   "source": [
    "def eval_densities(xgrid, lam, m, j, atoms):\n",
    "    weights = np.matmul(lam, m) * j\n",
    "    weights /= weights.sum(axis=1)[:, np.newaxis]\n",
    "    eval_comps = tfd.Normal(loc=atoms[:, 0], scale=np.sqrt(atoms[:, 1])).prob(xgrid[:, np.newaxis])\n",
    "    dens = eval_comps[:, np.newaxis, :] * weights[np.newaxis, :, :]\n",
    "    dens = np.sum(dens, axis=-1).T\n",
    "    return dens"
   ]
  },
  {
   "cell_type": "code",
   "execution_count": null,
   "id": "51696628",
   "metadata": {},
   "outputs": [],
   "source": [
    "group_idx = [0, 1, 2, 4]\n",
    "\n",
    "fig, axes = plt.subplots(nrows=1, ncols=len(group_idx), figsize=(20, 5))\n",
    "\n",
    "\n",
    "idx = [-1, -10, -100, -1000]\n",
    "xgrid = np.linspace(-10, 10, 1000)\n",
    "\n",
    "\n",
    "\n",
    "for i in range(len(group_idx)):\n",
    "    axes[i].hist(onp.array(data[group_idx[i], :]), density=True, alpha=0.3)\n",
    "\n",
    "for j in sorted(idx):\n",
    "    state = states[j]\n",
    "    dens = eval_densities(xgrid, state.lam, state.m, state.j, state.atoms)\n",
    "    for i in range(len(group_idx)):\n",
    "        axes[i].plot(xgrid, dens[group_idx[i], :], label=\"j: {0}\".format(j))\n",
    "        axes[i].set_xlim(-15, 15)\n",
    "        \n",
    "axes[0].legend(fontsize=12)   \n",
    "plt.tight_layout()\n",
    "# plt.savefig(\"simu1/dens_estimate.pdf\", bbox_inches=\"tight\")        \n",
    "plt.show()"
   ]
  },
  {
   "cell_type": "code",
   "execution_count": null,
   "id": "8ef6b837",
   "metadata": {},
   "outputs": [],
   "source": [
    "nlat = states[-1].lam.shape[1]\n",
    "\n",
    "fig, axes = plt.subplots(nrows=1, ncols=int(nlat), figsize=(20, 5))\n",
    "axes = axes.flat\n",
    "\n",
    "for j in sorted(idx):\n",
    "    state = states[j]\n",
    "\n",
    "    eval_comps = tfd.Normal(\n",
    "        loc=state.atoms[:, 0], scale=np.sqrt(state.atoms[:, 1])).prob(xgrid[:, np.newaxis])\n",
    "    dens_lat = eval_comps[:, np.newaxis, :] * (state.m * state.j)[np.newaxis, :, :]\n",
    "    dens_lat = np.sum(dens_lat, axis=-1).T    \n",
    "\n",
    "\n",
    "    for i in range(nlat):\n",
    "        axes[i].plot(xgrid, dens_lat[i, :], label=\"j: {0}\".format(len(states) + j))\n",
    "        \n",
    "axes[0].legend(fontsize=12)\n",
    "\n",
    "plt.tight_layout()\n",
    "plt.show()"
   ]
  },
  {
   "cell_type": "code",
   "execution_count": null,
   "id": "811a5b63",
   "metadata": {},
   "outputs": [],
   "source": [
    "fig, axes = plt.subplots(nrows=1, ncols=nlat, figsize=(20,5))\n",
    "\n",
    "axes = axes.flat\n",
    "\n",
    "for i in range(ngroups):\n",
    "    for j in range(nlat):\n",
    "        axes[j].plot([x.lam[i, j] for x in states[-1000:]], label=\"j: {0}\".format(j + 1))"
   ]
  },
  {
   "cell_type": "markdown",
   "id": "0bcb0bfe",
   "metadata": {},
   "source": [
    "# PostProcess"
   ]
  },
  {
   "cell_type": "code",
   "execution_count": null,
   "id": "ffaccfcf",
   "metadata": {},
   "outputs": [],
   "source": [
    "import pickle\n",
    "\n",
    "# with open(\"simu2/chains_mgp2.pickle\", \"rb\") as fp:\n",
    "#    states = pickle.load(fp)"
   ]
  },
  {
   "cell_type": "code",
   "execution_count": null,
   "id": "0c3c3850",
   "metadata": {},
   "outputs": [],
   "source": [
    "from jax import jit\n",
    "from jax import jacfwd, grad\n",
    "from nrmifactors.postprocess import ralm\n",
    "\n",
    "delta = xgrid[1] - xgrid[0]\n",
    "\n",
    "@jit\n",
    "def obj_func(x, J, M, component_dens):\n",
    "    curr_m = x @ M\n",
    "    trans_dens = curr_m * J @ component_dens\n",
    "    trans_dens /= (np.sum(trans_dens, axis=1, keepdims=True) * delta)\n",
    "    out = 0.0\n",
    "    for i in range(trans_dens.shape[0]):\n",
    "        for j in range(i):\n",
    "            curr = (np.sum((trans_dens[i, :] * trans_dens[j, :]) **2 ) * delta)\n",
    "            out += curr\n",
    "    return out\n",
    "\n",
    "@jit\n",
    "def obj_func2(x, J, M, component_dens):\n",
    "    curr_m = x @ M\n",
    "    trans_dens = curr_m * J @ component_dens\n",
    "    trans_dens /= (np.sum(trans_dens, axis=1, keepdims=True) * delta)\n",
    "    out = 0.0\n",
    "    for i in range(trans_dens.shape[0]):\n",
    "        for j in range(i):\n",
    "            curr = np.sum(np.sqrt(trans_dens[i, :] * trans_dens[j, :])) * delta\n",
    "            out += curr\n",
    "    return out\n",
    "\n",
    "@jit\n",
    "def constraints(x):\n",
    "    return - np.concatenate([\n",
    "        (lam @ np.linalg.inv(x)).reshape(-1, 1),\n",
    "        (x @ M).reshape(-1, 1)])[:, 0]\n",
    "\n",
    "@jit\n",
    "def max0(x):\n",
    "    return x * (x > 0)\n",
    "\n",
    "@jit\n",
    "def penalty(x, lambdas):\n",
    "    return 0.5 * 1.0 * np.sum(max0(lambdas / 0.5 + constraints(x))**2)\n",
    "\n",
    "\n",
    "stepsize = 1e-6\n",
    "init_thr = 1e-2\n",
    "target_thr = 1e-6\n",
    "min_lambda = 1e-4\n",
    "init_lambdas = np.zeros_like(constr_eval) + 1\n",
    "dmin = 1e-6\n",
    "init_lambdas = np.zeros_like(constr_eval) + 0.01\n",
    "max_lambda = 2\n",
    "init_rho = 1\n",
    "mu = 0.5\n",
    "\n",
    "\n",
    "def get_opt_q(state, init_point):\n",
    "    M = state.m\n",
    "    lam = state.lam\n",
    "    J = state.j \n",
    "    J /= np.sum(J)\n",
    "    xgrid = np.linspace(-6, 6, 1000)\n",
    "\n",
    "    component_dens = np.array([\n",
    "        tfd.Normal(x[0], np.sqrt(x[1])).prob(xgrid) for x in states[0].atoms])\n",
    "    \n",
    "    f = lambda x: obj_func2(x, J, M, component_dens)\n",
    "    grad_f = grad(f)\n",
    "    grad_cons = jacfwd(constraints)\n",
    "    \n",
    "    opt_x_pen = ralm(\n",
    "        f, grad_f, constraints, grad_cons, init_point, mu, stepsize, \n",
    "        init_thr, target_thr, init_lambdas, min_lambda, max_lambda, \n",
    "        init_rho, dmin, maxiter=100)\n",
    "    return opt_x_pen"
   ]
  },
  {
   "cell_type": "code",
   "execution_count": null,
   "id": "2526a91c",
   "metadata": {},
   "outputs": [],
   "source": [
    "q0 = get_opt_q(states[0], np.eye(M.shape[0]))"
   ]
  },
  {
   "cell_type": "code",
   "execution_count": null,
   "id": "f5d42e5c",
   "metadata": {},
   "outputs": [],
   "source": [
    "state = states[0]\n",
    "M = state.m\n",
    "lam = state.lam\n",
    "J = state.j \n",
    "J /= np.sum(J)\n",
    "xgrid = np.linspace(-6, 6, 1000)\n",
    "\n",
    "component_dens = np.array([\n",
    "    tfd.Normal(x[0], np.sqrt(x[1])).prob(xgrid) for x in states[0].atoms])\n",
    "\n",
    "obj_func2(q0, J, M, component_dens)"
   ]
  },
  {
   "cell_type": "code",
   "execution_count": null,
   "id": "d30993f5",
   "metadata": {},
   "outputs": [],
   "source": [
    "curr_m = q0 @ M\n",
    "trans_dens = curr_m * J @ component_dens\n",
    "trans_dens /= (np.sum(trans_dens, axis=1, keepdims=True) * delta)\n"
   ]
  },
  {
   "cell_type": "code",
   "execution_count": null,
   "id": "c7c0448a",
   "metadata": {},
   "outputs": [],
   "source": [
    "qs = [get_opt_q(x, q0) for x in onp.array(states)[np.arange(0, 10000, 10)]]"
   ]
  },
  {
   "cell_type": "code",
   "execution_count": null,
   "id": "7fce0571",
   "metadata": {},
   "outputs": [],
   "source": [
    "with open(\"simu2/chains_mgp3_qs_newloss.pickle\", \"wb\") as fp:\n",
    "    pickle.dump(qs, fp)"
   ]
  },
  {
   "cell_type": "code",
   "execution_count": null,
   "id": "8b18a4d8",
   "metadata": {},
   "outputs": [],
   "source": [
    "idx = np.arange(1, 1000, 10)\n",
    "\n",
    "fig, axes = plt.subplots(nrows=2, ncols=int(nlat), figsize=(20, 10))\n",
    "\n",
    "for j in sorted(idx):\n",
    "    state = onp.array(states)[np.arange(0, 10000, 10)][j]\n",
    "    q = qs[j]\n",
    "\n",
    "    eval_comps = tfd.Normal(\n",
    "        loc=state.atoms[:, 0], scale=np.sqrt(state.atoms[:, 1])).prob(xgrid[:, np.newaxis])\n",
    "    \n",
    "    dens_lat = eval_comps[:, np.newaxis, :] * (state.m * state.j)[np.newaxis, :, :]\n",
    "    dens_lat = np.sum(dens_lat, axis=-1).T   \n",
    "\n",
    "\n",
    "    for i in range(nlat):\n",
    "        d = dens_lat[i, :]\n",
    "        d = d / np.sum(d * delta)\n",
    "        axes[0][i].plot(xgrid, d, color=\"black\", alpha=0.3)\n",
    "    \n",
    "    \n",
    "    dens_lat = eval_comps[:, np.newaxis, :] * (q @ state.m * state.j)[np.newaxis, :, :]\n",
    "    dens_lat = np.sum(dens_lat, axis=-1).T   \n",
    "\n",
    "\n",
    "    for i in range(nlat):\n",
    "        d = dens_lat[i, :]\n",
    "        d = d / np.sum(d * delta)\n",
    "        if j == sorted(idx)[-1]:\n",
    "            axes[1][i].plot(xgrid, d, color=\"red\", lw=2)\n",
    "        else:\n",
    "            axes[1][i].plot(xgrid, d, color=\"black\", alpha=0.3)"
   ]
  },
  {
   "cell_type": "code",
   "execution_count": null,
   "id": "db9cfa03",
   "metadata": {},
   "outputs": [],
   "source": [
    "from nrmifactors.postprocess import optimal_align as align"
   ]
  },
  {
   "cell_type": "code",
   "execution_count": null,
   "id": "94ccd2e9",
   "metadata": {},
   "outputs": [],
   "source": [
    "state = states[-1]\n",
    "eval_comps = tfd.Normal(\n",
    "    loc=state.atoms[:, 0], scale=np.sqrt(state.atoms[:, 1])).prob(xgrid[:, np.newaxis])\n",
    "    \n",
    "dens_lat = eval_comps[:, np.newaxis, :] * (q @ state.m * state.j)[np.newaxis, :, :]\n",
    "dens_lat = np.sum(dens_lat, axis=-1).T   \n",
    "template_dens = dens_lat / (np.sum(dens_lat, axis=1, keepdims=True) * delta)"
   ]
  },
  {
   "cell_type": "code",
   "execution_count": null,
   "id": "1f4b00a1",
   "metadata": {
    "scrolled": false
   },
   "outputs": [],
   "source": [
    "idx = np.arange(1, 1000, 10)\n",
    "\n",
    "fig, axes = plt.subplots(nrows=2, ncols=int(nlat), figsize=(20, 10))\n",
    "\n",
    "for j in sorted(idx)[:-1]:\n",
    "    state = onp.array(states)[np.arange(0, 10000, 10)][j]\n",
    "    q = qs[j]\n",
    "\n",
    "    eval_comps = tfd.Normal(\n",
    "        loc=state.atoms[:, 0], scale=np.sqrt(state.atoms[:, 1])).prob(xgrid[:, np.newaxis])\n",
    "    \n",
    "    dens_lat = eval_comps[:, np.newaxis, :] * (q @ state.m * state.j)[np.newaxis, :, :]\n",
    "    dens_lat = np.sum(dens_lat, axis=-1).T  \n",
    "    dens_lat = dens_lat / (np.sum(dens_lat, axis=1, keepdims=True) * delta)\n",
    "    \n",
    "    aligned_lat = align(template_dens, dens_lat)\n",
    "    \n",
    "    for i in range(nlat):\n",
    "            axes[0][i].plot(xgrid, dens_lat[i, :], color=\"black\", alpha=0.2)\n",
    "            axes[1][i].plot(xgrid, aligned_lat[i, :], color=\"black\", alpha=0.2)\n",
    "            \n",
    "            \n",
    "for i in range(nlat):\n",
    "    axes[0][i].plot(xgrid, template_dens[i, :], color=\"red\", lw=3)\n",
    "    axes[1][i].plot(xgrid, template_dens[i, :], color=\"red\", lw=3)\n",
    "    \n",
    "# plt.savefig(\"../latex/images/simu_mgp_latent_dens.pdf\", bbox_inches=\"tight\")"
   ]
  },
  {
   "cell_type": "code",
   "execution_count": null,
   "id": "af99a422",
   "metadata": {},
   "outputs": [],
   "source": [
    "idx = np.arange(1, 1000, 10)\n",
    "\n",
    "fig, axes = plt.subplots(nrows=2, ncols=int(nlat), figsize=(20, 10))\n",
    "\n",
    "for j in sorted(idx)[:-1]:\n",
    "    state = onp.array(states)[np.arange(0, 10000, 10)][j]\n",
    "\n",
    "    eval_comps = tfd.Normal(\n",
    "        loc=state.atoms[:, 0], scale=np.sqrt(state.atoms[:, 1])).prob(xgrid[:, np.newaxis])\n",
    "    \n",
    "    j = state.j * 1e20\n",
    "    dens_lat = eval_comps[:, np.newaxis, :] * (state.m * j)[np.newaxis, :, :]\n",
    "    dens_lat = np.sum(dens_lat, axis=-1).T  \n",
    "    \n",
    "    norm_dens_lat = dens_lat / (np.sum(dens_lat, axis=1, keepdims=True) * delta)\n",
    "    \n",
    "    aligned_lat = align(template_dens, norm_dens_lat)\n",
    "    \n",
    "    for i in range(nlat):\n",
    "            axes[0][i].plot(xgrid, dens_lat[i, :], color=\"black\", alpha=0.2)\n",
    "            axes[1][i].plot(xgrid, aligned_lat[i, :], color=\"black\", alpha=0.2)\n",
    "            \n",
    "            \n",
    "for i in range(nlat):\n",
    "    axes[1][i].plot(xgrid, template_dens[i, :], color=\"red\", lw=3)\n",
    "    \n",
    "#plt.savefig(\"../latex/images/simu_mgp_latent_dens.pdf\", bbox_inches=\"tight\")"
   ]
  }
 ],
 "metadata": {
  "interpreter": {
   "hash": "8294d689fa6bd2701400a0e60dea7668f26f07adf5add917e9a17ef4dcae5d1f"
  },
  "kernelspec": {
   "display_name": "Python [conda env:scipy-dev] *",
   "language": "python",
   "name": "python3"
  },
  "language_info": {
   "codemirror_mode": {
    "name": "ipython",
    "version": 3
   },
   "file_extension": ".py",
   "mimetype": "text/x-python",
   "name": "python",
   "nbconvert_exporter": "python",
   "pygments_lexer": "ipython3",
   "version": "3.10.2"
  }
 },
 "nbformat": 4,
 "nbformat_minor": 5
}
