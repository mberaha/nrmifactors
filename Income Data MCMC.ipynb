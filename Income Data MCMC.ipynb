{
 "cells": [
  {
   "cell_type": "code",
   "execution_count": 1,
   "id": "e41a5e2b",
   "metadata": {},
   "outputs": [
    {
     "name": "stderr",
     "output_type": "stream",
     "text": [
      "WARNING:absl:No GPU/TPU found, falling back to CPU. (Set TF_CPP_MIN_LOG_LEVEL=0 and rerun for more info.)\n"
     ]
    }
   ],
   "source": [
    "import os\n",
    "os.environ[\"JAX_ENABLE_X64\"] = \"true\"\n",
    "os.environ[\"xla_cpu_multi_thread_eigen\"] = \"true\"\n",
    "os.environ[\"intra_op_parallelism_threads\"] = \"4\"\n",
    "\n",
    "\n",
    "import jax.numpy as np\n",
    "import matplotlib.pyplot as plt\n",
    "from jax import random\n",
    "from jax.experimental.sparse import COO\n",
    "from nrmifactors import algorithm as algo\n",
    "from nrmifactors.state import State\n",
    "import nrmifactors.priors as priors\n",
    "import pickle\n",
    "\n",
    "from tensorflow_probability.substrates import jax as tfp\n",
    "tfd = tfp.distributions\n",
    "\n",
    "key = random.PRNGKey(0)"
   ]
  },
  {
   "cell_type": "code",
   "execution_count": 2,
   "id": "c5947dde",
   "metadata": {},
   "outputs": [],
   "source": [
    "from nrmifactors.algorithm import update_tau_gmrf, update_lambda_gmrf"
   ]
  },
  {
   "cell_type": "code",
   "execution_count": 3,
   "id": "2f780958",
   "metadata": {},
   "outputs": [],
   "source": [
    "with open(\"income_data/california_puma_neighbors.pickle\", \"rb\") as fp:\n",
    "    neighbors = pickle.load(fp)"
   ]
  },
  {
   "cell_type": "code",
   "execution_count": null,
   "id": "f4d21d29",
   "metadata": {},
   "outputs": [],
   "source": [
    "prec = np.diag(neighbors.sum(axis=1)) - neighbors\n",
    "eigvals, eigvecs = np.linalg.eigh(prec)\n",
    "prec_logdet = np.sum(np.log(eigvals[eigvals > 1e-6]))\n",
    "prec = COO.fromdense(prec)"
   ]
  },
  {
   "cell_type": "code",
   "execution_count": null,
   "id": "b8724664",
   "metadata": {},
   "outputs": [],
   "source": [
    "nlat = 10\n",
    "true_tau = 5\n",
    "\n",
    "fake_prec = true_tau * (np.diag(neighbors.sum(axis=1)) - 0.95 * neighbors)\n",
    "cov = np.linalg.inv(fake_prec)\n",
    "\n",
    "log_lam = tfd.MultivariateNormalFullCovariance(\n",
    "    np.zeros(cov.shape[0]), cov).sample(sample_shape=(nlat,), seed=key).T\n",
    "lam = np.exp(log_lam)"
   ]
  },
  {
   "cell_type": "code",
   "execution_count": null,
   "id": "2a3464c8",
   "metadata": {},
   "outputs": [],
   "source": [
    "lam = lam * 20"
   ]
  },
  {
   "cell_type": "code",
   "execution_count": null,
   "id": "fbabd39a",
   "metadata": {},
   "outputs": [],
   "source": [
    "natoms = 10\n",
    "ndata = 500\n",
    "ngr = lam.shape[0]\n",
    "m = np.ones((nlat, natoms))\n",
    "j = np.ones(natoms)\n",
    "\n",
    "weights = (lam @ m) * j\n",
    "u = tfd.Gamma(np.ones(ngr) * ndata, np.sum(weights, axis=1)).sample(seed=key)\n",
    "weights = weights / np.sum(weights, axis=1).reshape(-1, 1)"
   ]
  },
  {
   "cell_type": "code",
   "execution_count": null,
   "id": "6c779af8",
   "metadata": {},
   "outputs": [],
   "source": [
    "clus_allocs = tfd.Categorical(probs=weights).sample(sample_shape=(500,), seed=key).T"
   ]
  },
  {
   "cell_type": "code",
   "execution_count": null,
   "id": "6519ba06",
   "metadata": {},
   "outputs": [],
   "source": [
    "mcmc_lam = np.ones(lam.shape) * 20\n",
    "lam_chain = []\n",
    "\n",
    "for i in range(100):\n",
    "    print(\"\\r{0}/{1}\".format(i+1, 1000), flush=True, end=\" \")\n",
    "    mcmc_lam, key, step_size = update_lambda_gmrf(\n",
    "        clus_allocs, mcmc_lam, m, j, u, prec, prec_logdet, true_tau, key)\n",
    "    lam_chain.append(mcmc_lam)"
   ]
  },
  {
   "cell_type": "code",
   "execution_count": null,
   "id": "b8fccc2f",
   "metadata": {},
   "outputs": [],
   "source": [
    "def eval_densities(xgrid, lam, m, j, atoms):\n",
    "    weights = np.matmul(lam, m) * j\n",
    "    weights /= weights.sum(axis=1)[:, np.newaxis]\n",
    "    eval_comps = tfd.Normal(loc=atoms[:, 0], scale=np.sqrt(atoms[:, 1])).prob(xgrid[:, np.newaxis])\n",
    "    dens = eval_comps[:, np.newaxis, :] * weights[np.newaxis, :, :]\n",
    "    print(dens.shape)\n",
    "    dens = np.sum(dens, axis=-1).T\n",
    "    return dens"
   ]
  },
  {
   "cell_type": "code",
   "execution_count": null,
   "id": "eabe1d6e",
   "metadata": {},
   "outputs": [],
   "source": [
    "lam "
   ]
  },
  {
   "cell_type": "code",
   "execution_count": null,
   "id": "2d213691",
   "metadata": {},
   "outputs": [],
   "source": [
    "xgrid = np.linspace(-15, 15, 1000)\n",
    "atoms = np.hstack([np.linspace(-10, 10, 10).reshape(-1, 1), np.ones(10).reshape(-1, 1) * 0.3])\n",
    "true_dens = eval_densities(xgrid, lam, m, j, atoms)\n",
    "plt.plot(xgrid, true_dens[0, :])\n",
    "\n",
    "for i in [-50, -5, -1]:\n",
    "    est_dens = eval_densities(xgrid, lam_chain[i], m, j, atoms)  \n",
    "    plt.plot(xgrid, est_dens[-20, :])"
   ]
  },
  {
   "cell_type": "code",
   "execution_count": null,
   "id": "5c22765c",
   "metadata": {},
   "outputs": [],
   "source": [
    "fig, axes = plt.subplots(nrows=2, ncols=5, figsize=(20, 20))\n",
    "axes = axes.flat\n",
    "\n",
    "for j in range(nlat):\n",
    "    for i in range(5):\n",
    "        axes[j].plot([x[i, j] for x in lam_chain])"
   ]
  },
  {
   "cell_type": "code",
   "execution_count": 4,
   "id": "d8df7170",
   "metadata": {},
   "outputs": [],
   "source": [
    "import numpy as onp\n",
    "import pandas as pd\n",
    "\n",
    "def get_weights(Nx, Ny):\n",
    "\n",
    "    N = Nx*Ny\n",
    "    centers = onp.zeros((N, 2))\n",
    "    for i in range(Nx):\n",
    "        for j in range(Ny):\n",
    "            centers[i + j*Nx, :] = np.array([i + 0.5, j + 0.5])\n",
    "    c = 0.3\n",
    "    alpha1 = c\n",
    "    alpha2 = -c\n",
    "    beta1 = c\n",
    "    beta2 = -c\n",
    "\n",
    "    weights = []\n",
    "    mean_centers = np.mean(centers, axis=0)\n",
    "    for center in centers:\n",
    "        w1 = alpha1 * (center[0] - mean_centers[0]) \\\n",
    "             + beta1 * (center[1] - mean_centers[1])\n",
    "        w2 = alpha2 * (center[0] - mean_centers[0]) \\\n",
    "            + beta2 * (center[1] - mean_centers[1])\n",
    "        weights.append(inv_alr([w1, w2]))\n",
    "\n",
    "    return np.array(weights)\n",
    "\n",
    "def inv_alr(x):\n",
    "    out = onp.exp(np.hstack((x, 0)))\n",
    "    return np.array(out / np.sum(out))\n",
    "\n",
    "\n",
    "def simulate_from_mixture(weights):\n",
    "    means = [-5, 0, 5]\n",
    "    comp = onp.random.choice(3, p=weights)\n",
    "    return onp.random.normal(loc=means[comp], scale=1)\n",
    "\n",
    "\n",
    "def simulate_data(weights, numSamples):\n",
    "    data = []\n",
    "    for i in range(len(weights)):\n",
    "        for j in range(numSamples):\n",
    "            data.append([i, simulate_from_mixture(weights[i])])\n",
    "    return pd.DataFrame(data, columns=[\"group\", \"datum\"])\n",
    "\n",
    "\n",
    "def compute_G(Nx, Ny):\n",
    "    N = Nx*Ny\n",
    "    G = onp.diag(np.ones(N-1), 1) + onp.diag(np.ones(N-1), -1) +\\\n",
    "        onp.diag(np.ones(N-Nx), Nx) + onp.diag(np.ones(N-Nx), -Nx)\n",
    "    # tolgo i bordi\n",
    "    border_indices = Nx*np.arange(1, Ny)\n",
    "    G[border_indices, border_indices - 1] = 0\n",
    "    G[border_indices - 1, border_indices] = 0\n",
    "\n",
    "    return np.array(G)\n",
    "\n",
    "\n",
    "def eval_densities(xgrid, lam, m, j, atoms):\n",
    "    weights = np.matmul(lam, m) * j\n",
    "    weights /= weights.sum(axis=1)[:, np.newaxis]\n",
    "    eval_comps = tfd.Normal(loc=atoms[:, 0], scale=np.sqrt(atoms[:, 1])).prob(xgrid[:, np.newaxis])\n",
    "    dens = eval_comps[:, np.newaxis, :] * weights[np.newaxis, :, :]\n",
    "    dens = np.sum(dens, axis=-1).T\n",
    "    return dens\n",
    "\n",
    "\n",
    "def get_true_dens(xgrid, weights, atoms):\n",
    "    eval_comps = tfd.Normal(loc=atoms[:, 0], scale=np.sqrt(atoms[:, 1])).prob(xgrid[:, np.newaxis])\n",
    "    dens = eval_comps[:, np.newaxis, :] * weights[np.newaxis, :, :]\n",
    "    dens = np.sum(dens, axis=-1).T\n",
    "    return dens"
   ]
  },
  {
   "cell_type": "code",
   "execution_count": 5,
   "id": "cb237089",
   "metadata": {},
   "outputs": [],
   "source": [
    "nx = 16\n",
    "ngroups = nx**2\n",
    "W = compute_G(nx, nx)\n",
    "\n",
    "weights = get_weights(nx, nx)\n",
    "datas = simulate_data(weights, 50)\n",
    "\n",
    "# first our model, in parallel\n",
    "groupedData = []\n",
    "for g in range(ngroups):\n",
    "    groupedData.append(datas[datas['group'] == g]['datum'].values)"
   ]
  },
  {
   "cell_type": "code",
   "execution_count": 6,
   "id": "ea07d047",
   "metadata": {},
   "outputs": [],
   "source": [
    "data = np.stack(groupedData)\n",
    "\n",
    "prec = np.diag(W.sum(axis=1)) - W\n",
    "eigvals, eigvecs = np.linalg.eigh(prec)\n",
    "prec_logdet = np.sum(np.log(eigvals[eigvals > 1e-6]))\n",
    "prec = COO.fromdense(prec)"
   ]
  },
  {
   "cell_type": "code",
   "execution_count": 7,
   "id": "3530e97d",
   "metadata": {},
   "outputs": [],
   "source": [
    "from sklearn.cluster import KMeans\n",
    "\n",
    "natoms = 10\n",
    "nlat = 5\n",
    "\n",
    "\n",
    "km = KMeans(natoms)\n",
    "km.fit(data.reshape(-1, 1))\n",
    "clus = km.predict(data.reshape(-1,1)).reshape(data.shape)\n",
    "means = km.cluster_centers_\n",
    "\n",
    "init_atoms = np.hstack([means, np.ones_like(means) * 0.3])"
   ]
  },
  {
   "cell_type": "code",
   "execution_count": 8,
   "id": "20c8fd56",
   "metadata": {},
   "outputs": [],
   "source": [
    "prior = priors.NrmiFacPrior(\n",
    "    kern_prior=priors.NNIGPrior(0.0, 0.01, 5.0, 5.0),\n",
    "    lam_prior_gmrf=priors.GMRFPrior(sigma=prec, sigma_logdet=prec_logdet, tau_a=2, tau_b=2),\n",
    "    lam_prior=\"gmrf\",\n",
    "    m_prior=priors.GammaPrior(2.0, 2.0),\n",
    "    j_prior=priors.GammaPrior(2.0, 2.0))\n",
    "\n",
    "\n",
    "lam = np.ones((data.shape[0], nlat))\n",
    "m = tfd.Gamma(prior.m_prior.a, prior.m_prior.b).sample((nlat, natoms), seed=key).astype(float)\n",
    "\n",
    "j = np.ones(natoms).astype(float) * 0.5\n",
    "u = np.ones(ngroups).astype(float)\n",
    "\n",
    "#clus = tfd.Categorical(probs=np.ones(natoms)/natoms).sample(data.shape, seed=key)\n",
    "state = State(\n",
    "    iter=0,\n",
    "    atoms=init_atoms, \n",
    "    j=j, \n",
    "    lam=lam,\n",
    "    m=m, \n",
    "    clus=clus, \n",
    "    u=u,\n",
    "    tau=0.5\n",
    ")"
   ]
  },
  {
   "cell_type": "code",
   "execution_count": 9,
   "id": "c5ee0193",
   "metadata": {},
   "outputs": [],
   "source": [
    "from jax.ops import index_update, index\n",
    "\n",
    "nan_idx = index[np.isnan(data)]\n",
    "nobs_by_group = np.array(\n",
    "        [np.count_nonzero(~np.isnan(x)) for x in data]).astype(float)"
   ]
  },
  {
   "cell_type": "code",
   "execution_count": 10,
   "id": "59caf67c",
   "metadata": {},
   "outputs": [
    {
     "name": "stdout",
     "output_type": "stream",
     "text": [
      "\r",
      "1/10000 "
     ]
    },
    {
     "name": "stderr",
     "output_type": "stream",
     "text": [
      "ERROR:root:Internal Python error in the inspect module.\n",
      "Below is the traceback from this internal error.\n",
      "\n"
     ]
    },
    {
     "name": "stdout",
     "output_type": "stream",
     "text": [
      "Traceback (most recent call last):\n",
      "  File \"/opt/homebrew/lib/python3.9/site-packages/IPython/core/interactiveshell.py\", line 3441, in run_code\n",
      "    exec(code_obj, self.user_global_ns, self.user_ns)\n",
      "  File \"<ipython-input-10-d9868d31db80>\", line 10, in <module>\n",
      "    state, key = algo.run_one_step(state, data, nan_idx, nobs_by_group, prior, key)\n",
      "  File \"/Users/marioberaha/research/bnp/nrmi_factor_models/nrmifactors/nrmifactors/algorithm.py\", line 387, in run_one_step\n",
      "    state.atoms, rng_key = update_atoms(\n",
      "  File \"/opt/homebrew/lib/python3.9/site-packages/jax/_src/traceback_util.py\", line 183, in reraise_with_filtered_traceback\n",
      "    return fun(*args, **kwargs)\n",
      "  File \"/opt/homebrew/lib/python3.9/site-packages/jax/_src/api.py\", line 424, in cache_miss\n",
      "    out_flat = xla.xla_call(\n",
      "  File \"/opt/homebrew/lib/python3.9/site-packages/jax/core.py\", line 1560, in bind\n",
      "    return call_bind(self, fun, *args, **params)\n",
      "  File \"/opt/homebrew/lib/python3.9/site-packages/jax/core.py\", line 1551, in call_bind\n",
      "    outs = primitive.process(top_trace, fun, tracers, params)\n",
      "  File \"/opt/homebrew/lib/python3.9/site-packages/jax/core.py\", line 1563, in process\n",
      "    return trace.process_call(self, fun, tracers, params)\n",
      "  File \"/opt/homebrew/lib/python3.9/site-packages/jax/core.py\", line 606, in process_call\n",
      "    return primitive.impl(f, *tracers, **params)\n",
      "  File \"/opt/homebrew/lib/python3.9/site-packages/jax/interpreters/xla.py\", line 592, in _xla_call_impl\n",
      "    compiled_fun = _xla_callable(fun, device, backend, name, donated_invars,\n",
      "  File \"/opt/homebrew/lib/python3.9/site-packages/jax/linear_util.py\", line 262, in memoized_fun\n",
      "    ans = call(fun, *args)\n",
      "  File \"/opt/homebrew/lib/python3.9/site-packages/jax/interpreters/xla.py\", line 743, in _xla_callable\n",
      "    compiled = backend_compile(backend, built, options)\n",
      "  File \"/opt/homebrew/lib/python3.9/site-packages/jax/interpreters/xla.py\", line 360, in backend_compile\n",
      "    return backend.compile(built_c, compile_options=options)\n",
      "KeyboardInterrupt\n",
      "\n",
      "During handling of the above exception, another exception occurred:\n",
      "\n",
      "Traceback (most recent call last):\n",
      "  File \"/opt/homebrew/lib/python3.9/site-packages/IPython/core/interactiveshell.py\", line 2061, in showtraceback\n",
      "    stb = value._render_traceback_()\n",
      "AttributeError: 'KeyboardInterrupt' object has no attribute '_render_traceback_'\n",
      "\n",
      "During handling of the above exception, another exception occurred:\n",
      "\n",
      "Traceback (most recent call last):\n",
      "  File \"/opt/homebrew/lib/python3.9/site-packages/IPython/core/ultratb.py\", line 1101, in get_records\n",
      "    return _fixed_getinnerframes(etb, number_of_lines_of_context, tb_offset)\n",
      "  File \"/opt/homebrew/lib/python3.9/site-packages/IPython/core/ultratb.py\", line 248, in wrapped\n",
      "    return f(*args, **kwargs)\n",
      "  File \"/opt/homebrew/lib/python3.9/site-packages/IPython/core/ultratb.py\", line 281, in _fixed_getinnerframes\n",
      "    records = fix_frame_records_filenames(inspect.getinnerframes(etb, context))\n",
      "  File \"/opt/homebrew/Cellar/python@3.9/3.9.10/Frameworks/Python.framework/Versions/3.9/lib/python3.9/inspect.py\", line 1543, in getinnerframes\n",
      "    frameinfo = (tb.tb_frame,) + getframeinfo(tb, context)\n",
      "  File \"/opt/homebrew/Cellar/python@3.9/3.9.10/Frameworks/Python.framework/Versions/3.9/lib/python3.9/inspect.py\", line 1501, in getframeinfo\n",
      "    filename = getsourcefile(frame) or getfile(frame)\n",
      "  File \"/opt/homebrew/Cellar/python@3.9/3.9.10/Frameworks/Python.framework/Versions/3.9/lib/python3.9/inspect.py\", line 709, in getsourcefile\n",
      "    if getattr(getmodule(object, filename), '__loader__', None) is not None:\n",
      "  File \"/opt/homebrew/Cellar/python@3.9/3.9.10/Frameworks/Python.framework/Versions/3.9/lib/python3.9/inspect.py\", line 755, in getmodule\n",
      "    os.path.realpath(f)] = module.__name__\n",
      "  File \"/opt/homebrew/Cellar/python@3.9/3.9.10/Frameworks/Python.framework/Versions/3.9/lib/python3.9/posixpath.py\", line 392, in realpath\n",
      "    path, ok = _joinrealpath(filename[:0], filename, {})\n",
      "  File \"/opt/homebrew/Cellar/python@3.9/3.9.10/Frameworks/Python.framework/Versions/3.9/lib/python3.9/posixpath.py\", line 425, in _joinrealpath\n",
      "    newpath = join(path, name)\n",
      "  File \"/opt/homebrew/Cellar/python@3.9/3.9.10/Frameworks/Python.framework/Versions/3.9/lib/python3.9/posixpath.py\", line 85, in join\n",
      "    elif not path or path.endswith(sep):\n",
      "KeyboardInterrupt\n"
     ]
    },
    {
     "ename": "TypeError",
     "evalue": "object of type 'NoneType' has no len()",
     "output_type": "error",
     "traceback": [
      "\u001b[0;31m---------------------------------------------------------------------------\u001b[0m",
      "\u001b[0;31mKeyboardInterrupt\u001b[0m                         Traceback (most recent call last)",
      "    \u001b[0;31m[... skipping hidden 1 frame]\u001b[0m\n",
      "\u001b[0;32m<ipython-input-10-d9868d31db80>\u001b[0m in \u001b[0;36m<module>\u001b[0;34m\u001b[0m\n\u001b[1;32m      9\u001b[0m     \u001b[0mprint\u001b[0m\u001b[0;34m(\u001b[0m\u001b[0;34m\"\\r{0}/{1}\"\u001b[0m\u001b[0;34m.\u001b[0m\u001b[0mformat\u001b[0m\u001b[0;34m(\u001b[0m\u001b[0mi\u001b[0m\u001b[0;34m+\u001b[0m\u001b[0;36m1\u001b[0m\u001b[0;34m,\u001b[0m \u001b[0mniter\u001b[0m\u001b[0;34m)\u001b[0m\u001b[0;34m,\u001b[0m \u001b[0mflush\u001b[0m\u001b[0;34m=\u001b[0m\u001b[0;32mTrue\u001b[0m\u001b[0;34m,\u001b[0m \u001b[0mend\u001b[0m\u001b[0;34m=\u001b[0m\u001b[0;34m\" \"\u001b[0m\u001b[0;34m)\u001b[0m\u001b[0;34m\u001b[0m\u001b[0;34m\u001b[0m\u001b[0m\n\u001b[0;32m---> 10\u001b[0;31m     \u001b[0mstate\u001b[0m\u001b[0;34m,\u001b[0m \u001b[0mkey\u001b[0m \u001b[0;34m=\u001b[0m \u001b[0malgo\u001b[0m\u001b[0;34m.\u001b[0m\u001b[0mrun_one_step\u001b[0m\u001b[0;34m(\u001b[0m\u001b[0mstate\u001b[0m\u001b[0;34m,\u001b[0m \u001b[0mdata\u001b[0m\u001b[0;34m,\u001b[0m \u001b[0mnan_idx\u001b[0m\u001b[0;34m,\u001b[0m \u001b[0mnobs_by_group\u001b[0m\u001b[0;34m,\u001b[0m \u001b[0mprior\u001b[0m\u001b[0;34m,\u001b[0m \u001b[0mkey\u001b[0m\u001b[0;34m)\u001b[0m\u001b[0;34m\u001b[0m\u001b[0;34m\u001b[0m\u001b[0m\n\u001b[0m\u001b[1;32m     11\u001b[0m     \u001b[0;32mif\u001b[0m \u001b[0;34m(\u001b[0m\u001b[0mi\u001b[0m \u001b[0;34m>\u001b[0m \u001b[0mnburn\u001b[0m\u001b[0;34m)\u001b[0m \u001b[0;32mand\u001b[0m \u001b[0;34m(\u001b[0m\u001b[0mi\u001b[0m \u001b[0;34m%\u001b[0m \u001b[0mthin\u001b[0m \u001b[0;34m==\u001b[0m \u001b[0;36m0\u001b[0m\u001b[0;34m)\u001b[0m\u001b[0;34m:\u001b[0m\u001b[0;34m\u001b[0m\u001b[0;34m\u001b[0m\u001b[0m\n",
      "\u001b[0;32m~/research/bnp/nrmi_factor_models/nrmifactors/nrmifactors/algorithm.py\u001b[0m in \u001b[0;36mrun_one_step\u001b[0;34m(state, data, nan_idx, nobs_by_group, prior, rng_key)\u001b[0m\n\u001b[1;32m    386\u001b[0m \u001b[0;34m\u001b[0m\u001b[0m\n\u001b[0;32m--> 387\u001b[0;31m     state.atoms, rng_key = update_atoms(\n\u001b[0m\u001b[1;32m    388\u001b[0m         \u001b[0mdata\u001b[0m\u001b[0;34m,\u001b[0m \u001b[0mstate\u001b[0m\u001b[0;34m.\u001b[0m\u001b[0mclus\u001b[0m\u001b[0;34m,\u001b[0m \u001b[0mnclus\u001b[0m\u001b[0;34m,\u001b[0m \u001b[0mprior\u001b[0m\u001b[0;34m.\u001b[0m\u001b[0mkern_prior\u001b[0m\u001b[0;34m.\u001b[0m\u001b[0mmu0\u001b[0m\u001b[0;34m,\u001b[0m \u001b[0mprior\u001b[0m\u001b[0;34m.\u001b[0m\u001b[0mkern_prior\u001b[0m\u001b[0;34m.\u001b[0m\u001b[0mlam\u001b[0m\u001b[0;34m,\u001b[0m \u001b[0mprior\u001b[0m\u001b[0;34m.\u001b[0m\u001b[0;34m\u001b[0m\u001b[0;34m\u001b[0m\u001b[0m\n",
      "    \u001b[0;31m[... skipping hidden 1 frame]\u001b[0m\n",
      "\u001b[0;32m/opt/homebrew/lib/python3.9/site-packages/jax/_src/api.py\u001b[0m in \u001b[0;36mcache_miss\u001b[0;34m(*args, **kwargs)\u001b[0m\n\u001b[1;32m    423\u001b[0m     \u001b[0mflat_fun\u001b[0m\u001b[0;34m,\u001b[0m \u001b[0mout_tree\u001b[0m \u001b[0;34m=\u001b[0m \u001b[0mflatten_fun\u001b[0m\u001b[0;34m(\u001b[0m\u001b[0mf\u001b[0m\u001b[0;34m,\u001b[0m \u001b[0min_tree\u001b[0m\u001b[0;34m)\u001b[0m\u001b[0;34m\u001b[0m\u001b[0;34m\u001b[0m\u001b[0m\n\u001b[0;32m--> 424\u001b[0;31m     out_flat = xla.xla_call(\n\u001b[0m\u001b[1;32m    425\u001b[0m         \u001b[0mflat_fun\u001b[0m\u001b[0;34m,\u001b[0m \u001b[0;34m*\u001b[0m\u001b[0margs_flat\u001b[0m\u001b[0;34m,\u001b[0m\u001b[0;34m\u001b[0m\u001b[0;34m\u001b[0m\u001b[0m\n",
      "\u001b[0;32m/opt/homebrew/lib/python3.9/site-packages/jax/core.py\u001b[0m in \u001b[0;36mbind\u001b[0;34m(self, fun, *args, **params)\u001b[0m\n\u001b[1;32m   1559\u001b[0m   \u001b[0;32mdef\u001b[0m \u001b[0mbind\u001b[0m\u001b[0;34m(\u001b[0m\u001b[0mself\u001b[0m\u001b[0;34m,\u001b[0m \u001b[0mfun\u001b[0m\u001b[0;34m,\u001b[0m \u001b[0;34m*\u001b[0m\u001b[0margs\u001b[0m\u001b[0;34m,\u001b[0m \u001b[0;34m**\u001b[0m\u001b[0mparams\u001b[0m\u001b[0;34m)\u001b[0m\u001b[0;34m:\u001b[0m\u001b[0;34m\u001b[0m\u001b[0;34m\u001b[0m\u001b[0m\n\u001b[0;32m-> 1560\u001b[0;31m     \u001b[0;32mreturn\u001b[0m \u001b[0mcall_bind\u001b[0m\u001b[0;34m(\u001b[0m\u001b[0mself\u001b[0m\u001b[0;34m,\u001b[0m \u001b[0mfun\u001b[0m\u001b[0;34m,\u001b[0m \u001b[0;34m*\u001b[0m\u001b[0margs\u001b[0m\u001b[0;34m,\u001b[0m \u001b[0;34m**\u001b[0m\u001b[0mparams\u001b[0m\u001b[0;34m)\u001b[0m\u001b[0;34m\u001b[0m\u001b[0;34m\u001b[0m\u001b[0m\n\u001b[0m\u001b[1;32m   1561\u001b[0m \u001b[0;34m\u001b[0m\u001b[0m\n",
      "\u001b[0;32m/opt/homebrew/lib/python3.9/site-packages/jax/core.py\u001b[0m in \u001b[0;36mcall_bind\u001b[0;34m(primitive, fun, *args, **params)\u001b[0m\n\u001b[1;32m   1550\u001b[0m   \u001b[0mtracers\u001b[0m \u001b[0;34m=\u001b[0m \u001b[0mmap\u001b[0m\u001b[0;34m(\u001b[0m\u001b[0mtop_trace\u001b[0m\u001b[0;34m.\u001b[0m\u001b[0mfull_raise\u001b[0m\u001b[0;34m,\u001b[0m \u001b[0margs\u001b[0m\u001b[0;34m)\u001b[0m\u001b[0;34m\u001b[0m\u001b[0;34m\u001b[0m\u001b[0m\n\u001b[0;32m-> 1551\u001b[0;31m   \u001b[0mouts\u001b[0m \u001b[0;34m=\u001b[0m \u001b[0mprimitive\u001b[0m\u001b[0;34m.\u001b[0m\u001b[0mprocess\u001b[0m\u001b[0;34m(\u001b[0m\u001b[0mtop_trace\u001b[0m\u001b[0;34m,\u001b[0m \u001b[0mfun\u001b[0m\u001b[0;34m,\u001b[0m \u001b[0mtracers\u001b[0m\u001b[0;34m,\u001b[0m \u001b[0mparams\u001b[0m\u001b[0;34m)\u001b[0m\u001b[0;34m\u001b[0m\u001b[0;34m\u001b[0m\u001b[0m\n\u001b[0m\u001b[1;32m   1552\u001b[0m   \u001b[0;32mreturn\u001b[0m \u001b[0mmap\u001b[0m\u001b[0;34m(\u001b[0m\u001b[0mfull_lower\u001b[0m\u001b[0;34m,\u001b[0m \u001b[0mapply_todos\u001b[0m\u001b[0;34m(\u001b[0m\u001b[0menv_trace_todo\u001b[0m\u001b[0;34m(\u001b[0m\u001b[0;34m)\u001b[0m\u001b[0;34m,\u001b[0m \u001b[0mouts\u001b[0m\u001b[0;34m)\u001b[0m\u001b[0;34m)\u001b[0m\u001b[0;34m\u001b[0m\u001b[0;34m\u001b[0m\u001b[0m\n",
      "\u001b[0;32m/opt/homebrew/lib/python3.9/site-packages/jax/core.py\u001b[0m in \u001b[0;36mprocess\u001b[0;34m(self, trace, fun, tracers, params)\u001b[0m\n\u001b[1;32m   1562\u001b[0m   \u001b[0;32mdef\u001b[0m \u001b[0mprocess\u001b[0m\u001b[0;34m(\u001b[0m\u001b[0mself\u001b[0m\u001b[0;34m,\u001b[0m \u001b[0mtrace\u001b[0m\u001b[0;34m,\u001b[0m \u001b[0mfun\u001b[0m\u001b[0;34m,\u001b[0m \u001b[0mtracers\u001b[0m\u001b[0;34m,\u001b[0m \u001b[0mparams\u001b[0m\u001b[0;34m)\u001b[0m\u001b[0;34m:\u001b[0m\u001b[0;34m\u001b[0m\u001b[0;34m\u001b[0m\u001b[0m\n\u001b[0;32m-> 1563\u001b[0;31m     \u001b[0;32mreturn\u001b[0m \u001b[0mtrace\u001b[0m\u001b[0;34m.\u001b[0m\u001b[0mprocess_call\u001b[0m\u001b[0;34m(\u001b[0m\u001b[0mself\u001b[0m\u001b[0;34m,\u001b[0m \u001b[0mfun\u001b[0m\u001b[0;34m,\u001b[0m \u001b[0mtracers\u001b[0m\u001b[0;34m,\u001b[0m \u001b[0mparams\u001b[0m\u001b[0;34m)\u001b[0m\u001b[0;34m\u001b[0m\u001b[0;34m\u001b[0m\u001b[0m\n\u001b[0m\u001b[1;32m   1564\u001b[0m \u001b[0;34m\u001b[0m\u001b[0m\n",
      "\u001b[0;32m/opt/homebrew/lib/python3.9/site-packages/jax/core.py\u001b[0m in \u001b[0;36mprocess_call\u001b[0;34m(self, primitive, f, tracers, params)\u001b[0m\n\u001b[1;32m    605\u001b[0m   \u001b[0;32mdef\u001b[0m \u001b[0mprocess_call\u001b[0m\u001b[0;34m(\u001b[0m\u001b[0mself\u001b[0m\u001b[0;34m,\u001b[0m \u001b[0mprimitive\u001b[0m\u001b[0;34m,\u001b[0m \u001b[0mf\u001b[0m\u001b[0;34m,\u001b[0m \u001b[0mtracers\u001b[0m\u001b[0;34m,\u001b[0m \u001b[0mparams\u001b[0m\u001b[0;34m)\u001b[0m\u001b[0;34m:\u001b[0m\u001b[0;34m\u001b[0m\u001b[0;34m\u001b[0m\u001b[0m\n\u001b[0;32m--> 606\u001b[0;31m     \u001b[0;32mreturn\u001b[0m \u001b[0mprimitive\u001b[0m\u001b[0;34m.\u001b[0m\u001b[0mimpl\u001b[0m\u001b[0;34m(\u001b[0m\u001b[0mf\u001b[0m\u001b[0;34m,\u001b[0m \u001b[0;34m*\u001b[0m\u001b[0mtracers\u001b[0m\u001b[0;34m,\u001b[0m \u001b[0;34m**\u001b[0m\u001b[0mparams\u001b[0m\u001b[0;34m)\u001b[0m\u001b[0;34m\u001b[0m\u001b[0;34m\u001b[0m\u001b[0m\n\u001b[0m\u001b[1;32m    607\u001b[0m   \u001b[0mprocess_map\u001b[0m \u001b[0;34m=\u001b[0m \u001b[0mprocess_call\u001b[0m\u001b[0;34m\u001b[0m\u001b[0;34m\u001b[0m\u001b[0m\n",
      "\u001b[0;32m/opt/homebrew/lib/python3.9/site-packages/jax/interpreters/xla.py\u001b[0m in \u001b[0;36m_xla_call_impl\u001b[0;34m(***failed resolving arguments***)\u001b[0m\n\u001b[1;32m    591\u001b[0m   \u001b[0;32mdel\u001b[0m \u001b[0minline\u001b[0m  \u001b[0;31m# Only used at tracing time\u001b[0m\u001b[0;34m\u001b[0m\u001b[0;34m\u001b[0m\u001b[0m\n\u001b[0;32m--> 592\u001b[0;31m   compiled_fun = _xla_callable(fun, device, backend, name, donated_invars,\n\u001b[0m\u001b[1;32m    593\u001b[0m                                *unsafe_map(arg_spec, args))\n",
      "\u001b[0;32m/opt/homebrew/lib/python3.9/site-packages/jax/linear_util.py\u001b[0m in \u001b[0;36mmemoized_fun\u001b[0;34m(fun, *args)\u001b[0m\n\u001b[1;32m    261\u001b[0m     \u001b[0;32melse\u001b[0m\u001b[0;34m:\u001b[0m\u001b[0;34m\u001b[0m\u001b[0;34m\u001b[0m\u001b[0m\n\u001b[0;32m--> 262\u001b[0;31m       \u001b[0mans\u001b[0m \u001b[0;34m=\u001b[0m \u001b[0mcall\u001b[0m\u001b[0;34m(\u001b[0m\u001b[0mfun\u001b[0m\u001b[0;34m,\u001b[0m \u001b[0;34m*\u001b[0m\u001b[0margs\u001b[0m\u001b[0;34m)\u001b[0m\u001b[0;34m\u001b[0m\u001b[0;34m\u001b[0m\u001b[0m\n\u001b[0m\u001b[1;32m    263\u001b[0m       \u001b[0mcache\u001b[0m\u001b[0;34m[\u001b[0m\u001b[0mkey\u001b[0m\u001b[0;34m]\u001b[0m \u001b[0;34m=\u001b[0m \u001b[0;34m(\u001b[0m\u001b[0mans\u001b[0m\u001b[0;34m,\u001b[0m \u001b[0mfun\u001b[0m\u001b[0;34m.\u001b[0m\u001b[0mstores\u001b[0m\u001b[0;34m)\u001b[0m\u001b[0;34m\u001b[0m\u001b[0;34m\u001b[0m\u001b[0m\n",
      "\u001b[0;32m/opt/homebrew/lib/python3.9/site-packages/jax/interpreters/xla.py\u001b[0m in \u001b[0;36m_xla_callable\u001b[0;34m(fun, device, backend, name, donated_invars, *arg_specs)\u001b[0m\n\u001b[1;32m    742\u001b[0m   \u001b[0moptions\u001b[0m\u001b[0;34m.\u001b[0m\u001b[0mparameter_is_tupled_arguments\u001b[0m \u001b[0;34m=\u001b[0m \u001b[0mtuple_args\u001b[0m\u001b[0;34m\u001b[0m\u001b[0;34m\u001b[0m\u001b[0m\n\u001b[0;32m--> 743\u001b[0;31m   \u001b[0mcompiled\u001b[0m \u001b[0;34m=\u001b[0m \u001b[0mbackend_compile\u001b[0m\u001b[0;34m(\u001b[0m\u001b[0mbackend\u001b[0m\u001b[0;34m,\u001b[0m \u001b[0mbuilt\u001b[0m\u001b[0;34m,\u001b[0m \u001b[0moptions\u001b[0m\u001b[0;34m)\u001b[0m\u001b[0;34m\u001b[0m\u001b[0;34m\u001b[0m\u001b[0m\n\u001b[0m\u001b[1;32m    744\u001b[0m   \u001b[0;32mif\u001b[0m \u001b[0mnreps\u001b[0m \u001b[0;34m==\u001b[0m \u001b[0;36m1\u001b[0m\u001b[0;34m:\u001b[0m\u001b[0;34m\u001b[0m\u001b[0;34m\u001b[0m\u001b[0m\n",
      "\u001b[0;32m/opt/homebrew/lib/python3.9/site-packages/jax/interpreters/xla.py\u001b[0m in \u001b[0;36mbackend_compile\u001b[0;34m(backend, built_c, options)\u001b[0m\n\u001b[1;32m    359\u001b[0m   \u001b[0;31m# separately in Python profiling results\u001b[0m\u001b[0;34m\u001b[0m\u001b[0;34m\u001b[0m\u001b[0m\n\u001b[0;32m--> 360\u001b[0;31m   \u001b[0;32mreturn\u001b[0m \u001b[0mbackend\u001b[0m\u001b[0;34m.\u001b[0m\u001b[0mcompile\u001b[0m\u001b[0;34m(\u001b[0m\u001b[0mbuilt_c\u001b[0m\u001b[0;34m,\u001b[0m \u001b[0mcompile_options\u001b[0m\u001b[0;34m=\u001b[0m\u001b[0moptions\u001b[0m\u001b[0;34m)\u001b[0m\u001b[0;34m\u001b[0m\u001b[0;34m\u001b[0m\u001b[0m\n\u001b[0m\u001b[1;32m    361\u001b[0m \u001b[0;34m\u001b[0m\u001b[0m\n",
      "\u001b[0;31mKeyboardInterrupt\u001b[0m: ",
      "\nDuring handling of the above exception, another exception occurred:\n",
      "\u001b[0;31mAttributeError\u001b[0m                            Traceback (most recent call last)",
      "\u001b[0;32m/opt/homebrew/lib/python3.9/site-packages/IPython/core/interactiveshell.py\u001b[0m in \u001b[0;36mshowtraceback\u001b[0;34m(self, exc_tuple, filename, tb_offset, exception_only, running_compiled_code)\u001b[0m\n\u001b[1;32m   2060\u001b[0m                         \u001b[0;31m# in the engines. This should return a list of strings.\u001b[0m\u001b[0;34m\u001b[0m\u001b[0;34m\u001b[0m\u001b[0m\n\u001b[0;32m-> 2061\u001b[0;31m                         \u001b[0mstb\u001b[0m \u001b[0;34m=\u001b[0m \u001b[0mvalue\u001b[0m\u001b[0;34m.\u001b[0m\u001b[0m_render_traceback_\u001b[0m\u001b[0;34m(\u001b[0m\u001b[0;34m)\u001b[0m\u001b[0;34m\u001b[0m\u001b[0;34m\u001b[0m\u001b[0m\n\u001b[0m\u001b[1;32m   2062\u001b[0m                     \u001b[0;32mexcept\u001b[0m \u001b[0mException\u001b[0m\u001b[0;34m:\u001b[0m\u001b[0;34m\u001b[0m\u001b[0;34m\u001b[0m\u001b[0m\n",
      "\u001b[0;31mAttributeError\u001b[0m: 'KeyboardInterrupt' object has no attribute '_render_traceback_'",
      "\nDuring handling of the above exception, another exception occurred:\n",
      "\u001b[0;31mTypeError\u001b[0m                                 Traceback (most recent call last)",
      "    \u001b[0;31m[... skipping hidden 1 frame]\u001b[0m\n",
      "\u001b[0;32m/opt/homebrew/lib/python3.9/site-packages/IPython/core/interactiveshell.py\u001b[0m in \u001b[0;36mshowtraceback\u001b[0;34m(self, exc_tuple, filename, tb_offset, exception_only, running_compiled_code)\u001b[0m\n\u001b[1;32m   2061\u001b[0m                         \u001b[0mstb\u001b[0m \u001b[0;34m=\u001b[0m \u001b[0mvalue\u001b[0m\u001b[0;34m.\u001b[0m\u001b[0m_render_traceback_\u001b[0m\u001b[0;34m(\u001b[0m\u001b[0;34m)\u001b[0m\u001b[0;34m\u001b[0m\u001b[0;34m\u001b[0m\u001b[0m\n\u001b[1;32m   2062\u001b[0m                     \u001b[0;32mexcept\u001b[0m \u001b[0mException\u001b[0m\u001b[0;34m:\u001b[0m\u001b[0;34m\u001b[0m\u001b[0;34m\u001b[0m\u001b[0m\n\u001b[0;32m-> 2063\u001b[0;31m                         stb = self.InteractiveTB.structured_traceback(etype,\n\u001b[0m\u001b[1;32m   2064\u001b[0m                                             value, tb, tb_offset=tb_offset)\n\u001b[1;32m   2065\u001b[0m \u001b[0;34m\u001b[0m\u001b[0m\n",
      "\u001b[0;32m/opt/homebrew/lib/python3.9/site-packages/IPython/core/ultratb.py\u001b[0m in \u001b[0;36mstructured_traceback\u001b[0;34m(self, etype, value, tb, tb_offset, number_of_lines_of_context)\u001b[0m\n\u001b[1;32m   1365\u001b[0m         \u001b[0;32melse\u001b[0m\u001b[0;34m:\u001b[0m\u001b[0;34m\u001b[0m\u001b[0;34m\u001b[0m\u001b[0m\n\u001b[1;32m   1366\u001b[0m             \u001b[0mself\u001b[0m\u001b[0;34m.\u001b[0m\u001b[0mtb\u001b[0m \u001b[0;34m=\u001b[0m \u001b[0mtb\u001b[0m\u001b[0;34m\u001b[0m\u001b[0;34m\u001b[0m\u001b[0m\n\u001b[0;32m-> 1367\u001b[0;31m         return FormattedTB.structured_traceback(\n\u001b[0m\u001b[1;32m   1368\u001b[0m             self, etype, value, tb, tb_offset, number_of_lines_of_context)\n\u001b[1;32m   1369\u001b[0m \u001b[0;34m\u001b[0m\u001b[0m\n",
      "\u001b[0;32m/opt/homebrew/lib/python3.9/site-packages/IPython/core/ultratb.py\u001b[0m in \u001b[0;36mstructured_traceback\u001b[0;34m(self, etype, value, tb, tb_offset, number_of_lines_of_context)\u001b[0m\n\u001b[1;32m   1265\u001b[0m         \u001b[0;32mif\u001b[0m \u001b[0mmode\u001b[0m \u001b[0;32min\u001b[0m \u001b[0mself\u001b[0m\u001b[0;34m.\u001b[0m\u001b[0mverbose_modes\u001b[0m\u001b[0;34m:\u001b[0m\u001b[0;34m\u001b[0m\u001b[0;34m\u001b[0m\u001b[0m\n\u001b[1;32m   1266\u001b[0m             \u001b[0;31m# Verbose modes need a full traceback\u001b[0m\u001b[0;34m\u001b[0m\u001b[0;34m\u001b[0m\u001b[0m\n\u001b[0;32m-> 1267\u001b[0;31m             return VerboseTB.structured_traceback(\n\u001b[0m\u001b[1;32m   1268\u001b[0m                 \u001b[0mself\u001b[0m\u001b[0;34m,\u001b[0m \u001b[0metype\u001b[0m\u001b[0;34m,\u001b[0m \u001b[0mvalue\u001b[0m\u001b[0;34m,\u001b[0m \u001b[0mtb\u001b[0m\u001b[0;34m,\u001b[0m \u001b[0mtb_offset\u001b[0m\u001b[0;34m,\u001b[0m \u001b[0mnumber_of_lines_of_context\u001b[0m\u001b[0;34m\u001b[0m\u001b[0;34m\u001b[0m\u001b[0m\n\u001b[1;32m   1269\u001b[0m             )\n",
      "\u001b[0;32m/opt/homebrew/lib/python3.9/site-packages/IPython/core/ultratb.py\u001b[0m in \u001b[0;36mstructured_traceback\u001b[0;34m(self, etype, evalue, etb, tb_offset, number_of_lines_of_context)\u001b[0m\n\u001b[1;32m   1122\u001b[0m         \u001b[0;34m\"\"\"Return a nice text document describing the traceback.\"\"\"\u001b[0m\u001b[0;34m\u001b[0m\u001b[0;34m\u001b[0m\u001b[0m\n\u001b[1;32m   1123\u001b[0m \u001b[0;34m\u001b[0m\u001b[0m\n\u001b[0;32m-> 1124\u001b[0;31m         formatted_exception = self.format_exception_as_a_whole(etype, evalue, etb, number_of_lines_of_context,\n\u001b[0m\u001b[1;32m   1125\u001b[0m                                                                tb_offset)\n\u001b[1;32m   1126\u001b[0m \u001b[0;34m\u001b[0m\u001b[0m\n",
      "\u001b[0;32m/opt/homebrew/lib/python3.9/site-packages/IPython/core/ultratb.py\u001b[0m in \u001b[0;36mformat_exception_as_a_whole\u001b[0;34m(self, etype, evalue, etb, number_of_lines_of_context, tb_offset)\u001b[0m\n\u001b[1;32m   1080\u001b[0m \u001b[0;34m\u001b[0m\u001b[0m\n\u001b[1;32m   1081\u001b[0m \u001b[0;34m\u001b[0m\u001b[0m\n\u001b[0;32m-> 1082\u001b[0;31m         \u001b[0mlast_unique\u001b[0m\u001b[0;34m,\u001b[0m \u001b[0mrecursion_repeat\u001b[0m \u001b[0;34m=\u001b[0m \u001b[0mfind_recursion\u001b[0m\u001b[0;34m(\u001b[0m\u001b[0morig_etype\u001b[0m\u001b[0;34m,\u001b[0m \u001b[0mevalue\u001b[0m\u001b[0;34m,\u001b[0m \u001b[0mrecords\u001b[0m\u001b[0;34m)\u001b[0m\u001b[0;34m\u001b[0m\u001b[0;34m\u001b[0m\u001b[0m\n\u001b[0m\u001b[1;32m   1083\u001b[0m \u001b[0;34m\u001b[0m\u001b[0m\n\u001b[1;32m   1084\u001b[0m         \u001b[0mframes\u001b[0m \u001b[0;34m=\u001b[0m \u001b[0mself\u001b[0m\u001b[0;34m.\u001b[0m\u001b[0mformat_records\u001b[0m\u001b[0;34m(\u001b[0m\u001b[0mrecords\u001b[0m\u001b[0;34m,\u001b[0m \u001b[0mlast_unique\u001b[0m\u001b[0;34m,\u001b[0m \u001b[0mrecursion_repeat\u001b[0m\u001b[0;34m)\u001b[0m\u001b[0;34m\u001b[0m\u001b[0;34m\u001b[0m\u001b[0m\n",
      "\u001b[0;32m/opt/homebrew/lib/python3.9/site-packages/IPython/core/ultratb.py\u001b[0m in \u001b[0;36mfind_recursion\u001b[0;34m(etype, value, records)\u001b[0m\n\u001b[1;32m    380\u001b[0m     \u001b[0;31m# first frame (from in to out) that looks different.\u001b[0m\u001b[0;34m\u001b[0m\u001b[0;34m\u001b[0m\u001b[0m\n\u001b[1;32m    381\u001b[0m     \u001b[0;32mif\u001b[0m \u001b[0;32mnot\u001b[0m \u001b[0mis_recursion_error\u001b[0m\u001b[0;34m(\u001b[0m\u001b[0metype\u001b[0m\u001b[0;34m,\u001b[0m \u001b[0mvalue\u001b[0m\u001b[0;34m,\u001b[0m \u001b[0mrecords\u001b[0m\u001b[0;34m)\u001b[0m\u001b[0;34m:\u001b[0m\u001b[0;34m\u001b[0m\u001b[0;34m\u001b[0m\u001b[0m\n\u001b[0;32m--> 382\u001b[0;31m         \u001b[0;32mreturn\u001b[0m \u001b[0mlen\u001b[0m\u001b[0;34m(\u001b[0m\u001b[0mrecords\u001b[0m\u001b[0;34m)\u001b[0m\u001b[0;34m,\u001b[0m \u001b[0;36m0\u001b[0m\u001b[0;34m\u001b[0m\u001b[0;34m\u001b[0m\u001b[0m\n\u001b[0m\u001b[1;32m    383\u001b[0m \u001b[0;34m\u001b[0m\u001b[0m\n\u001b[1;32m    384\u001b[0m     \u001b[0;31m# Select filename, lineno, func_name to track frames with\u001b[0m\u001b[0;34m\u001b[0m\u001b[0;34m\u001b[0m\u001b[0m\n",
      "\u001b[0;31mTypeError\u001b[0m: object of type 'NoneType' has no len()"
     ]
    }
   ],
   "source": [
    "from copy import deepcopy\n",
    "\n",
    "niter = 10000\n",
    "nburn = 5000\n",
    "thin = 1\n",
    "\n",
    "states = [deepcopy(state)]\n",
    "for i in range(niter):\n",
    "    print(\"\\r{0}/{1}\".format(i+1, niter), flush=True, end=\" \")\n",
    "    state, key = algo.run_one_step(state, data, nan_idx, nobs_by_group, prior, key)\n",
    "    if (i > nburn) and (i % thin == 0):\n",
    "        states.append(deepcopy(state))"
   ]
  },
  {
   "cell_type": "code",
   "execution_count": null,
   "id": "484cb407",
   "metadata": {},
   "outputs": [],
   "source": [
    "true_atoms = np.hstack([\n",
    "    np.array([-5, 0, 5]).reshape(-1,1),\n",
    "    np.ones((3, 1))]\n",
    ")"
   ]
  },
  {
   "cell_type": "code",
   "execution_count": null,
   "id": "30efd041",
   "metadata": {},
   "outputs": [],
   "source": [
    "area_idx = np.array([1, 2 * 3, 90, -1])\n",
    "chain_idx = np.array([1, 50, -1])\n",
    "xgrid = np.linspace(-10, 10, 1000)\n",
    "\n",
    "fig, axes = plt.subplots(nrows=1, ncols=len(area_idx), figsize=(15, 5))\n",
    "\n",
    "true_dens = get_true_dens(xgrid, weights[area_idx, :], true_atoms)\n",
    "\n",
    "for c in chain_idx:\n",
    "    curr_lam = states[c].lam[area_idx, :]\n",
    "    est_dens = eval_densities(xgrid, curr_lam, states[c].m, states[c].j, states[c].atoms)\n",
    "    for i in range(len(area_idx)):\n",
    "        axes[i].plot(xgrid, est_dens[i, :], label=\"Iter {0}\".format(c))\n",
    "        \n",
    "for i in range(len(area_idx)):\n",
    "        axes[i].plot(xgrid, true_dens[i, :], label=\"True Dens\")\n",
    "        \n",
    "axes[0].legend()\n",
    "plt.show()"
   ]
  },
  {
   "cell_type": "code",
   "execution_count": null,
   "id": "3b3c91de",
   "metadata": {},
   "outputs": [],
   "source": [
    "weights[90, :]"
   ]
  },
  {
   "cell_type": "code",
   "execution_count": null,
   "id": "f0e459d0",
   "metadata": {},
   "outputs": [],
   "source": []
  }
 ],
 "metadata": {
  "kernelspec": {
   "display_name": "Python 3",
   "language": "python",
   "name": "python3"
  },
  "language_info": {
   "codemirror_mode": {
    "name": "ipython",
    "version": 3
   },
   "file_extension": ".py",
   "mimetype": "text/x-python",
   "name": "python",
   "nbconvert_exporter": "python",
   "pygments_lexer": "ipython3",
   "version": "3.9.10"
  }
 },
 "nbformat": 4,
 "nbformat_minor": 5
}
