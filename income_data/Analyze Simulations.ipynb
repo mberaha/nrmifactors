{
 "cells": [
  {
   "cell_type": "code",
   "execution_count": null,
   "id": "0dd7a438",
   "metadata": {},
   "outputs": [],
   "source": [
    "import os\n",
    "os.environ[\"JAX_ENABLE_X64\"] = \"true\"\n",
    "\n",
    "os.chdir(\"../\")"
   ]
  },
  {
   "cell_type": "code",
   "execution_count": null,
   "id": "4f8e1bda",
   "metadata": {},
   "outputs": [],
   "source": [
    "import jax.numpy as np\n",
    "import numpy as onp\n",
    "import matplotlib.pyplot as plt\n",
    "import pickle\n",
    "\n",
    "from tensorflow_probability.substrates import jax as tfp\n",
    "tfd = tfp.distributions"
   ]
  },
  {
   "cell_type": "code",
   "execution_count": null,
   "id": "2607b180",
   "metadata": {},
   "outputs": [],
   "source": [
    "def eval_densities(xgrids, state):\n",
    "    lam = state.lam\n",
    "    m = state.m\n",
    "    j = state.j\n",
    "    atoms = state.atoms\n",
    "    weights = np.matmul(lam, m) * j\n",
    "    weights /= weights.sum(axis=1)[:, np.newaxis]\n",
    "    eval_comps = tfd.Normal(loc=atoms[:, 0], scale=np.sqrt(atoms[:, 1])).prob(xgrids[:, :, np.newaxis])\n",
    "    dens = eval_comps[:, :, :] * weights[:, np.newaxis, :]\n",
    "    dens = np.nansum(dens, axis=-1)\n",
    "    return dens"
   ]
  },
  {
   "cell_type": "code",
   "execution_count": null,
   "id": "0530f048",
   "metadata": {},
   "outputs": [],
   "source": [
    "with open(\"income_data/california_income_subsampled.pickle\", \"rb\") as fp:\n",
    "    data = pickle.load(fp).astype(np.float64)\n",
    "    data = np.array(data)\n",
    "    data = data.at[data < 0].set(np.nan)\n",
    "    data = np.log(data)"
   ]
  },
  {
   "cell_type": "code",
   "execution_count": null,
   "id": "97de16e4",
   "metadata": {},
   "outputs": [],
   "source": [
    "with open(\"income_data/california_mcmc_out_lat6.pickle\", \"rb\") as fp:\n",
    "    tmp = pickle.load(fp)\n",
    "    states = tmp[\"states\"]"
   ]
  },
  {
   "cell_type": "code",
   "execution_count": null,
   "id": "a5ab1b52",
   "metadata": {},
   "outputs": [],
   "source": [
    "xgrids = np.stack([np.linspace(0, 16, 1000)] * data.shape[0])\n",
    "dens = eval_densities(xgrids, states[-1])"
   ]
  },
  {
   "cell_type": "markdown",
   "id": "8090be5e",
   "metadata": {},
   "source": [
    "## model comparison"
   ]
  },
  {
   "cell_type": "code",
   "execution_count": null,
   "id": "a1304863",
   "metadata": {},
   "outputs": [],
   "source": [
    "from jax.scipy.special import logsumexp\n",
    "from jax import jit, vmap\n",
    "from functools import partial\n",
    "\n",
    "\n",
    "@jit\n",
    "def compute_waic(lpdf):\n",
    "    elpd = np.sum(logsumexp(lpdf, axis=0) - np.log(lpdf.shape[0]))\n",
    "    p_waic = np.sum(np.var(lpdf, axis=0))\n",
    "    return elpd - p_waic\n",
    "\n",
    "\n",
    "@partial(jit, static_argnums=(1,))\n",
    "def eval_densities(xgrids, ngroups, lam, m, j, atoms):\n",
    "    weights = np.matmul(lam, m) * j\n",
    "    weights /= weights.sum(axis=1)[:, np.newaxis]\n",
    "    dens = []\n",
    "    for i in range(ngroups):\n",
    "        eval_comps = tfd.Normal(loc=atoms[:, 0], scale=np.sqrt(atoms[:, 1])).prob(xgrids[i, :, np.newaxis])\n",
    "        curr_dens = eval_comps * weights[i, :]\n",
    "        dens.append(np.sum(curr_dens, axis=-1))\n",
    "    return np.stack(dens)"
   ]
  },
  {
   "cell_type": "code",
   "execution_count": null,
   "id": "2f3e98b8",
   "metadata": {},
   "outputs": [],
   "source": [
    "base_file = \"income_data/california_mcmc_out_lat{0}.pickle\"\n",
    "thinned = np.arange(0, 9999, 5)"
   ]
  },
  {
   "cell_type": "code",
   "execution_count": null,
   "id": "c9c919d5",
   "metadata": {},
   "outputs": [],
   "source": [
    "base_file = \"income_data/california_mcmc_out_lat{0}.pickle\"\n",
    "waics = []\n",
    "thinned = np.arange(0, 9999, 5)\n",
    "\n",
    "keep_cols = np.where(~np.isnan(data.reshape(-1, 1)))[0]\n",
    "\n",
    "for nlat in [2, 4, 6, 8, 10]:\n",
    "    fname = base_file.format(nlat)\n",
    "    with open(fname, \"rb\") as fp:\n",
    "        tmp = pickle.load(fp)\n",
    "        states = tmp[\"states\"]\n",
    "        \n",
    "    lam_chain = np.stack([x.lam for x in states])[thinned, :, :]\n",
    "    m_chain = np.stack([x.m for x in states])[thinned, :, :]\n",
    "    j_chain = np.stack([x.j for x in states])[thinned, :]\n",
    "    atom_chain = np.stack([x.atoms for x in states])[thinned, :, :]\n",
    "        \n",
    "    dens = vmap(lambda x, y, z, v: eval_densities(data, data.shape[0], x, y, z, v))(\n",
    "        lam_chain, m_chain, j_chain, atom_chain) \n",
    "    dens = dens.reshape(dens.shape[0], dens.shape[1] *  dens.shape[2])\n",
    "    dens = dens[:, keep_cols]\n",
    "    print(\"dens.shape: \", dens.shape)\n",
    "    waic = compute_waic(np.log(dens))\n",
    "    waics.append(waic)\n",
    "    print(\"nlat: {0}, waic: {1:.4f}\".format(nlat, waic))"
   ]
  },
  {
   "cell_type": "code",
   "execution_count": null,
   "id": "057de2fe",
   "metadata": {},
   "outputs": [],
   "source": [
    "plt.plot([2, 4, 6, 8, 10], waics)"
   ]
  },
  {
   "cell_type": "code",
   "execution_count": null,
   "id": "ceb0a4f4",
   "metadata": {},
   "outputs": [],
   "source": [
    "means = np.nanmean(data, axis=1)\n",
    "max_m_ind = np.argmax(means)\n",
    "min_m_ind = np.argmin(means)\n",
    "var = np.nanvar(data, axis=1)\n",
    "max_v_ind = np.argmax(var)\n",
    "min_v_ind = np.argmin(var)"
   ]
  },
  {
   "cell_type": "code",
   "execution_count": null,
   "id": "131833bc",
   "metadata": {},
   "outputs": [],
   "source": [
    "inds = (max_m_ind, min_m_ind, max_v_ind, min_v_ind)"
   ]
  },
  {
   "cell_type": "code",
   "execution_count": null,
   "id": "8a7218a8",
   "metadata": {},
   "outputs": [],
   "source": [
    "with open(base_file.format(4), \"rb\") as fp:\n",
    "    tmp = pickle.load(fp)\n",
    "    states = tmp[\"states\"]\n",
    "\n",
    "lam_chain = np.stack([x.lam for x in states])[thinned, :, :]\n",
    "m_chain = np.stack([x.m for x in states])[thinned, :, :]\n",
    "j_chain = np.stack([x.j for x in states])[thinned, :]\n",
    "atom_chain = np.stack([x.atoms for x in states])[thinned, :, :]\n",
    "\n",
    "xgrids = np.stack([np.linspace(0, 16, 1000)] * data.shape[0])\n",
    "\n",
    "dens = vmap(lambda x, y, z, v: eval_densities(xgrids, xgrids.shape[0], x, y, z, v))(\n",
    "        lam_chain, m_chain, j_chain, atom_chain) "
   ]
  },
  {
   "cell_type": "code",
   "execution_count": null,
   "id": "3f1f8476",
   "metadata": {},
   "outputs": [],
   "source": [
    "nlat = states[-1].lam.shape[1]\n",
    "\n",
    "fig, axes = plt.subplots(nrows=1, ncols=states[0].m.shape[0], figsize=(12,3))\n",
    "axes = axes.flat\n",
    "\n",
    "xgrid = xgrids[0, :]\n",
    "\n",
    "for j in np.arange(0, 10000, 100):\n",
    "    state = states[j]\n",
    "\n",
    "    eval_comps = tfd.Normal(\n",
    "        loc=state.atoms[:, 0], scale=np.sqrt(state.atoms[:, 1])).prob(xgrid[:, np.newaxis])\n",
    "    dens_lat = eval_comps[:, np.newaxis, :] * (state.m * state.j)[np.newaxis, :, :]\n",
    "    dens_lat = np.sum(dens_lat, axis=-1).T    \n",
    "\n",
    "\n",
    "    for i in range(nlat):\n",
    "        axes[i].plot(xgrid, dens_lat[i, :], label=\"j: {0}\".format(j), color=\"black\", lw=2, alpha=0.3)\n",
    "\n",
    "\n",
    "plt.tight_layout()\n",
    "# plt.savefig(\"../latex/images/income_latent_draws.pdf\", bbox_inches=\"tight\")\n",
    "plt.show()"
   ]
  },
  {
   "cell_type": "code",
   "execution_count": null,
   "id": "8b4ba706",
   "metadata": {},
   "outputs": [],
   "source": [
    "M = states[-1].m\n",
    "lam = states[-1].lam\n",
    "\n",
    "component_dens = np.array([\n",
    "    tfd.Normal(x[0], np.sqrt(x[1])).prob(xgrid) for x in states[-1].atoms])\n",
    "delta = xgrid[1] - xgrid[0]\n",
    "\n",
    "\n",
    "@jit\n",
    "def obj_func(x):\n",
    "    curr_m = x @ M\n",
    "    trans_dens = curr_m @ component_dens\n",
    "    trans_dens /= (np.sum(trans_dens, axis=1, keepdims=True) * delta)\n",
    "    out = 0.0\n",
    "    for i in range(trans_dens.shape[0]):\n",
    "        for j in range(i):\n",
    "            curr = (np.sum((trans_dens[i, :] * trans_dens[j, :])) * delta)**2  \n",
    "            out += curr\n",
    "    return out\n",
    "\n",
    "@jit\n",
    "def constraints(x):\n",
    "    return - np.concatenate([\n",
    "        (lam @ np.linalg.inv(x)).reshape(-1, 1),\n",
    "        (x @ M).reshape(-1, 1)])[:, 0]\n",
    "\n",
    "@jit\n",
    "def max0(x):\n",
    "    return x * (x > 0)\n",
    "\n",
    "@jit\n",
    "def penalty(x, lambdas):\n",
    "    return 0.5 * 1.0 * np.sum(max0(lambdas / 0.5 + constraints(x))**2)"
   ]
  },
  {
   "cell_type": "code",
   "execution_count": null,
   "id": "f3595706",
   "metadata": {},
   "outputs": [],
   "source": [
    "from jax import jacfwd, grad\n",
    "from nrmifactors.postprocess import ralm\n",
    "\n",
    "x0 = np.eye(M.shape[0])\n",
    "\n",
    "grad_f = grad(obj_func)\n",
    "f = obj_func\n",
    "constr_eval = constraints(x0)\n",
    "grad_cons = jacfwd(constraints)\n",
    "\n",
    "mu = 0.9\n",
    "stepsize = 1e-6\n",
    "init_thr = 1e-2\n",
    "target_thr = 1e-6\n",
    "min_lambda = 1e-4\n",
    "init_lambdas = np.zeros_like(constr_eval) + 10\n",
    "max_lambda = 1000\n",
    "init_rho = 10\n",
    "dmin = 1e-6\n",
    "\n",
    "\n",
    "def get_opt_q(state, init_point):\n",
    "    M = state.m\n",
    "    lam = state.lam\n",
    "    J = state.j \n",
    "    J /= np.sum(J)\n",
    "    xgrid = np.linspace(-6, 6, 1000)\n",
    "\n",
    "    component_dens = np.array([\n",
    "        tfd.Normal(x[0], np.sqrt(x[1])).prob(xgrid) for x in states[0].atoms])\n",
    "    \n",
    "    f = lambda x: obj_func(x, J, M, component_dens)\n",
    "    grad_f = grad(f)\n",
    "    grad_cons = jacfwd(constraints)\n",
    "    \n",
    "    opt_x_pen = ralm(\n",
    "        f, grad_f, constraints, grad_cons, init_point, mu, stepsize, \n",
    "        init_thr, target_thr, init_lambdas, min_lambda, max_lambda, \n",
    "        init_rho, dmin, maxiter=100)\n",
    "    return opt_x_pen"
   ]
  },
  {
   "cell_type": "code",
   "execution_count": null,
   "id": "4daa7ac6",
   "metadata": {},
   "outputs": [],
   "source": [
    "from nrmifactors.postprocess import dissipative_lie_rattle_fast\n",
    "\n",
    "x0 = np.eye(M.shape[0])\n",
    "opt_x, niter = dissipative_lie_rattle_fast(f, grad_f, x0, 0.9, 1e-5, 1e-6, maxiter=1000)"
   ]
  },
  {
   "cell_type": "code",
   "execution_count": null,
   "id": "50bee492",
   "metadata": {},
   "outputs": [],
   "source": [
    "q0 = get_opt_q(states[0], x0)\n",
    "qs = [get_opt_q(x, q0) for x in onp.array(states)[np.arange(0, 10000, 10)]]"
   ]
  },
  {
   "cell_type": "code",
   "execution_count": null,
   "id": "fcfe66c5",
   "metadata": {},
   "outputs": [],
   "source": [
    "from scipy.integrate import trapz\n",
    "\n",
    "\n",
    "fig, axes = plt.subplots(nrows=1, ncols=M.shape[0], figsize=(12,3))\n",
    "\n",
    "q = q0\n",
    "\n",
    "wh = np.where((xgrid > 5) & (xgrid < 14))[0]\n",
    "latent_mass = []\n",
    "\n",
    "means = []\n",
    "\n",
    "for j in range(M.shape[0]):\n",
    "    dens =  (q @ M @ component_dens)[j, wh]\n",
    "    latent_mass.append(np.sum(dens * delta))\n",
    "    dens = dens / np.sum(dens * delta)\n",
    "    means.append(trapz(xgrid[wh] * dens, xgrid[wh]))\n",
    "    axes[j].plot(xgrid[wh], dens)\n",
    "plt.tight_layout()\n",
    "# plt.savefig(\"../latex/images/income_latent_factors.pdf\", bbox_inches=\"tight\")"
   ]
  },
  {
   "cell_type": "code",
   "execution_count": null,
   "id": "4321dd69",
   "metadata": {},
   "outputs": [],
   "source": [
    "latent_dens = M @ component_dens\n",
    "all_dens = state.lam @latent_dens\n",
    "all_dens = all_dens / np.sum(all_dens * delta, axis=1, keepdims=True)\n",
    "mean_dens = np.mean(all_dens, axis=0) "
   ]
  },
  {
   "cell_type": "code",
   "execution_count": null,
   "id": "ef3fd928",
   "metadata": {},
   "outputs": [],
   "source": [
    "plt.plot(xgrid, mean_dens)"
   ]
  },
  {
   "cell_type": "code",
   "execution_count": null,
   "id": "52a3e350",
   "metadata": {},
   "outputs": [],
   "source": [
    "fig, axes = plt.subplots(nrows=1, ncols=M.shape[0], figsize=(12,3))\n",
    "\n",
    "q = q0\n",
    "\n",
    "wh = np.where((xgrid > 5) & (xgrid < 14))[0]\n",
    "latent_mass = []\n",
    "\n",
    "for j in range(M.shape[0]):\n",
    "    dens =  (q @ M @ component_dens)[j, wh]\n",
    "    latent_mass.append(np.sum(dens * delta))\n",
    "    dens = dens / np.sum(dens * delta)\n",
    "    axes[j].plot(xgrid[wh], dens - mean_dens[wh])\n",
    "    axes[j].set_ylim(-0.08, 0.11)\n",
    "plt.tight_layout()\n",
    "\n",
    "plt.savefig(\"../latex/images/income_latent_factors_diff.pdf\", bbox_inches=\"tight\")"
   ]
  },
  {
   "cell_type": "code",
   "execution_count": null,
   "id": "bd0e8639",
   "metadata": {},
   "outputs": [],
   "source": [
    "import numpy as onp\n",
    "\n",
    "opt_lambda = lam @ np.linalg.inv(q) * np.array(latent_mass)\n",
    "opt_lambda = onp.array(opt_lambda)\n",
    "\n",
    "with open(\"income_data/opt_lambda_scaled.pickle\", \"wb\") as fp:\n",
    "    pickle.dump(opt_lambda, fp)"
   ]
  }
 ],
 "metadata": {
  "kernelspec": {
   "display_name": "Python [conda env:scipy-dev] *",
   "language": "python",
   "name": "conda-env-scipy-dev-py"
  },
  "language_info": {
   "codemirror_mode": {
    "name": "ipython",
    "version": 3
   },
   "file_extension": ".py",
   "mimetype": "text/x-python",
   "name": "python",
   "nbconvert_exporter": "python",
   "pygments_lexer": "ipython3",
   "version": "3.10.2"
  }
 },
 "nbformat": 4,
 "nbformat_minor": 5
}
